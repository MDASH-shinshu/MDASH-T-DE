{
 "cells": [
  {
   "cell_type": "markdown",
   "metadata": {
    "id": "u5-sJJLDXT2v",
    "slideshow": {
     "slide_type": "slide"
    }
   },
   "source": [
    "# データベース\n",
    "\n",
    "《学修項目》\n",
    "*   ◎テーブル定義、ER図\n",
    "*   ◎主キーと外部キー\n",
    "*   ◎リレーショナルデータベース（RDB）\n",
    "*   データ操作⾔語（DML）、SQL\n",
    "\n",
    "《キーワード》\n",
    "> テーブル定義, 実体-関連モデル, 関係モデル, スキーマ, 関係従属性とキー, リレーショナルデータベース (RDB), SQL, RDBに対する演算\n"
   ]
  },
  {
   "cell_type": "markdown",
   "metadata": {
    "id": "xngFmphdjt1j",
    "slideshow": {
     "slide_type": "slide"
    }
   },
   "source": [
    "《参考文献，参考書籍》\n",
    "*   [1] [東京大学MIセンター公開教材 「2-4 データベース」](http://www.mi.u-tokyo.ac.jp/pdf/2-4_data_base.pdf) [《利用条件CC BY-NC-SA》](https://creativecommons.org/licenses/by-nc-sa/4.0/deed.ja)\n",
    "*   [2] [データサイエンスのためのデータベース（データサイエンス入門シリーズ）（講談社）](https://www.kspub.co.jp/book/detail/5193105.html)\n",
    "*   [3] [数理・データサイエンス・AI公開講座（放送大学）](https://www.ouj.ac.jp/booklet/2022/29_2022_MDS-AI.pdf)"
   ]
  },
  {
   "cell_type": "markdown",
   "metadata": {
    "id": "uEDbHMvA1vwi",
    "slideshow": {
     "slide_type": "slide"
    }
   },
   "source": [
    "## 1. データベースとテーブル定義"
   ]
  },
  {
   "cell_type": "markdown",
   "metadata": {
    "id": "64ojeM2oeV-K",
    "slideshow": {
     "slide_type": "slide"
    }
   },
   "source": [
    "あらまし\n",
    "\n",
    "* データベースの重要性\n",
    "* テーブル定義\n",
    "* 実体-関連モデル (ER図)\n"
   ]
  },
  {
   "cell_type": "markdown",
   "metadata": {
    "id": "APc4tAjz11Ad",
    "slideshow": {
     "slide_type": "slide"
    }
   },
   "source": [
    "### 1.1 データベースの重要性"
   ]
  },
  {
   "cell_type": "markdown",
   "metadata": {
    "id": "m2-ein_i8gGf",
    "slideshow": {
     "slide_type": "slide"
    }
   },
   "source": [
    "<figure>\n",
    "<a href=\"http://www.mi.u-tokyo.ac.jp/pdf/2-4_data_base.pdf#page=4\"><img src='https://raw.githubusercontent.com/MDASH-shinshu/MDASH-T-DE/main/4/UTAI-text/JPEG/2-4_data_base_04.jpg' alt='DBとは' width='640' border='1'></a>\n",
    "</figure>"
   ]
  },
  {
   "cell_type": "markdown",
   "metadata": {
    "id": "f6QvCvqRPe-t",
    "slideshow": {
     "slide_type": "slide"
    }
   },
   "source": [
    "### データ管理基盤としてのDB\n",
    "\n",
    "例えば，[Twitterは1分間に 57万メッセージものトラヒックがあり膨大](https://www.domo.com/learn/infographic/data-never-sleeps-9)である．Webサービス・インフラのバックエンドとして，データベース基盤は根幹をなしている．\n",
    "\n",
    "（[引用：Data Never Sleeps 9.0: ](https://www.domo.com/learn/infographic/data-never-sleeps-9)）\n",
    "\n",
    "#### 大規模データの管理・運用例\n",
    "+ 大学の学生，職員情報の管理システム\n",
    "+ 病院の患者のカルテ管理システム\n",
    "+ 遺伝子データの管理システム\n",
    "+ 判例を管理するシステム\n",
    "+ 論文を管理するシステム\n",
    "+ 商品の注文を行うシステム\n",
    "\n"
   ]
  },
  {
   "cell_type": "markdown",
   "metadata": {
    "id": "ura7P93-14TZ",
    "slideshow": {
     "slide_type": "slide"
    }
   },
   "source": [
    "### 1.2 テーブル定義"
   ]
  },
  {
   "cell_type": "markdown",
   "metadata": {
    "id": "WJWvBSBSVLa_",
    "slideshow": {
     "slide_type": "slide"
    }
   },
   "source": [
    "<figure>\n",
    "<a href=\"http://www.mi.u-tokyo.ac.jp/pdf/2-4_data_base.pdf#page=14\"><img src='https://raw.githubusercontent.com/MDASH-shinshu/MDASH-T-DE/main/4/UTAI-text/JPEG/2-4_data_base_14.jpg' alt='DB設計' width='640' border='1'></a>\n",
    "</figure>"
   ]
  },
  {
   "cell_type": "markdown",
   "metadata": {
    "id": "Y25lz70zB6N9",
    "slideshow": {
     "slide_type": "slide"
    }
   },
   "source": [
    "設計例） 旅行予約サイトにおけるDBの果たす役割（列車，飛行機，宿泊先の予約，ユーザ情報の登録）\n",
    "\n",
    "* [OREND | ホテル・宿泊予約管理システム比較](https://orend.jp/mag/a0185)\n",
    "\n",
    "関係データベースの例（各地区ごとの気象観測データ）\n",
    "+ 都道府県番号，年月日，天気，気温，湿度，風向きなどのフィールドが用意\n",
    "\n",
    "* [気象庁 | 過去の気象データ・ダウンロード](https://www.data.jma.go.jp/gmd/risk/obsdl/)\n",
    "* [長野県 > 長野市 > 気温，降水，積雪，日射，風，雲の量，天気 > 2021年1月1日から12月31日まで を条件として問い合わせ（クエリ）し，CSVデータとしてダウンロードした後，必要なカラムだけ残してUTF-8へ文字コード変換したもの (on GitHub)](https://github.com/MDASH-shinshu/MDASH-T-DE/blob/main/4/resources/JMA_Nagano_2021.csv)"
   ]
  },
  {
   "cell_type": "code",
   "execution_count": null,
   "metadata": {
    "id": "lRLa_ZnVy3my",
    "slideshow": {
     "slide_type": "slide"
    }
   },
   "outputs": [],
   "source": [
    "# CSVデータを カレントディレクトリ直下のフォルダ（一時作業領域）へダウンロードする．\n",
    "!wget -nc https://raw.githubusercontent.com/MDASH-shinshu/MDASH-T-DE/main/4/resources/JMA_Nagano_2021.csv\n",
    "\n",
    "# wgetしなくても，Google colab.の左メニュー [ファイル] アイコンをクリックして，ブラウザへファイルをドラッグ＆ドロップしても可\n",
    "\n",
    "# ファイル (JMA_Nagano_2021.csv)がダウンロード・配置できたことを確認する\n",
    "!ls -al ./"
   ]
  },
  {
   "cell_type": "code",
   "execution_count": 2,
   "metadata": {
    "colab": {
     "base_uri": "https://localhost:8080/",
     "height": 445
    },
    "executionInfo": {
     "elapsed": 372,
     "status": "ok",
     "timestamp": 1663566630321,
     "user": {
      "displayName": "和﨑克己",
      "userId": "01531185103078206810"
     },
     "user_tz": -540
    },
    "id": "4q3CnZO5ypNo",
    "outputId": "b2e5ab87-bb9d-4c85-ed15-ec49d1a10771",
    "slideshow": {
     "slide_type": "slide"
    }
   },
   "outputs": [
    {
     "data": {
      "text/html": [
       "<div>\n",
       "<style scoped>\n",
       "    .dataframe tbody tr th:only-of-type {\n",
       "        vertical-align: middle;\n",
       "    }\n",
       "\n",
       "    .dataframe tbody tr th {\n",
       "        vertical-align: top;\n",
       "    }\n",
       "\n",
       "    .dataframe thead th {\n",
       "        text-align: right;\n",
       "    }\n",
       "</style>\n",
       "<table border=\"1\" class=\"dataframe\">\n",
       "  <thead>\n",
       "    <tr style=\"text-align: right;\">\n",
       "      <th></th>\n",
       "      <th>年月日</th>\n",
       "      <th>平均気温(℃)</th>\n",
       "      <th>最高気温(℃)</th>\n",
       "      <th>最低気温(℃)</th>\n",
       "      <th>降水量の合計(mm)</th>\n",
       "      <th>日照時間(時間)</th>\n",
       "      <th>平均風速(m/s)</th>\n",
       "      <th>最大風速(m/s)</th>\n",
       "      <th>風向</th>\n",
       "      <th>最大瞬間風速(m/s)</th>\n",
       "      <th>風向.1</th>\n",
       "      <th>最多風向(16方位)</th>\n",
       "      <th>平均蒸気圧(hPa)</th>\n",
       "      <th>最小相対湿度(％)</th>\n",
       "      <th>平均湿度(％)</th>\n",
       "      <th>天気概況(昼：06時〜18時)</th>\n",
       "      <th>天気概況(夜：18時〜翌日06時)</th>\n",
       "    </tr>\n",
       "  </thead>\n",
       "  <tbody>\n",
       "    <tr>\n",
       "      <th>0</th>\n",
       "      <td>2021/1/1</td>\n",
       "      <td>-1.9</td>\n",
       "      <td>0.9</td>\n",
       "      <td>-3.5</td>\n",
       "      <td>5.5</td>\n",
       "      <td>1.4</td>\n",
       "      <td>1.2</td>\n",
       "      <td>4.9</td>\n",
       "      <td>北東</td>\n",
       "      <td>6.9</td>\n",
       "      <td>北東</td>\n",
       "      <td>東北東</td>\n",
       "      <td>4.9</td>\n",
       "      <td>77</td>\n",
       "      <td>92</td>\n",
       "      <td>雪時々曇一時晴</td>\n",
       "      <td>晴時々曇</td>\n",
       "    </tr>\n",
       "    <tr>\n",
       "      <th>1</th>\n",
       "      <td>2021/1/2</td>\n",
       "      <td>-2.3</td>\n",
       "      <td>1.3</td>\n",
       "      <td>-4.5</td>\n",
       "      <td>0.0</td>\n",
       "      <td>0.1</td>\n",
       "      <td>1.7</td>\n",
       "      <td>6.8</td>\n",
       "      <td>北</td>\n",
       "      <td>10.6</td>\n",
       "      <td>北</td>\n",
       "      <td>東北東</td>\n",
       "      <td>4.6</td>\n",
       "      <td>73</td>\n",
       "      <td>89</td>\n",
       "      <td>曇時々雪一時晴</td>\n",
       "      <td>晴時々曇一時雪</td>\n",
       "    </tr>\n",
       "    <tr>\n",
       "      <th>2</th>\n",
       "      <td>2021/1/3</td>\n",
       "      <td>-2.5</td>\n",
       "      <td>0.7</td>\n",
       "      <td>-5.5</td>\n",
       "      <td>0.0</td>\n",
       "      <td>1.6</td>\n",
       "      <td>1.3</td>\n",
       "      <td>3.6</td>\n",
       "      <td>東</td>\n",
       "      <td>4.9</td>\n",
       "      <td>東北東</td>\n",
       "      <td>東</td>\n",
       "      <td>4.6</td>\n",
       "      <td>79</td>\n",
       "      <td>89</td>\n",
       "      <td>曇時々雪一時晴</td>\n",
       "      <td>晴時々曇一時雪</td>\n",
       "    </tr>\n",
       "    <tr>\n",
       "      <th>3</th>\n",
       "      <td>2021/1/4</td>\n",
       "      <td>-1.4</td>\n",
       "      <td>3.5</td>\n",
       "      <td>-5.3</td>\n",
       "      <td>0.0</td>\n",
       "      <td>4.4</td>\n",
       "      <td>1.1</td>\n",
       "      <td>3.2</td>\n",
       "      <td>東北東</td>\n",
       "      <td>4.3</td>\n",
       "      <td>東北東</td>\n",
       "      <td>東</td>\n",
       "      <td>4.9</td>\n",
       "      <td>72</td>\n",
       "      <td>89</td>\n",
       "      <td>曇一時雪後晴</td>\n",
       "      <td>晴後時々曇</td>\n",
       "    </tr>\n",
       "    <tr>\n",
       "      <th>4</th>\n",
       "      <td>2021/1/5</td>\n",
       "      <td>-0.6</td>\n",
       "      <td>2.7</td>\n",
       "      <td>-3.0</td>\n",
       "      <td>0.0</td>\n",
       "      <td>1.5</td>\n",
       "      <td>1.0</td>\n",
       "      <td>2.7</td>\n",
       "      <td>西南西</td>\n",
       "      <td>4.0</td>\n",
       "      <td>西南西</td>\n",
       "      <td>東</td>\n",
       "      <td>5.3</td>\n",
       "      <td>76</td>\n",
       "      <td>90</td>\n",
       "      <td>曇後一時晴</td>\n",
       "      <td>曇時々晴</td>\n",
       "    </tr>\n",
       "    <tr>\n",
       "      <th>...</th>\n",
       "      <td>...</td>\n",
       "      <td>...</td>\n",
       "      <td>...</td>\n",
       "      <td>...</td>\n",
       "      <td>...</td>\n",
       "      <td>...</td>\n",
       "      <td>...</td>\n",
       "      <td>...</td>\n",
       "      <td>...</td>\n",
       "      <td>...</td>\n",
       "      <td>...</td>\n",
       "      <td>...</td>\n",
       "      <td>...</td>\n",
       "      <td>...</td>\n",
       "      <td>...</td>\n",
       "      <td>...</td>\n",
       "      <td>...</td>\n",
       "    </tr>\n",
       "    <tr>\n",
       "      <th>360</th>\n",
       "      <td>2021/12/27</td>\n",
       "      <td>-3.3</td>\n",
       "      <td>-0.3</td>\n",
       "      <td>-6.2</td>\n",
       "      <td>0.0</td>\n",
       "      <td>1.6</td>\n",
       "      <td>1.1</td>\n",
       "      <td>3.8</td>\n",
       "      <td>東</td>\n",
       "      <td>5.5</td>\n",
       "      <td>東北東</td>\n",
       "      <td>東北東</td>\n",
       "      <td>4.1</td>\n",
       "      <td>61</td>\n",
       "      <td>85</td>\n",
       "      <td>曇時々雪</td>\n",
       "      <td>雪時々曇</td>\n",
       "    </tr>\n",
       "    <tr>\n",
       "      <th>361</th>\n",
       "      <td>2021/12/28</td>\n",
       "      <td>-2.0</td>\n",
       "      <td>1.7</td>\n",
       "      <td>-5.3</td>\n",
       "      <td>2.0</td>\n",
       "      <td>5.9</td>\n",
       "      <td>2.3</td>\n",
       "      <td>6.0</td>\n",
       "      <td>東北東</td>\n",
       "      <td>8.2</td>\n",
       "      <td>東北東</td>\n",
       "      <td>東北東</td>\n",
       "      <td>4.4</td>\n",
       "      <td>64</td>\n",
       "      <td>84</td>\n",
       "      <td>晴時々曇一時雪</td>\n",
       "      <td>晴後一時曇</td>\n",
       "    </tr>\n",
       "    <tr>\n",
       "      <th>362</th>\n",
       "      <td>2021/12/29</td>\n",
       "      <td>-1.3</td>\n",
       "      <td>5.8</td>\n",
       "      <td>-8.0</td>\n",
       "      <td>0.0</td>\n",
       "      <td>8.2</td>\n",
       "      <td>1.3</td>\n",
       "      <td>3.5</td>\n",
       "      <td>南南西</td>\n",
       "      <td>6.0</td>\n",
       "      <td>南南西</td>\n",
       "      <td>南南西</td>\n",
       "      <td>4.2</td>\n",
       "      <td>47</td>\n",
       "      <td>76</td>\n",
       "      <td>晴一時曇</td>\n",
       "      <td>晴後曇一時雪</td>\n",
       "    </tr>\n",
       "    <tr>\n",
       "      <th>363</th>\n",
       "      <td>2021/12/30</td>\n",
       "      <td>0.0</td>\n",
       "      <td>2.0</td>\n",
       "      <td>-1.9</td>\n",
       "      <td>7.0</td>\n",
       "      <td>0.2</td>\n",
       "      <td>1.4</td>\n",
       "      <td>4.0</td>\n",
       "      <td>東</td>\n",
       "      <td>6.6</td>\n",
       "      <td>東</td>\n",
       "      <td>東</td>\n",
       "      <td>5.9</td>\n",
       "      <td>86</td>\n",
       "      <td>96</td>\n",
       "      <td>みぞれ時々曇一時雪、雷を伴う</td>\n",
       "      <td>曇時々雪一時みぞれ</td>\n",
       "    </tr>\n",
       "    <tr>\n",
       "      <th>364</th>\n",
       "      <td>2021/12/31</td>\n",
       "      <td>-3.3</td>\n",
       "      <td>-0.5</td>\n",
       "      <td>-5.3</td>\n",
       "      <td>4.5</td>\n",
       "      <td>0.0</td>\n",
       "      <td>2.5</td>\n",
       "      <td>5.1</td>\n",
       "      <td>東</td>\n",
       "      <td>7.6</td>\n",
       "      <td>北東</td>\n",
       "      <td>東北東</td>\n",
       "      <td>4.4</td>\n",
       "      <td>59</td>\n",
       "      <td>92</td>\n",
       "      <td>雪時々曇</td>\n",
       "      <td>曇時々雪</td>\n",
       "    </tr>\n",
       "  </tbody>\n",
       "</table>\n",
       "<p>365 rows × 17 columns</p>\n",
       "</div>"
      ],
      "text/plain": [
       "            年月日  平均気温(℃)  最高気温(℃)  最低気温(℃)  降水量の合計(mm)  日照時間(時間)  平均風速(m/s)  \\\n",
       "0      2021/1/1     -1.9      0.9     -3.5         5.5       1.4        1.2   \n",
       "1      2021/1/2     -2.3      1.3     -4.5         0.0       0.1        1.7   \n",
       "2      2021/1/3     -2.5      0.7     -5.5         0.0       1.6        1.3   \n",
       "3      2021/1/4     -1.4      3.5     -5.3         0.0       4.4        1.1   \n",
       "4      2021/1/5     -0.6      2.7     -3.0         0.0       1.5        1.0   \n",
       "..          ...      ...      ...      ...         ...       ...        ...   \n",
       "360  2021/12/27     -3.3     -0.3     -6.2         0.0       1.6        1.1   \n",
       "361  2021/12/28     -2.0      1.7     -5.3         2.0       5.9        2.3   \n",
       "362  2021/12/29     -1.3      5.8     -8.0         0.0       8.2        1.3   \n",
       "363  2021/12/30      0.0      2.0     -1.9         7.0       0.2        1.4   \n",
       "364  2021/12/31     -3.3     -0.5     -5.3         4.5       0.0        2.5   \n",
       "\n",
       "     最大風速(m/s)   風向  最大瞬間風速(m/s) 風向.1 最多風向(16方位)  平均蒸気圧(hPa)  最小相対湿度(％)  \\\n",
       "0          4.9   北東          6.9   北東        東北東         4.9         77   \n",
       "1          6.8    北         10.6    北        東北東         4.6         73   \n",
       "2          3.6    東          4.9  東北東          東         4.6         79   \n",
       "3          3.2  東北東          4.3  東北東          東         4.9         72   \n",
       "4          2.7  西南西          4.0  西南西          東         5.3         76   \n",
       "..         ...  ...          ...  ...        ...         ...        ...   \n",
       "360        3.8    東          5.5  東北東        東北東         4.1         61   \n",
       "361        6.0  東北東          8.2  東北東        東北東         4.4         64   \n",
       "362        3.5  南南西          6.0  南南西        南南西         4.2         47   \n",
       "363        4.0    東          6.6    東          東         5.9         86   \n",
       "364        5.1    東          7.6   北東        東北東         4.4         59   \n",
       "\n",
       "     平均湿度(％) 天気概況(昼：06時〜18時) 天気概況(夜：18時〜翌日06時)  \n",
       "0         92         雪時々曇一時晴              晴時々曇  \n",
       "1         89         曇時々雪一時晴           晴時々曇一時雪  \n",
       "2         89         曇時々雪一時晴           晴時々曇一時雪  \n",
       "3         89          曇一時雪後晴             晴後時々曇  \n",
       "4         90           曇後一時晴              曇時々晴  \n",
       "..       ...             ...               ...  \n",
       "360       85            曇時々雪              雪時々曇  \n",
       "361       84         晴時々曇一時雪             晴後一時曇  \n",
       "362       76            晴一時曇            晴後曇一時雪  \n",
       "363       96  みぞれ時々曇一時雪、雷を伴う         曇時々雪一時みぞれ  \n",
       "364       92            雪時々曇              曇時々雪  \n",
       "\n",
       "[365 rows x 17 columns]"
      ]
     },
     "metadata": {},
     "output_type": "display_data"
    }
   ],
   "source": [
    "# CSVファイルをpandasで読み込んでデータフレーム df を表示（簡単データベース）\n",
    "import pandas as pd\n",
    "from IPython.display import display\n",
    "\n",
    "df = pd.read_csv('JMA_Nagano_2021.csv')\n",
    "display(df)\n"
   ]
  },
  {
   "cell_type": "markdown",
   "metadata": {
    "id": "GvXhw-cY1_Jc",
    "slideshow": {
     "slide_type": "slide"
    }
   },
   "source": [
    "### 1.3 実体-関連モデル (ER図)"
   ]
  },
  {
   "cell_type": "markdown",
   "metadata": {
    "id": "DlQBBL_qVgjT",
    "slideshow": {
     "slide_type": "slide"
    }
   },
   "source": [
    "<figure>\n",
    "<a href=\"http://www.mi.u-tokyo.ac.jp/pdf/2-4_data_base.pdf#page=16\"><img src='https://raw.githubusercontent.com/MDASH-shinshu/MDASH-T-DE/main/4/UTAI-text/JPEG/2-4_data_base_16.jpg' alt='ERモデル' width='640' border='1'></a>\n",
    "</figure>"
   ]
  },
  {
   "cell_type": "markdown",
   "metadata": {
    "id": "1iR7XwNCVb5t",
    "slideshow": {
     "slide_type": "slide"
    }
   },
   "source": [
    "<figure>\n",
    "<a href=\"http://www.mi.u-tokyo.ac.jp/pdf/2-4_data_base.pdf#page=15\"><img src='https://raw.githubusercontent.com/MDASH-shinshu/MDASH-T-DE/main/4/UTAI-text/JPEG/2-4_data_base_15.jpg' alt='ERモデル' width='640' border='1'></a>\n",
    "</figure>"
   ]
  },
  {
   "cell_type": "markdown",
   "metadata": {
    "id": "jmjUb-CE3QgB",
    "slideshow": {
     "slide_type": "slide"
    }
   },
   "source": [
    "#### 実体-関連モデル (ER)\n",
    "\n",
    "* 実体は [四角], 属性は (楕円) で表現する．実体集合間の関連 は <ひし形> で表現する\n",
    "\n",
    "```\n",
    "[科目]:(科目番号), (科目名)\n",
    "[部局]:(部局番号), (部局名)\n",
    "<開講>:(開講コード), [科目], [部局], \n",
    "```"
   ]
  },
  {
   "cell_type": "markdown",
   "metadata": {
    "id": "GXlVr5g7VmuO",
    "slideshow": {
     "slide_type": "slide"
    }
   },
   "source": [
    "<figure>\n",
    "<a href=\"http://www.mi.u-tokyo.ac.jp/pdf/2-4_data_base.pdf#page=17\"><img src='https://raw.githubusercontent.com/MDASH-shinshu/MDASH-T-DE/main/4/UTAI-text/JPEG/2-4_data_base_17.jpg' alt='ERモデル' width='640' border='1'></a>\n",
    "</figure>"
   ]
  },
  {
   "cell_type": "markdown",
   "metadata": {
    "id": "JYAbwGs3Pn2q",
    "slideshow": {
     "slide_type": "slide"
    }
   },
   "source": [
    "### ERモデルから関係データベースへの変換ルール\n",
    "\n",
    "* 実体集合：属性をそのまま列にする\n",
    "* 関連：2つの実体の主キーと関連の属性を列にする\n",
    "\n",
    "→ 変換後は，複数の実体集合をデータ項目（親テーブル）として，外部参照しながら関連性を表したもの（子テーブル）を作成することとなる．"
   ]
  },
  {
   "cell_type": "markdown",
   "metadata": {
    "id": "l9KSJQp-M5wo",
    "slideshow": {
     "slide_type": "slide"
    }
   },
   "source": [
    "## 2. 主キーと外部キー"
   ]
  },
  {
   "cell_type": "markdown",
   "metadata": {
    "id": "oY9NlYr_DE27",
    "slideshow": {
     "slide_type": "slide"
    }
   },
   "source": [
    "あらまし\n",
    "\n",
    "* 関係モデル\n",
    "* スキーマ\n",
    "* 関係モデルの定式化\n",
    "* 関係従属性とキー\n",
    "* 関数従属性\n",
    "* 主キー, 外部キー，参照制約"
   ]
  },
  {
   "cell_type": "markdown",
   "metadata": {
    "id": "KD_cJh2AM7r8",
    "slideshow": {
     "slide_type": "slide"
    }
   },
   "source": [
    "### 2.1 関係モデルとしてのリレーショナルデータベース(RDB)"
   ]
  },
  {
   "cell_type": "markdown",
   "metadata": {
    "id": "vOMJGHEZPPQ2",
    "slideshow": {
     "slide_type": "slide"
    }
   },
   "source": [
    "<figure>\n",
    "<a href=\"http://www.mi.u-tokyo.ac.jp/pdf/2-4_data_base.pdf#page=5\"><img src='https://raw.githubusercontent.com/MDASH-shinshu/MDASH-T-DE/main/4/UTAI-text/JPEG/2-4_data_base_05.jpg' alt='RDBとは' width='640' border='1'></a>\n",
    "</figure>"
   ]
  },
  {
   "cell_type": "markdown",
   "metadata": {
    "id": "-MiUeKy0PTeP",
    "slideshow": {
     "slide_type": "slide"
    }
   },
   "source": [
    "### 関係モデル\n",
    "\n",
    "データを関係で表現するモデル．RDBとは関係表の集合と言える\n",
    "\n",
    "+ データテーブル：実体\n",
    "+ データ項目：属性集合（スキーマ）\n",
    "+ フィールド名：属性（カラム）\n",
    "+ 各データレコード：タプル（行）\n",
    "\n",
    "→ 上記全てをあわせて　関係　と呼ぶ"
   ]
  },
  {
   "cell_type": "markdown",
   "metadata": {
    "id": "4q20xCt5P_5u",
    "slideshow": {
     "slide_type": "slide"
    }
   },
   "source": [
    "### 2.2 スキーマ\n",
    "\n",
    "表の名前と属性の集合 ＜表の名前＞（＜属性1＞，…）のように表現する\n",
    "\n",
    "> 例）学生（学生番号, 名前, 入学年）<br>\n",
    "> 科目（科目番号，科目名，中間試験の有無）"
   ]
  },
  {
   "cell_type": "markdown",
   "metadata": {
    "id": "xzFwIMCyQChK",
    "slideshow": {
     "slide_type": "slide"
    }
   },
   "source": [
    "### 2.3 関係モデルの定式化の例\n",
    "\n",
    "+ 属性：科目（科目番号，科目名，中間試験の有無）\n",
    "+ 属性の定義域：科目番号={C001,C002,...}，科目名={データ管理, 情報基礎, ...}，中間試験の有無={有,無}\n",
    "\n",
    "+ 関係 R ⊆ 科目番号 x 科目名 x 中間試験の有無　（直積集合）\n",
    "\n",
    "→ 各データレコードは，関係R の 元となる．"
   ]
  },
  {
   "cell_type": "markdown",
   "metadata": {
    "id": "FyS4zUnWQFYH",
    "slideshow": {
     "slide_type": "slide"
    }
   },
   "source": [
    "### 2.4 関係従属性とキー\n",
    "関係内のルールのようなもの\n",
    "+ 関係従属性の例：「学生番号が決まれば，名前も一意に決まる」\n",
    "+ キーの例：「学生番号が決まれば，1人の学生を特定できる」\n",
    "\n",
    "誰が関係従属性を決めるのか？\n",
    "+ データの性質によって決めていく\n",
    "+ RDB設計者の裁量による"
   ]
  },
  {
   "cell_type": "markdown",
   "metadata": {
    "id": "vk0pbzhOQH_n",
    "slideshow": {
     "slide_type": "slide"
    }
   },
   "source": [
    "### 2.5 関数従属性の例\n",
    "\n",
    "【定義】ある関係Rに，関係従属性 X→Y がある<br>\n",
    "　　　⇔関係Rにおいて，属性Xの値が属性Yの値を一意に決定する\n",
    "\n",
    "つまり，任意の2つのタプルの属性Xの値が同じであれば，それらのタプルYの値も同じである．\n",
    "\n",
    "> 例）学生番号→名前，科目番号→科目名が関数従属性を有する"
   ]
  },
  {
   "cell_type": "markdown",
   "metadata": {
    "id": "sdlCj8C6QK5h",
    "slideshow": {
     "slide_type": "slide"
    }
   },
   "source": [
    "### 2.6 主キー, 外部キー，参照制約 【重要】\n",
    "\n",
    "主キー：データベースの設計者が属性集合の中から１つ選んだキーのこと\n",
    "+ スキーマの属性に下線を引くことで，主キーを表す\n",
    "\n",
    "> 例）学生（<u>学生番号</u>, 名前, 入学年）<br>\n",
    "> 科目（<u>科目番号</u>，科目名，中間試験の有無）\n",
    "※主キーで，1つのタプル（データレコード）を指定することが多い\n",
    "\n",
    "外部キー：関係表の表のある列に，別の関係表の特定の列に登録されている項目した入力できないように指定する属性のこと\n",
    "\n",
    "参照制約：外部キーを設定することで，参照先の関係表の指定された列に，登録された値しか書き込むことができない制約のこと（複数の実体集合をデータ項目とした関係（子テーブル）で用いられる）"
   ]
  },
  {
   "cell_type": "markdown",
   "metadata": {
    "id": "1nKEHuopU3tt",
    "slideshow": {
     "slide_type": "slide"
    }
   },
   "source": [
    "<figure>\n",
    "<a href=\"http://www.mi.u-tokyo.ac.jp/pdf/2-4_data_base.pdf#page=12\"><img src='https://raw.githubusercontent.com/MDASH-shinshu/MDASH-T-DE/main/4/UTAI-text/JPEG/2-4_data_base_12.jpg' alt='主キー' width='640' border='1'></a>\n",
    "</figure>"
   ]
  },
  {
   "cell_type": "markdown",
   "metadata": {
    "id": "l8arImX4U9V5",
    "slideshow": {
     "slide_type": "slide"
    }
   },
   "source": [
    "<figure>\n",
    "<a href=\"http://www.mi.u-tokyo.ac.jp/pdf/2-4_data_base.pdf#page=13\"><img src='https://raw.githubusercontent.com/MDASH-shinshu/MDASH-T-DE/main/4/UTAI-text/JPEG/2-4_data_base_13.jpg' alt='外部キー' width='640' border='1'></a>\n",
    "</figure>"
   ]
  },
  {
   "cell_type": "markdown",
   "metadata": {
    "id": "_VOfzE9QM91e",
    "slideshow": {
     "slide_type": "slide"
    }
   },
   "source": [
    "## 3. リレーショナルデータベース (RDB)とSQLによる操作"
   ]
  },
  {
   "cell_type": "markdown",
   "metadata": {
    "id": "z2bZjkvgTyul",
    "slideshow": {
     "slide_type": "slide"
    }
   },
   "source": [
    "あらまし\n",
    "\n",
    "* SQL (Structured Query Language)\n",
    "* クエリ（Query:検索）\n",
    "* 関係データベースに対する演算\n"
   ]
  },
  {
   "cell_type": "markdown",
   "metadata": {
    "id": "1gkbYO5gNx-B",
    "slideshow": {
     "slide_type": "slide"
    }
   },
   "source": [
    "### 3.1 リレーショナルデータベース(RDB)とは"
   ]
  },
  {
   "cell_type": "markdown",
   "metadata": {
    "id": "cUZmHBaeN3Ce",
    "slideshow": {
     "slide_type": "slide"
    }
   },
   "source": [
    "<figure>\n",
    "<a href=\"http://www.mi.u-tokyo.ac.jp/pdf/2-4_data_base.pdf#page=5\"><img src='https://raw.githubusercontent.com/MDASH-shinshu/MDASH-T-DE/main/4/UTAI-text/JPEG/2-4_data_base_05.jpg' alt='RDBとは' width='640' border='1'></a>\n",
    "</figure>"
   ]
  },
  {
   "cell_type": "markdown",
   "metadata": {
    "id": "Crrlyna3OBk6",
    "slideshow": {
     "slide_type": "slide"
    }
   },
   "source": [
    "### 3.2 データベース管理言語 (DML) "
   ]
  },
  {
   "cell_type": "markdown",
   "metadata": {
    "id": "ur9G9ekzOIVr",
    "slideshow": {
     "slide_type": "slide"
    }
   },
   "source": [
    "<figure>\n",
    "<a href=\"http://www.mi.u-tokyo.ac.jp/pdf/2-4_data_base.pdf#page=6\"><img src='https://raw.githubusercontent.com/MDASH-shinshu/MDASH-T-DE/main/4/UTAI-text/JPEG/2-4_data_base_06.jpg' alt='DMLとは' width='640' border='1'></a>\n",
    "</figure>"
   ]
  },
  {
   "cell_type": "markdown",
   "metadata": {
    "id": "WpSeFUS_QQIN",
    "slideshow": {
     "slide_type": "slide"
    }
   },
   "source": [
    "### 3.3 SQL (Structured Query Language)\n",
    "関係データベース言語\n",
    "+ スキーマ定義やデータ操作などを行うための言語\n",
    "+ ISO (国際標準機構) によって標準化\n",
    "+ 異なる関係データベース管理システム上で動作（プットフォーム非依存．ミドルウェアと呼ぶ）\n",
    "+ 関係代数の演算（制限，射影，結合，直積）を記述する"
   ]
  },
  {
   "cell_type": "markdown",
   "metadata": {
    "id": "u2gNAuBvQWKg",
    "slideshow": {
     "slide_type": "slide"
    }
   },
   "source": [
    "### クエリ（Query:検索）\n",
    "+ 検索結果を得るための問い合わせ\n",
    "+ リレーショナルデータベースでは，データの登録，検索，削除，更新をSQLによって行うことができる．"
   ]
  },
  {
   "cell_type": "markdown",
   "metadata": {
    "id": "YN0Jt-f2QZit",
    "slideshow": {
     "slide_type": "slide"
    }
   },
   "source": [
    "### 3.4 関係データベースに対する演算\n",
    "+ 制限：いくつかのタプル（行）の抽出\n",
    "+ 射影：いくつかの属性（カラム）の抽出\n",
    "+ 結合：ある属性で関係AとBを結びつける\n",
    "+ 直積：関係AとBの組み合わせの「全てのパターン」を得る"
   ]
  },
  {
   "cell_type": "markdown",
   "metadata": {
    "id": "IZCd45tsQcfa",
    "slideshow": {
     "slide_type": "slide"
    }
   },
   "source": [
    "#### 3.4.1 制限\n",
    "ある条件に該当するタプル（行）の取得\n",
    "表計算ソフトの場合，必要が行だけを残す（選択）することに相当する\n",
    "\n",
    "> 例）家賃がX万円以上，Y万円以下のアパートを探したい<br>\n",
    "> 駅から徒歩T分以内のホテルを探したい\n",
    "など\n",
    "\n",
    "```\n",
    "# SQLによる操作例\n",
    "SELECT * FROM purchase_history\n",
    "WHERE ID = '001001'\n",
    "```\n"
   ]
  },
  {
   "cell_type": "markdown",
   "metadata": {
    "id": "aw7DXdvlQlCI",
    "slideshow": {
     "slide_type": "slide"
    }
   },
   "source": [
    "#### 3.4.2 射影\n",
    "ある属性（カラム）だけを取得\n",
    "表計算ソフトの場合，必要が列だけを残す（選択）することに相当する\n",
    "\n",
    "> 例）賃貸DBから，家賃と駅からの距離の2カラムだけに絞りたい<br>\n",
    "> カメラの購入時比較のため，名前，値段，画素数だけに絞りたい\n",
    "> など\n",
    "\n",
    "```\n",
    "# SQLによる操作例\n",
    "SELECT ID, Name, Item \n",
    "FROM purchase_history\n",
    "```"
   ]
  },
  {
   "cell_type": "markdown",
   "metadata": {
    "id": "QDs3U_7jQns-",
    "slideshow": {
     "slide_type": "slide"
    }
   },
   "source": [
    "#### 3.4.3 直積\n",
    "複数の関係（テーブル）を単純に直積集合で求める\n",
    "\n",
    "> 例）顧客テーブル，レンタル履歴テーブル，レンタル商品を結合して，ある人が過去に借りた商品を（横断的に）調べたい\n",
    "\n",
    "※表計算ソフトでは非常に高コストな操作となるが，RDBであればviewという形で実現できる\n",
    "\n",
    "```\n",
    "# SQLによる操作例\n",
    "SELECT ID, faculties.Name, Age, courses.Name\n",
    "FROM faculties, courses\n",
    "```\n"
   ]
  },
  {
   "cell_type": "markdown",
   "metadata": {
    "id": "eUatcysGQqQO",
    "slideshow": {
     "slide_type": "slide"
    }
   },
   "source": [
    "#### 3.4.4 結合\n",
    "複数の関係（テーブル）の直積集合のviewから，必要なレコードだけを抽出する\n",
    "結合 := 直積 >> 制限 とも言える\n",
    "\n",
    "```\n",
    "# SQLによる操作例\n",
    "SELECT customers.ID, Name, Age, Item\n",
    "FROM customers, purchase_history\n",
    "WHERE customers.ID = purchase_history.ID\n",
    "```\n",
    "\n"
   ]
  },
  {
   "cell_type": "markdown",
   "metadata": {
    "id": "XdWB-QDZUR3D",
    "slideshow": {
     "slide_type": "slide"
    }
   },
   "source": [
    "### 3.5 SQL言語によるデータベース操作の実例"
   ]
  },
  {
   "cell_type": "markdown",
   "metadata": {
    "id": "iZDSAkqEFp6B",
    "slideshow": {
     "slide_type": "slide"
    }
   },
   "source": [
    "#### 3.5.1 気象データベースからの検索例 (Python SQLite3)"
   ]
  },
  {
   "cell_type": "code",
   "execution_count": 3,
   "metadata": {
    "id": "SDpWKHwVF3PM",
    "slideshow": {
     "slide_type": "slide"
    }
   },
   "outputs": [],
   "source": [
    "# CSVファイルをpandasで読み込んでデータフレームdfに格納\n",
    "import sys\n",
    "import pandas as pd\n",
    "from IPython.display import display\n",
    "import sqlite3\n",
    "\n",
    "df = pd.read_csv('JMA_Nagano_2021.csv')\n",
    "df.columns = ['date','temp_ave','temp_high','temp_low','rain_total','sun_shine','wind_ave','wind_max','wind_dir','wind_peak','wind_dir2','wind_dir16','humid_ave','humid_max','humid_ave2','forecast_day','forecast_night']\n",
    "\n",
    "##display(df)"
   ]
  },
  {
   "cell_type": "code",
   "execution_count": 4,
   "metadata": {
    "executionInfo": {
     "elapsed": 4,
     "status": "ok",
     "timestamp": 1663565661535,
     "user": {
      "displayName": "和﨑克己",
      "userId": "01531185103078206810"
     },
     "user_tz": -540
    },
    "id": "LalJvtvlHDUo",
    "slideshow": {
     "slide_type": "slide"
    }
   },
   "outputs": [],
   "source": [
    "\n",
    "# データベースを新規作成して、接続する\n",
    "dbname = ('weather.db') #データベース名.db拡張子で設定（カレントディレクトリに通常のファイルとして実体がある）\n",
    "conn = sqlite3.connect(dbname, isolation_level=None) #データベースを作成、自動コミット機能ON\n",
    "cursor = conn.cursor() #カーソルオブジェクトを作成\n"
   ]
  },
  {
   "cell_type": "code",
   "execution_count": 5,
   "metadata": {
    "executionInfo": {
     "elapsed": 4,
     "status": "ok",
     "timestamp": 1663565661535,
     "user": {
      "displayName": "和﨑克己",
      "userId": "01531185103078206810"
     },
     "user_tz": -540
    },
    "id": "EwcH2o0EH2gh",
    "slideshow": {
     "slide_type": "slide"
    }
   },
   "outputs": [],
   "source": [
    "# nagano2021テーブル　： 年月日,平均気温(℃),最高気温(℃),最低気温(℃),降水量の合計(mm),日照時間(時間),平均風速(m/s),最大風速(m/s),風向,最大瞬間風速(m/s),風向,最多風向(16方位),平均蒸気圧(hPa),最小相対湿度(％),平均湿度(％),天気概況(昼：06時〜18時),天気概況(夜：18時〜翌日06時)\n",
    "sql = \"\"\"CREATE TABLE IF NOT EXISTS nagano2021(date,temp_ave,temp_high,temp_low,rain_total,sun_shine,wind_ave,wind_max,wind_dir,wind_peak,wind_dir2,wind_dir16,humid_ave,humid_max,humid_ave2,forecast_day,forecast_night)\"\"\"\n",
    "\n",
    "cursor.execute(sql) #executeコマンドでSQL文を実行\n",
    "conn.commit() #データベースにコミット\n",
    "cursor = conn.cursor() #カーソルオブジェクトを作成"
   ]
  },
  {
   "cell_type": "code",
   "execution_count": 20,
   "metadata": {
    "executionInfo": {
     "elapsed": 2956,
     "status": "ok",
     "timestamp": 1663565812458,
     "user": {
      "displayName": "和﨑克己",
      "userId": "01531185103078206810"
     },
     "user_tz": -540
    },
    "id": "pVhJeKI_JeVi",
    "slideshow": {
     "slide_type": "slide"
    }
   },
   "outputs": [],
   "source": [
    "# pandas DataFrameから nagano2021テーブルに全てインポートする\n",
    "df.to_sql('nagano2021',conn,if_exists='append',index=None)\n",
    "conn.commit() #データベースにコミット"
   ]
  },
  {
   "cell_type": "code",
   "execution_count": 25,
   "metadata": {
    "colab": {
     "base_uri": "https://localhost:8080/"
    },
    "executionInfo": {
     "elapsed": 328,
     "status": "ok",
     "timestamp": 1663566576134,
     "user": {
      "displayName": "和﨑克己",
      "userId": "01531185103078206810"
     },
     "user_tz": -540
    },
    "id": "7JPqiWeLOBrh",
    "outputId": "f706b2e6-8d77-4ebe-c8fa-279f6cb91f48",
    "slideshow": {
     "slide_type": "slide"
    }
   },
   "outputs": [
    {
     "name": "stdout",
     "output_type": "stream",
     "text": [
      "[('2021/8/3', 30.1, 35.5, 26.5, 0.0, 8.2, 4.5, 6.7, '西南西', 11.2, '南西', '西南西', 25.3, 41, 60, '晴時々曇', '晴時々曇'), ('2021/8/4', 29.0, 35.2, 24.9, 0.0, 12.0, 2.9, 6.8, '北', 11.5, '北', '北', 26.8, 49, 67, '晴、雷を伴う', '晴時々曇'), ('2021/8/6', 29.8, 37.3, 23.8, 0.0, 12.2, 3.5, 6.7, '東', 9.8, '南西', '西南西', 22.4, 26, 56, '晴', '曇時々晴一時雨'), ('2021/8/7', 29.3, 35.1, 25.8, 0.0, 6.2, 3.5, 6.4, '南西', 11.7, '南西', '西南西', 25.1, 43, 62, '晴時々曇', '曇')]\n"
     ]
    }
   ],
   "source": [
    "## クエリ例1) nagano2021テーブルの temp_ave が 29度から35度の間であった日を抽出する\n",
    "sql = \"\"\"SELECT * FROM nagano2021 WHERE temp_ave BETWEEN 29 and 35;\"\"\"\n",
    "cursor.execute(sql)\n",
    "print(cursor.fetchall())#全レコードを取り出す"
   ]
  },
  {
   "cell_type": "code",
   "execution_count": 8,
   "metadata": {
    "colab": {
     "base_uri": "https://localhost:8080/"
    },
    "executionInfo": {
     "elapsed": 291,
     "status": "ok",
     "timestamp": 1663566548922,
     "user": {
      "displayName": "和﨑克己",
      "userId": "01531185103078206810"
     },
     "user_tz": -540
    },
    "id": "PxpY7lDWQZyz",
    "outputId": "3dfdbd65-9895-475e-c03e-7f9350d172e3",
    "slideshow": {
     "slide_type": "slide"
    }
   },
   "outputs": [
    {
     "name": "stdout",
     "output_type": "stream",
     "text": [
      "[('2021/1/14', 1.4, 9.0, -3.9, 0.0, 8.2, 2.4, 8.5, '北東', 12.9, '北東', '北東', 5.6, 55, 83, '晴後一時雨、みぞれを伴う', '晴時々曇'), ('2021/1/16', 0.6, 3.8, -1.9, 11.0, 1.3, 2.5, 6.0, '東北東', 9.1, '東北東', '東北東', 5.8, 71, 91, 'みぞれ時々曇一時雪', '曇時々晴一時雪、みぞれを伴う'), ('2021/1/22', 1.4, 6.3, -3.8, 0.0, 3.5, 0.9, 2.2, '南西', 4.0, '西南西', '東南東', 5.9, 56, 87, '曇時々晴後一時雨、みぞれを伴う', '曇時々晴'), ('2021/1/23', 2.7, 4.4, 0.8, 3.5, 0.0, 1.5, 3.8, '東南東', 5.5, '東南東', '東北東', 6.5, 68, 88, '曇後時々みぞれ', 'みぞれ後時々雨'), ('2021/1/27', 5.2, 9.6, 2.2, 1.0, 2.6, 3.6, 9.5, '北', 15.4, '北北東', '北北東', 7.2, 65, 81, '曇後一時雨、みぞれを伴う', '曇'), ('2021/1/31', -0.8, 2.6, -4.1, 0.5, 3.0, 3.2, 7.9, '東', 12.4, '東', '東北東', 5.1, 65, 88, '雪時々曇、みぞれを伴う', '晴'), ('2021/2/2', 2.9, 7.7, -1.7, 6.5, 1.0, 3.2, 9.6, '東', 15.0, '東', '東北東', 6.8, 72, 89, '曇時々雨、みぞれを伴う', '晴後曇一時雪'), ('2021/2/4', -0.6, 3.5, -4.4, 0.0, 0.6, 1.8, 6.3, '西南西', 9.6, '南', '北東', 4.8, 47, 82, '曇後時々みぞれ一時雪', '曇一時雪'), ('2021/2/7', 2.2, 10.5, -2.2, 0.0, 4.8, 2.2, 6.5, '北', 10.2, '西', '東北東', 5.9, 49, 84, '晴後時々雨、みぞれを伴う', 'みぞれ後曇時々雪'), ('2021/2/11', 1.5, 6.1, -1.4, 3.5, 1.4, 2.3, 8.4, '北東', 12.6, '北東', '東北東', 5.8, 61, 86, '曇一時雪後時々晴、みぞれを伴う', '曇一時晴'), ('2021/2/16', 2.3, 6.9, -1.1, 2.5, 2.7, 3.0, 9.9, '西', 17.0, '西', '西北西', 5.0, 29, 71, '曇時々晴、みぞれを伴う', '雪時々曇'), ('2021/2/23', 2.5, 8.3, -2.0, 4.5, 4.6, 4.3, 8.6, '北東', 12.7, '北東', '東北東', 5.9, 54, 80, '曇一時雨後時々晴、みぞれを伴う', '晴時々雪'), ('2021/3/2', 8.1, 18.5, 0.2, 21.0, 0.0, 5.2, 8.2, '東北東', 13.4, '東北東', '西南西', 7.8, 46, 74, '曇後時々雨、みぞれを伴う', '雪時々曇一時晴'), ('2021/3/6', 4.7, 9.3, 0.4, 0.0, 0.2, 3.7, 9.3, '北北西', 14.3, '北北西', '北東', 7.3, 64, 84, '曇一時雨、みぞれを伴う', '曇、みぞれを伴う'), ('2021/4/9', 4.1, 10.5, 0.5, 0.0, 7.5, 3.6, 8.9, '東', 15.0, '北', '北北東', 5.5, 36, 68, '晴後一時みぞれ', '晴時々曇、みぞれを伴う'), ('2021/11/27', 2.0, 5.1, -0.1, 12.5, 2.2, 1.9, 6.6, '西', 11.1, '西', '東北東', 6.5, 67, 92, 'みぞれ時々雨一時雪、雷を伴う', 'みぞれ時々曇、雷・霧を伴う'), ('2021/12/4', 4.6, 9.7, 1.0, 0.0, 5.7, 2.2, 5.4, '東北東', 8.4, '東北東', '東北東', 6.5, 57, 77, '晴時々雨一時曇、みぞれを伴う', '曇時々晴一時雪'), ('2021/12/6', 3.3, 6.7, -2.1, 0.0, 0.0, 1.3, 2.9, '東', 5.0, '南南西', '北北東', 7.2, 79, 90, '雨時々曇一時雪、みぞれを伴う', '曇一時晴後雨'), ('2021/12/13', 2.8, 6.6, -0.4, 0.0, 7.6, 3.8, 8.1, '東', 13.1, '東北東', '東北東', 6.0, 66, 80, 'みぞれ一時雨後晴', '晴時々曇'), ('2021/12/22', 1.7, 4.3, -1.1, 0.0, 2.6, 3.0, 6.5, '北東', 10.0, '北', '北東', 5.8, 63, 84, 'みぞれ時々曇一時雪', '晴'), ('2021/12/25', 1.1, 4.2, -3.8, 0.0, 0.2, 3.1, 6.5, '東', 12.6, '北', '北東', 5.8, 68, 86, 'みぞれ一時雨後曇時々雪', '晴時々曇一時雪'), ('2021/12/30', 0.0, 2.0, -1.9, 7.0, 0.2, 1.4, 4.0, '東', 6.6, '東', '東', 5.9, 86, 96, 'みぞれ時々曇一時雪、雷を伴う', '曇時々雪一時みぞれ')]\n"
     ]
    }
   ],
   "source": [
    "## クエリ例2) nagano2021テーブルの 天気概況(日中) forecast_day に \"みぞれ\" が含まれる日を抽出する\n",
    "sql = \"\"\"SELECT * FROM nagano2021 WHERE forecast_day LIKE '%みぞれ%';\"\"\"\n",
    "cursor.execute(sql)\n",
    "print(cursor.fetchall())#全レコードを取り出す"
   ]
  },
  {
   "cell_type": "code",
   "execution_count": 9,
   "metadata": {
    "colab": {
     "base_uri": "https://localhost:8080/"
    },
    "executionInfo": {
     "elapsed": 348,
     "status": "ok",
     "timestamp": 1663566555184,
     "user": {
      "displayName": "和﨑克己",
      "userId": "01531185103078206810"
     },
     "user_tz": -540
    },
    "id": "H-6N1jR_Rs7G",
    "outputId": "4d953c93-f066-44a8-beca-e37929238fd6",
    "slideshow": {
     "slide_type": "slide"
    }
   },
   "outputs": [
    {
     "name": "stdout",
     "output_type": "stream",
     "text": [
      "[('2021/3/3', -0.1, 3.7, -2.3, 0.0, 5.6, 3.4, 7.9, '北', 13.6, '北', '北東', 4.7, 59, 78, '曇時々晴一時雪', '晴時々曇')]\n"
     ]
    }
   ],
   "source": [
    "## クエリ例3) nagano2021テーブルの 3月中で， 天気概況 forecast_day に \"雪\" が含まれる日を抽出する\n",
    "sql = \"\"\"SELECT * FROM nagano2021 WHERE date BETWEEN '2021/3/1' and '2021/3/31' AND forecast_day LIKE '%雪%';\"\"\"\n",
    "cursor.execute(sql)\n",
    "print(cursor.fetchall())#全レコードを取り出す"
   ]
  },
  {
   "cell_type": "markdown",
   "metadata": {
    "id": "0zwN6rjz4NLc",
    "slideshow": {
     "slide_type": "slide"
    }
   },
   "source": [
    "#### 3.5.2 ERモデルから関係データベースへの変換例 (Python SQLite3)"
   ]
  },
  {
   "cell_type": "markdown",
   "metadata": {
    "id": "EAOUnP254dQr",
    "slideshow": {
     "slide_type": "slide"
    }
   },
   "source": [
    "<figure>\n",
    "<a href=\"http://www.mi.u-tokyo.ac.jp/pdf/2-4_data_base.pdf#page=13\"><img src='https://raw.githubusercontent.com/MDASH-shinshu/MDASH-T-DE/main/4/UTAI-text/JPEG/2-4_data_base_13.jpg' alt='外部キー' width='640' border='1'></a>\n",
    "</figure>\n",
    "\n",
    "データベース course, 親テーブル subject, department, 子テーブル registrationを作成して，ERモデルに基づいた関係データベースを作成してみる（外部キー参照による制約付き）"
   ]
  },
  {
   "cell_type": "code",
   "execution_count": 10,
   "metadata": {
    "executionInfo": {
     "elapsed": 21,
     "status": "ok",
     "timestamp": 1663565664961,
     "user": {
      "displayName": "和﨑克己",
      "userId": "01531185103078206810"
     },
     "user_tz": -540
    },
    "id": "VUIitD1j2KXa",
    "slideshow": {
     "slide_type": "slide"
    }
   },
   "outputs": [],
   "source": [
    "## ERモデルから関係データベースへの変換例 (SQLite3)\n",
    "import sqlite3\n",
    "\n",
    "# データベースを新規作成して、接続する\n",
    "dbname = ('course.db') #データベース名.db拡張子で設定（カレントディレクトリに通常のファイルとして実体がある）\n",
    "conn = sqlite3.connect(dbname, isolation_level=None) #データベースを作成、自動コミット機能ON\n",
    "cursor = conn.cursor() #カーソルオブジェクトを作成"
   ]
  },
  {
   "cell_type": "code",
   "execution_count": 11,
   "metadata": {
    "executionInfo": {
     "elapsed": 21,
     "status": "ok",
     "timestamp": 1663565664961,
     "user": {
      "displayName": "和﨑克己",
      "userId": "01531185103078206810"
     },
     "user_tz": -540
    },
    "id": "yv_5ITbw2nPl",
    "slideshow": {
     "slide_type": "slide"
    }
   },
   "outputs": [],
   "source": [
    "# subject [科目]テーブルを作成する（主キー：id）\n",
    "sql = \"\"\"CREATE TABLE IF NOT EXISTS subject(id varchar(4) primary key, name varchar(32))\"\"\"\n",
    "\n",
    "cursor.execute(sql) #executeコマンドでSQL文を実行\n",
    "conn.commit() #データベースにコミット"
   ]
  },
  {
   "cell_type": "code",
   "execution_count": 12,
   "metadata": {
    "id": "QXR584Ff3d55",
    "slideshow": {
     "slide_type": "slide"
    }
   },
   "outputs": [
    {
     "data": {
      "text/plain": [
       "<sqlite3.Cursor at 0x12ac41bc0>"
      ]
     },
     "execution_count": 12,
     "metadata": {},
     "output_type": "execute_result"
    }
   ],
   "source": [
    "# 作成したテーブルにレコードを複数行格納する\n",
    "sql = \"\"\"INSERT INTO subject VALUES(?,?)\"\"\"\n",
    "\n",
    "data = [\n",
    "   (\"1001\", \"統計学\"),\n",
    "   (\"1002\", \"データベース\")\n",
    "]\n",
    "cursor.executemany(sql, data)#SQL文を実行"
   ]
  },
  {
   "cell_type": "code",
   "execution_count": 13,
   "metadata": {
    "id": "dIHRmKTY40RL",
    "slideshow": {
     "slide_type": "slide"
    }
   },
   "outputs": [
    {
     "data": {
      "text/plain": [
       "<sqlite3.Cursor at 0x12ac41bc0>"
      ]
     },
     "execution_count": 13,
     "metadata": {},
     "output_type": "execute_result"
    }
   ],
   "source": [
    "# department [部局]テーブルを作成する（主キー：id）\n",
    "sql = \"\"\"CREATE TABLE IF NOT EXISTS department(id varchar(2) primary key, name varchar(32))\"\"\"\n",
    "\n",
    "cursor.execute(sql) #SQL文を実行"
   ]
  },
  {
   "cell_type": "code",
   "execution_count": 14,
   "metadata": {
    "id": "EoYYWsFW44pU",
    "slideshow": {
     "slide_type": "slide"
    }
   },
   "outputs": [
    {
     "data": {
      "text/plain": [
       "<sqlite3.Cursor at 0x12ac41bc0>"
      ]
     },
     "execution_count": 14,
     "metadata": {},
     "output_type": "execute_result"
    }
   ],
   "source": [
    "# 作成したテーブルにレコードを複数行格納する\n",
    "sql = \"\"\"INSERT INTO department VALUES(?,?)\"\"\"\n",
    "\n",
    "data = [\n",
    "   (\"03\", \"理学部\"),\n",
    "   (\"05\", \"薬学部\"),\n",
    "   (\"07\", \"法学部\")\n",
    "]\n",
    "cursor.executemany(sql, data)#SQL文を実行"
   ]
  },
  {
   "cell_type": "code",
   "execution_count": 15,
   "metadata": {
    "colab": {
     "base_uri": "https://localhost:8080/"
    },
    "executionInfo": {
     "elapsed": 8,
     "status": "ok",
     "timestamp": 1663565664962,
     "user": {
      "displayName": "和﨑克己",
      "userId": "01531185103078206810"
     },
     "user_tz": -540
    },
    "id": "vhf1F4Ym5T9f",
    "outputId": "63a876ed-4fc5-436c-c6bb-018502f06d17",
    "slideshow": {
     "slide_type": "slide"
    }
   },
   "outputs": [
    {
     "name": "stdout",
     "output_type": "stream",
     "text": [
      "[('1001', '統計学'), ('1002', 'データベース')]\n",
      "[('03', '理学部'), ('05', '薬学部'), ('07', '法学部')]\n"
     ]
    }
   ],
   "source": [
    "sql = \"\"\"SELECT * FROM subject\"\"\"\n",
    "cursor.execute(sql)\n",
    "print(cursor.fetchall())#全レコードを取り出す\n",
    "sql = \"\"\"SELECT * FROM department\"\"\"\n",
    "cursor.execute(sql)\n",
    "print(cursor.fetchall())#全レコードを取り出す"
   ]
  },
  {
   "cell_type": "code",
   "execution_count": 16,
   "metadata": {
    "id": "ZFMNilw16Iz3",
    "slideshow": {
     "slide_type": "slide"
    }
   },
   "outputs": [
    {
     "data": {
      "text/plain": [
       "<sqlite3.Cursor at 0x12ac41bc0>"
      ]
     },
     "execution_count": 16,
     "metadata": {},
     "output_type": "execute_result"
    }
   ],
   "source": [
    "# registration [開講科目]テーブルを作成する（外部キー：subject_id, department_id）\n",
    "sql = \"\"\"CREATE TABLE IF NOT EXISTS registration(id varchar(4) primary key, subject_id varchar(4), department_id varchar(2), foreign key(subject_id) references subject(id), foreign key(department_id) references department(id))\"\"\"\n",
    "cursor.execute(sql) #SQL文を実行\n",
    "\n",
    "sql = \"\"\"PRAGMA foreign_keys=true; \"\"\" # SQLite3 このテーブルについて外部キー参照を有効化する\n",
    "cursor.execute(sql) #SQL文を実行\n"
   ]
  },
  {
   "cell_type": "code",
   "execution_count": 17,
   "metadata": {
    "id": "NLTNmPqi_Zk0",
    "slideshow": {
     "slide_type": "slide"
    }
   },
   "outputs": [
    {
     "data": {
      "text/plain": [
       "<sqlite3.Cursor at 0x12ac41bc0>"
      ]
     },
     "execution_count": 17,
     "metadata": {},
     "output_type": "execute_result"
    }
   ],
   "source": [
    "# 作成したテーブルにレコードを複数行格納する\n",
    "sql = \"\"\"INSERT INTO registration VALUES(?,?,?)\"\"\"\n",
    "\n",
    "data = [\n",
    "   ####(\"0201\", \"1999\", \"03\"), # 外部キー設定してあるので，存在しない科目番号を指定するとエラーになる\n",
    "   (\"0301\", \"1001\", \"03\"),\n",
    "   (\"0302\", \"1002\", \"03\"),\n",
    "   (\"0501\", \"1001\", \"05\")\n",
    "]\n",
    "cursor.executemany(sql, data)#SQL文を実行"
   ]
  },
  {
   "cell_type": "code",
   "execution_count": 18,
   "metadata": {
    "colab": {
     "base_uri": "https://localhost:8080/"
    },
    "executionInfo": {
     "elapsed": 6,
     "status": "ok",
     "timestamp": 1663565664962,
     "user": {
      "displayName": "和﨑克己",
      "userId": "01531185103078206810"
     },
     "user_tz": -540
    },
    "id": "7t9WbY34_81R",
    "outputId": "128b2c41-7223-476a-9556-6eb2676307c2",
    "slideshow": {
     "slide_type": "slide"
    }
   },
   "outputs": [
    {
     "name": "stdout",
     "output_type": "stream",
     "text": [
      "[('0301', '1001', '03'), ('0302', '1002', '03'), ('0501', '1001', '05')]\n"
     ]
    }
   ],
   "source": [
    "sql = \"\"\"SELECT * FROM registration\"\"\"\n",
    "cursor.execute(sql)\n",
    "print(cursor.fetchall())#全レコードを取り出す"
   ]
  },
  {
   "cell_type": "markdown",
   "metadata": {
    "id": "laFB65CtDNAP",
    "slideshow": {
     "slide_type": "slide"
    }
   },
   "source": [
    "#### SQLの代表的なコマンド（リファレンス）"
   ]
  },
  {
   "cell_type": "markdown",
   "metadata": {
    "id": "L5RdUA6iUmdZ",
    "slideshow": {
     "slide_type": "slide"
    }
   },
   "source": [
    "<figure>\n",
    "<a href=\"http://www.mi.u-tokyo.ac.jp/pdf/2-4_data_base.pdf#page=11\"><img src='https://raw.githubusercontent.com/MDASH-shinshu/MDASH-T-DE/main/4/UTAI-text/JPEG/2-4_data_base_11.jpg' alt='SQL言語による操作' width='640' border='1'></a>\n",
    "</figure>"
   ]
  },
  {
   "cell_type": "markdown",
   "metadata": {
    "id": "uTtEO27lUaxQ",
    "slideshow": {
     "slide_type": "slide"
    }
   },
   "source": [
    "<figure>\n",
    "<a href=\"http://www.mi.u-tokyo.ac.jp/pdf/2-4_data_base.pdf#page=8\"><img src='https://raw.githubusercontent.com/MDASH-shinshu/MDASH-T-DE/main/4/UTAI-text/JPEG/2-4_data_base_08.jpg' alt='SQL言語による操作' width='640' border='1'></a>\n",
    "</figure>"
   ]
  },
  {
   "cell_type": "markdown",
   "metadata": {
    "id": "udDOq837Ufbd",
    "slideshow": {
     "slide_type": "slide"
    }
   },
   "source": [
    "<figure>\n",
    "<a href=\"http://www.mi.u-tokyo.ac.jp/pdf/2-4_data_base.pdf#page=9\"><img src='https://raw.githubusercontent.com/MDASH-shinshu/MDASH-T-DE/main/4/UTAI-text/JPEG/2-4_data_base_09.jpg' alt='SQL言語による操作' width='640' border='1'></a>\n",
    "</figure>"
   ]
  },
  {
   "cell_type": "markdown",
   "metadata": {
    "id": "xTT3uTMtUi7K",
    "slideshow": {
     "slide_type": "slide"
    }
   },
   "source": [
    "<figure>\n",
    "<a href=\"http://www.mi.u-tokyo.ac.jp/pdf/2-4_data_base.pdf#page=10\"><img src='https://raw.githubusercontent.com/MDASH-shinshu/MDASH-T-DE/main/4/UTAI-text/JPEG/2-4_data_base_10.jpg' alt='SQL言語による操作' width='640' border='1'></a>\n",
    "</figure>"
   ]
  },
  {
   "cell_type": "markdown",
   "metadata": {
    "id": "NQpNMv_fUV5A",
    "slideshow": {
     "slide_type": "slide"
    }
   },
   "source": [
    "<figure>\n",
    "<a href=\"http://www.mi.u-tokyo.ac.jp/pdf/2-4_data_base.pdf#page=7\"><img src='https://raw.githubusercontent.com/MDASH-shinshu/MDASH-T-DE/main/4/UTAI-text/JPEG/2-4_data_base_07.jpg' alt='SQL言語による操作' width='640' border='1'></a>\n",
    "</figure>"
   ]
  },
  {
   "cell_type": "markdown",
   "metadata": {
    "id": "srJ6Ph6uVwlj",
    "slideshow": {
     "slide_type": "slide"
    }
   },
   "source": [
    "### 3.6 RDB以外のデータベース"
   ]
  },
  {
   "cell_type": "markdown",
   "metadata": {
    "id": "urWIyWynVzOb",
    "slideshow": {
     "slide_type": "slide"
    }
   },
   "source": [
    "<figure>\n",
    "<a href=\"http://www.mi.u-tokyo.ac.jp/pdf/2-4_data_base.pdf#page=18\"><img src='https://raw.githubusercontent.com/MDASH-shinshu/MDASH-T-DE/main/4/UTAI-text/JPEG/2-4_data_base_18.jpg' alt='ERモデル' width='640' border='1'></a>\n",
    "</figure>"
   ]
  },
  {
   "cell_type": "markdown",
   "metadata": {
    "id": "DHQkZ7WJJOXd",
    "slideshow": {
     "slide_type": "slide"
    }
   },
   "source": [
    "# memo"
   ]
  }
 ],
 "metadata": {
  "celltoolbar": "Slideshow",
  "colab": {
   "collapsed_sections": [
    "DHQkZ7WJJOXd"
   ],
   "provenance": []
  },
  "kernelspec": {
   "display_name": "Python 3 (ipykernel)",
   "language": "python",
   "name": "python3"
  },
  "language_info": {
   "codemirror_mode": {
    "name": "ipython",
    "version": 3
   },
   "file_extension": ".py",
   "mimetype": "text/x-python",
   "name": "python",
   "nbconvert_exporter": "python",
   "pygments_lexer": "ipython3",
   "version": "3.10.6"
  }
 },
 "nbformat": 4,
 "nbformat_minor": 1
}
