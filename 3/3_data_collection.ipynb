{
 "cells": [
  {
   "cell_type": "markdown",
   "metadata": {
    "id": "u5-sJJLDXT2v",
    "slideshow": {
     "slide_type": "slide"
    }
   },
   "source": [
    "# データ収集\n",
    "\n",
    "《学修項目》\n",
    "*   ◎ IoT（Internet of Things）\n",
    "*   IoTを支える要素技術（通信プロトコル，無線ネットワーク）\n",
    "*   エッジデバイス、センサーデータ\n",
    "*   Webクローラー、スクレイピング\n",
    "*   アノテーション\n",
    "\n",
    "《キーワード》\n",
    "> IoT，ユビキタスコンピューティング，サイバーフィジカルシステム，Society 5.0，通信，インターネット，センサ，エッジデバイス，データ保存，SNS，参加型センシング，オープンデータ，ウェブスクレイピング，アノテーション \n"
   ]
  },
  {
   "cell_type": "markdown",
   "metadata": {
    "id": "xngFmphdjt1j",
    "slideshow": {
     "slide_type": "slide"
    }
   },
   "source": [
    "《参考文献，参考書籍》\n",
    "*   [1] [東京大学MIセンター公開教材 「2-3 データ収集」](http://www.mi.u-tokyo.ac.jp/pdf/2-3_data_collection.pdf) [《利用条件CC BY-NC-SA》](https://creativecommons.org/licenses/by-nc-sa/4.0/deed.ja)\n",
    "*   [2] [データサイエンスの考え方 社会に役立つAI×データ活用のために（オーム社）](https://www.ohmsha.co.jp/book/9784274227974/)\n",
    "*   [3] [Pythonによるあたらしいデータ分析の教科書（翔泳社）](https://www.shoeisha.co.jp/book/detail/9784798158341)\n",
    "*   [4] [数理・データサイエンス・AI公開講座（放送大学）](https://www.ouj.ac.jp/booklet/2022/29_2022_MDS-AI.pdf)"
   ]
  },
  {
   "cell_type": "markdown",
   "metadata": {
    "id": "uEDbHMvA1vwi",
    "slideshow": {
     "slide_type": "slide"
    }
   },
   "source": [
    "## 1. IoTとは"
   ]
  },
  {
   "cell_type": "markdown",
   "metadata": {
    "id": "64ojeM2oeV-K",
    "slideshow": {
     "slide_type": "slide"
    }
   },
   "source": [
    "あらまし\n",
    "\n",
    "* IoTの潮流\n",
    "* ユビキタスコンピューティング\n",
    "* IoT (Internet of Things) モノのインターネット\n",
    "* サイバーフィジカルシステム (CPS)\n",
    "* Society 5.0"
   ]
  },
  {
   "cell_type": "markdown",
   "metadata": {
    "id": "APc4tAjz11Ad",
    "slideshow": {
     "slide_type": "slide"
    }
   },
   "source": [
    "### 1.1 IoTの潮流 [1]"
   ]
  },
  {
   "cell_type": "markdown",
   "metadata": {
    "id": "m2-ein_i8gGf",
    "slideshow": {
     "slide_type": "slide"
    }
   },
   "source": [
    "<figure>\n",
    "<a href=\"http://www.mi.u-tokyo.ac.jp/pdf/2-3_data_collection.pdf#page=9\"><img src='https://raw.githubusercontent.com/MDASH-shinshu/MDASH-T-DE/main/3/UTAI-text/JPEG/2-3_data_collection_09.jpg' alt='IOTとは' width='640' border='1'></a>\n",
    "</figure>"
   ]
  },
  {
   "cell_type": "markdown",
   "metadata": {
    "id": "WNs9RoSJ8xYv",
    "slideshow": {
     "slide_type": "slide"
    }
   },
   "source": [
    "<figure>\n",
    "<a href=\"http://www.mi.u-tokyo.ac.jp/pdf/2-3_data_collection.pdf#page=10\"><img src='https://raw.githubusercontent.com/MDASH-shinshu/MDASH-T-DE/main/3/UTAI-text/JPEG/2-3_data_collection_10.jpg' alt='IoTの特徴' width='640' border='1'></a>\n",
    "</figure>\n",
    "\n",
    "* [Gartner Says 8.4 Billion Connected \"Things\" Will Be in Use in 2017, Up 31 Percent From 2016](https://www.gartner.com/en/newsroom/press-releases/2017-02-07-gartner-says-8-billion-connected-things-will-be-in-use-in-2017-up-31-percent-from-2016)"
   ]
  },
  {
   "cell_type": "markdown",
   "metadata": {
    "id": "9Kh0M16Y82Pu",
    "slideshow": {
     "slide_type": "slide"
    }
   },
   "source": [
    "<figure>\n",
    "<a href=\"http://www.mi.u-tokyo.ac.jp/pdf/2-3_data_collection.pdf#page=11\"><img src='https://raw.githubusercontent.com/MDASH-shinshu/MDASH-T-DE/main/3/UTAI-text/JPEG/2-3_data_collection_11.jpg' alt='IoTの特徴' width='640' border='1'></a>\n",
    "</figure>"
   ]
  },
  {
   "cell_type": "markdown",
   "metadata": {
    "id": "ura7P93-14TZ",
    "slideshow": {
     "slide_type": "slide"
    }
   },
   "source": [
    "### 1.2 ユビキタスコンピューティング"
   ]
  },
  {
   "cell_type": "markdown",
   "metadata": {
    "id": "Y25lz70zB6N9",
    "slideshow": {
     "slide_type": "slide"
    }
   },
   "source": [
    "[ユビキタスコンピューティング（ubiquitous computing）](https://www.nic.ad.jp/ja/basics/terms/ubiquitous.html)は，コンピュータがいたる所に存在（遍在）し、いつでもどこでも使える状態をあらわす概念である．\n",
    "「あらゆる場所であらゆるモノがネットワークにつながる」ことはユビキタスネットワークと呼ばれるようになった．ユビキタスコンピューティングやユビキタスネットワークが広まった当初はおもに，移動体通信や無線などにより携帯電話や携帯情報端末（PDA）などの持ち運び可能な機器をコンピュータネットワークと接続することが想定された．\n",
    "\n",
    "1980年代の終わりに提唱された概念である．コンピュータはどんどん小さくなり，やがて存在を意識されないぐらい生活に溶け込むとされた．\n",
    "\n",
    "生活家電における ユビキタスコンピューティング の例として， (1) 服のタグにチップ(RFIDタグ)を付け，[洗濯かごが洗うものを自動認識](https://sakidori.co/article/323553)， (2) 食品の画像を使った [庫内の食材をスマホで確認できるスマート冷蔵庫](https://www.irisohyama.co.jp/news/2022/?date=0209_2) などがある．\n",
    "\n",
    "* [JPNIC | ユビキタスコンピューティングとは](https://www.nic.ad.jp/ja/basics/terms/ubiquitous.html)\n",
    "* [LaunderPal | 洗濯かごが洗うものを自動認識](https://sakidori.co/article/323553)\n",
    "* [アイリスオーヤマ | カメラ付き冷凍冷蔵庫](https://www.irisohyama.co.jp/news/2022/?date=0209_2)\n"
   ]
  },
  {
   "cell_type": "markdown",
   "metadata": {
    "id": "GvXhw-cY1_Jc",
    "slideshow": {
     "slide_type": "slide"
    }
   },
   "source": [
    "### 1.3 IoT (Internet of Things) モノのインターネット"
   ]
  },
  {
   "cell_type": "markdown",
   "metadata": {
    "id": "jmjUb-CE3QgB",
    "slideshow": {
     "slide_type": "slide"
    }
   },
   "source": [
    "「IoT」とは「Internet of Things」の頭文字を取った単語である．\n",
    "簡単に説明すると「身の回りのあらゆるモノがインターネットにつながる」仕組みのこととなる．\n",
    "\n",
    "IoT：Internet of Things（モノのインターネット）ではこれまでインターネットとは無縁だったテレビやエアコンがインターネットにつながることにより，モノが相互通信し，遠隔からも認識や計測・制御などが可能となる．\n",
    "\n",
    "人が操作してインターネットにつなぐだけではなく，[モノが自らインターネットにアクセスすることがIoTの特徴である](https://www.internetacademy.co.jp/trends/it-strategy/case-study-internet-of-things-iot.html)．\n",
    "\n",
    "* [インターネットアカデミー | IoT：Internet of Things（モノのインターネット）とは？IoTの活用事例](https://www.internetacademy.co.jp/trends/it-strategy/case-study-internet-of-things-iot.html)\n"
   ]
  },
  {
   "cell_type": "markdown",
   "metadata": {
    "id": "CMOj8i56Zxgi",
    "slideshow": {
     "slide_type": "slide"
    }
   },
   "source": [
    "IoTデバイスの例：RFIDタグ（[引用：株式会社日立ソリューションズ・クリエイト](https://www.hitachi-solutions-create.co.jp/column/iot/rfid.html)）\n",
    "\n",
    "> RFID（Radio Frequency Identification）とは，近距離の無線通信を用いてID情報などのデータを記録した専用タグと非接触による情報のやりとりをする技術の総称である．\n",
    "人を介さずに専用タグからデータを読み込んで内容を認識する自動認識技術のひとつとして知られている．\n",
    "> \n",
    "> 専用タグはRFタグ，もしくはRFIDタグ，ICタグなどと呼ばれる．\n",
    "このタグはデータを書き込めるICチップ，アンテナ，コンデンサなどで構成されている．\n",
    "専用の読み込み装置であるリーダライタを使って，タグとの間で近距離無線通信が行われて情報がやりとりできる．\n",
    "\n",
    "RFIDの活用例：交通系ICカード，高速道路のETCカード，非接触ICカード，車のスマートキーなどがある．[無人レジ，商品の在庫管理や棚卸しにもRFIDは利用されている](https://blog.rflocus.com/rfid-uniqlo/)．\n",
    "\n",
    "* [引用：株式会社日立ソリューションズ・クリエイト](https://www.hitachi-solutions-create.co.jp/column/iot/rfid.html)\n",
    "\n",
    "* [Locus Journal | RFIDタグを導入したユニクロから学ぶ他業界RFID活用のヒント](https://blog.rflocus.com/rfid-uniqlo/)"
   ]
  },
  {
   "cell_type": "markdown",
   "metadata": {
    "id": "5b0yWamq2D6Z",
    "slideshow": {
     "slide_type": "slide"
    }
   },
   "source": [
    "### 1.4 サイバーフィジカルシステム (CPS)"
   ]
  },
  {
   "cell_type": "markdown",
   "metadata": {
    "id": "RguPxTuR3epf",
    "slideshow": {
     "slide_type": "slide"
    }
   },
   "source": [
    "CPS = 現実社会からIoTを使ってビッグデータを収集，解析して現実社会へ還元する（[引用：JEITA](https://www.jeita.or.jp/cps/about/)）\n",
    "\n",
    "> CPSとは、実世界（フィジカル空間）にある多様なデータをセンサーネットワーク等で収集し，サイバー空間で大規模データ処理技術等を駆使して分析／知識化を行い，そこで創出した情報／価値によって産業の活性化や社会問題の解決を図っていくこと．\n",
    "> \n",
    "> テクノロジーのさらなる進化は，これまでは実現できなかったデータの収集・蓄積・解析，解析結果の実世界へのフィードバックといった一連のサイクルを社会規模で可能にしている．\n",
    "> \n",
    "> 実世界とサイバー空間が相互連携した社会（CPS/IoT社会）においては，私たちとインターネット空間の接点はパソコンやスマートフォンといった端末に留まらず，車や家といった生活空間に広がり，収集されたデータはあらゆる分野と連携し生活をより豊かにするとともに，少子高齢化やエネルギー問題といった私たちが抱える社会的な課題の解決へも繋がっていく．\n",
    "\n",
    "* [JEITA | サイバーフィジカルシステム（CPS）とは](https://www.jeita.or.jp/cps/about/)"
   ]
  },
  {
   "cell_type": "markdown",
   "metadata": {
    "id": "j9XLYRRc2Gqr",
    "slideshow": {
     "slide_type": "slide"
    }
   },
   "source": [
    "### 1.5 Society 5.0"
   ]
  },
  {
   "cell_type": "markdown",
   "metadata": {
    "id": "tXi2n6eF3iVb",
    "slideshow": {
     "slide_type": "slide"
    }
   },
   "source": [
    "経済発展と社会問題の解決を両立する人間中心の社会．サイバーフィジカルシステムを基盤として利用する（[引用：内閣府科学技術政策](https://www8.cao.go.jp/cstp/society5_0/)）\n",
    "\n",
    "> Society 5.0とは，サイバー空間（仮想空間）とフィジカル空間（現実空間）を高度に融合させたシステムにより，経済発展と社会的課題の解決を両立する，人間中心の社会（Society）のことである．\n",
    "> \n",
    "> 狩猟社会（Society 1.0），農耕社会（Society 2.0），工業社会（Society 3.0），情報社会（Society 4.0）に続く，新たな社会を指すものである．\n",
    "\n",
    "* [内閣府 | 科学技術政策 Society 5.0](https://www8.cao.go.jp/cstp/society5_0/)\n"
   ]
  },
  {
   "cell_type": "markdown",
   "metadata": {
    "id": "4aa-UMZl2Kes",
    "slideshow": {
     "slide_type": "slide"
    }
   },
   "source": [
    "## 2. IoTを支える要素技術"
   ]
  },
  {
   "cell_type": "markdown",
   "metadata": {
    "id": "h4Y5-w5i2NaM",
    "slideshow": {
     "slide_type": "slide"
    }
   },
   "source": [
    "### 2.1 通信"
   ]
  },
  {
   "cell_type": "markdown",
   "metadata": {
    "id": "UCR4wjPY3psy",
    "slideshow": {
     "slide_type": "slide"
    }
   },
   "source": [
    "あらまし\n",
    "\n",
    "*   通信技術，通信プロトコル\n",
    "*   Internet接続（携帯電話回線，無線WAN,公衆無線LAN,光接続サービス）\n",
    "*   LAN: Local Area Network （有線LAN(GbE), 無線LAN(WiFi), 無線PAN(Bluetooth)）\n",
    "*   WAN: Wide Area Network （インターネット接続サービス，4G/5G携帯電話網）\n",
    "*   LPWA: Low Power Wide Area （低消費電力で数km以上の通信範囲を持つ無線規格．IoTデバイスをインターネットに接続する用途にも使われる）\n"
   ]
  },
  {
   "cell_type": "markdown",
   "metadata": {
    "id": "mb1fnrPm6yr6",
    "slideshow": {
     "slide_type": "slide"
    }
   },
   "source": [
    "#### 2.1.1 通信技術，通信プロトコル，レイヤ，ヘッダ・PDU[1]"
   ]
  },
  {
   "cell_type": "markdown",
   "metadata": {
    "id": "BeLRGGtx7OV5",
    "slideshow": {
     "slide_type": "slide"
    }
   },
   "source": [
    "<figure>\n",
    "<a href=\"http://www.mi.u-tokyo.ac.jp/pdf/2-3_data_collection.pdf#page=4\"><img src='https://raw.githubusercontent.com/MDASH-shinshu/MDASH-T-DE/main/3/UTAI-text/JPEG/2-3_data_collection_04.jpg' alt='通信技術・通信プロトコル' width='640' border='1'></a>\n",
    "</figure>\n",
    "\n",
    "* [ネットワークエンジニア | プロトコルとは](https://www.infraexpert.com/study/networking2.html)"
   ]
  },
  {
   "cell_type": "markdown",
   "metadata": {
    "id": "esyikhYz7inR",
    "slideshow": {
     "slide_type": "slide"
    }
   },
   "source": [
    "<figure>\n",
    "<a href=\"http://www.mi.u-tokyo.ac.jp/pdf/2-3_data_collection.pdf#page=5\"><img src='https://raw.githubusercontent.com/MDASH-shinshu/MDASH-T-DE/main/3/UTAI-text/JPEG/2-3_data_collection_05.jpg' alt='通信プロトコルレイヤ' width='640' border='1'></a>\n",
    "</figure>\n",
    "\n",
    "* [ネットワークエンジニア | OSI参照モデルとは](https://www.infraexpert.com/study/networking3.html)"
   ]
  },
  {
   "cell_type": "markdown",
   "metadata": {
    "id": "08zdp_dJ7o7M",
    "slideshow": {
     "slide_type": "slide"
    }
   },
   "source": [
    "<figure>\n",
    "<a href=\"http://www.mi.u-tokyo.ac.jp/pdf/2-3_data_collection.pdf#page=6\"><img src='https://raw.githubusercontent.com/MDASH-shinshu/MDASH-T-DE/main/3/UTAI-text/JPEG/2-3_data_collection_06.jpg' alt='ヘッダ' width='640' border='1'></a>\n",
    "</figure>\n",
    "\n",
    "* [ネットワークエンジニア | IPパケット・ヘッダー](https://www.infraexpert.com/study/tcpip1.html)"
   ]
  },
  {
   "cell_type": "markdown",
   "metadata": {
    "id": "nTGHLd9I7xms",
    "slideshow": {
     "slide_type": "slide"
    }
   },
   "source": [
    "<figure>\n",
    "<a href=\"http://www.mi.u-tokyo.ac.jp/pdf/2-3_data_collection.pdf#page=7\"><img src='https://raw.githubusercontent.com/MDASH-shinshu/MDASH-T-DE/main/3/UTAI-text/JPEG/2-3_data_collection_07.jpg' alt='PDU' width='640' border='1'></a>\n",
    "</figure>\n",
    "\n",
    "* [ネットワークエンジニア | イーサネット・フレーム](https://www.infraexpert.com/study/ethernet4.html)"
   ]
  },
  {
   "cell_type": "markdown",
   "metadata": {
    "id": "9HR1g7Fc8Avm",
    "slideshow": {
     "slide_type": "slide"
    }
   },
   "source": [
    "#### 2.1.2 インターネット，HTTP，URL，DNS"
   ]
  },
  {
   "cell_type": "markdown",
   "metadata": {
    "id": "jjE9g1nm8PDR",
    "slideshow": {
     "slide_type": "slide"
    }
   },
   "source": [
    "<figure>\n",
    "<a href=\"http://www.mi.u-tokyo.ac.jp/pdf/2-3_data_collection.pdf#page=8\"><img src='https://raw.githubusercontent.com/MDASH-shinshu/MDASH-T-DE/main/3/UTAI-text/JPEG/2-3_data_collection_08.jpg' alt='インターネット' width='640' border='1'></a>\n",
    "</figure>\n",
    "\n",
    "* [ネットワークエンジニア | IPアドレス](https://www.infraexpert.com/study/ip3.html)"
   ]
  },
  {
   "cell_type": "markdown",
   "metadata": {
    "id": "LS-sDdzN-0_U",
    "slideshow": {
     "slide_type": "slide"
    }
   },
   "source": [
    "<figure>\n",
    "<a href=\"http://www.mi.u-tokyo.ac.jp/pdf/2-3_data_collection.pdf#page=18\"><img src='https://raw.githubusercontent.com/MDASH-shinshu/MDASH-T-DE/main/3/UTAI-text/JPEG/2-3_data_collection_18.jpg' alt='HTTP' width='640' border='1'></a>\n",
    "</figure>\n",
    "\n",
    "* [ネットワークエンジニア | HTTP](https://www.infraexpert.com/study/tcpip16.html)"
   ]
  },
  {
   "cell_type": "markdown",
   "metadata": {
    "id": "RdFEShE5-_aD",
    "slideshow": {
     "slide_type": "slide"
    }
   },
   "source": [
    "<figure>\n",
    "<a href=\"http://www.mi.u-tokyo.ac.jp/pdf/2-3_data_collection.pdf#page=19\"><img src='https://raw.githubusercontent.com/MDASH-shinshu/MDASH-T-DE/main/3/UTAI-text/JPEG/2-3_data_collection_19.jpg' alt='URL, DNS' width='640' border='1'></a>\n",
    "</figure>\n",
    "\n",
    "* [RFC1738 - Uniform Resource Locators (URL)](https://www.rfc-editor.org/rfc/rfc1738)\n",
    "* [ネットワークエンジニア | DNS](https://www.infraexpert.com/study/tcpip15.html)\n"
   ]
  },
  {
   "cell_type": "markdown",
   "metadata": {
    "id": "Xtr22Uuz_GYS",
    "slideshow": {
     "slide_type": "slide"
    }
   },
   "source": [
    "<figure>\n",
    "<a href=\"http://www.mi.u-tokyo.ac.jp/pdf/2-3_data_collection.pdf#page=20\"><img src='https://raw.githubusercontent.com/MDASH-shinshu/MDASH-T-DE/main/3/UTAI-text/JPEG/2-3_data_collection_20.jpg' alt='HTTP' width='640' border='1'></a>\n",
    "</figure>"
   ]
  },
  {
   "cell_type": "markdown",
   "metadata": {
    "id": "A0sMB42eazcH",
    "slideshow": {
     "slide_type": "slide"
    }
   },
   "source": [
    "#### Pythonを使用したDNSクエリ，HTTPサーバへのGETコマンド送信の例"
   ]
  },
  {
   "cell_type": "code",
   "execution_count": null,
   "metadata": {
    "id": "LiHBkqtMc6k7",
    "slideshow": {
     "slide_type": "slide"
    }
   },
   "outputs": [],
   "source": [
    "# dnspythonモジュールのインストール\n",
    "!pip install dnspython"
   ]
  },
  {
   "cell_type": "code",
   "execution_count": null,
   "metadata": {
    "colab": {
     "base_uri": "https://localhost:8080/"
    },
    "executionInfo": {
     "elapsed": 293,
     "status": "ok",
     "timestamp": 1663485686184,
     "user": {
      "displayName": "和﨑克己",
      "userId": "01531185103078206810"
     },
     "user_tz": -540
    },
    "id": "VXOPqp2uax-_",
    "outputId": "6f7de4b0-9a64-4a99-9887-71c5a9261266",
    "slideshow": {
     "slide_type": "slide"
    }
   },
   "outputs": [],
   "source": [
    "import dns.resolver\n",
    "\n",
    "answers = dns.resolver.query('gmail.com', 'MX') # GMailメールサーバのMTAを調べる(MXレコード)\n",
    "for rdata in answers:\n",
    "  print('Host', rdata.exchange, 'has preference', rdata.preference) # MXレコードは，MTAの優先度がpreferenceとして登録されている"
   ]
  },
  {
   "cell_type": "code",
   "execution_count": null,
   "metadata": {
    "colab": {
     "base_uri": "https://localhost:8080/"
    },
    "executionInfo": {
     "elapsed": 296,
     "status": "ok",
     "timestamp": 1663485806853,
     "user": {
      "displayName": "和﨑克己",
      "userId": "01531185103078206810"
     },
     "user_tz": -540
    },
    "id": "k3mE2ndpcHVj",
    "outputId": "c8ea667c-9adc-4220-c2f2-9327a356e6db",
    "slideshow": {
     "slide_type": "slide"
    }
   },
   "outputs": [],
   "source": [
    "# HTTPプロトコル経由で HTMLファイルをサーバからダウンロードする\n",
    "\n",
    "import urllib.request\n",
    " \n",
    "# URLを指定すると urllib経由でOS機能（レゾルバ）によってDNS問い合わせを行い，\n",
    "# GETリクエストを発行してレスポンスをdataへ格納できる（たった１行！）\n",
    "data = urllib.request.urlopen(\"https://www.google.com/\")\n",
    "\n",
    "html = data.read()\n",
    "print(html)\n",
    "data.close()"
   ]
  },
  {
   "cell_type": "markdown",
   "metadata": {
    "id": "r_vsmLqo9aFS",
    "slideshow": {
     "slide_type": "slide"
    }
   },
   "source": [
    "#### 2.1.3 センサネットワーク"
   ]
  },
  {
   "cell_type": "markdown",
   "metadata": {
    "id": "46njYVQX9eM3",
    "slideshow": {
     "slide_type": "slide"
    }
   },
   "source": [
    "<figure>\n",
    "<a href=\"http://www.mi.u-tokyo.ac.jp/pdf/2-3_data_collection.pdf#page=12\"><img src='https://raw.githubusercontent.com/MDASH-shinshu/MDASH-T-DE/main/3/UTAI-text/JPEG/2-3_data_collection_12.jpg' alt='センサネットワークとは' width='640' border='1'></a>\n",
    "</figure>"
   ]
  },
  {
   "cell_type": "markdown",
   "metadata": {
    "id": "uLwt1do59kHv",
    "slideshow": {
     "slide_type": "slide"
    }
   },
   "source": [
    "<figure>\n",
    "<a href=\"http://www.mi.u-tokyo.ac.jp/pdf/2-3_data_collection.pdf#page=13\"><img src='https://raw.githubusercontent.com/MDASH-shinshu/MDASH-T-DE/main/3/UTAI-text/JPEG/2-3_data_collection_13.jpg' alt='センサネットワーク アーキテクチャ' width='640' border='1'></a>\n",
    "</figure>"
   ]
  },
  {
   "cell_type": "markdown",
   "metadata": {
    "id": "fLD3gQOg9wmK",
    "slideshow": {
     "slide_type": "slide"
    }
   },
   "source": [
    "#### 2.1.4 無線ネットワーク規格"
   ]
  },
  {
   "cell_type": "markdown",
   "metadata": {
    "id": "5X6w88Fl9zbo",
    "slideshow": {
     "slide_type": "slide"
    }
   },
   "source": [
    "<figure>\n",
    "<a href=\"http://www.mi.u-tokyo.ac.jp/pdf/2-3_data_collection.pdf#page=14\"><img src='https://raw.githubusercontent.com/MDASH-shinshu/MDASH-T-DE/main/3/UTAI-text/JPEG/2-3_data_collection_14.jpg' alt='無線ネットワーク規格' width='640' border='1'></a>\n",
    "</figure>\n",
    "\n",
    "* [\tIEEE 802.11 WIRELESS LOCAL AREA NETWORKS](https://www.ieee802.org/11/)\n",
    "* [Bluetooth コア・スペック 5.3](https://www.bluetooth.com/ja-jp/specifications/specs/core-specification-5-3/)\n",
    "* [株式会社バディネット | LPWAの規格一覧と比較表](https://www.buddynet.jp/column/lpwa-list)\n"
   ]
  },
  {
   "cell_type": "markdown",
   "metadata": {
    "id": "tvk00Qvp95Hz",
    "slideshow": {
     "slide_type": "slide"
    }
   },
   "source": [
    "<figure>\n",
    "<a href=\"http://www.mi.u-tokyo.ac.jp/pdf/2-3_data_collection.pdf#page=15\"><img src='https://raw.githubusercontent.com/MDASH-shinshu/MDASH-T-DE/main/3/UTAI-text/JPEG/2-3_data_collection_15.jpg' alt='LPWA' width='640' border='1'></a>\n",
    "</figure>\n",
    "\n",
    "* [株式会社バディネット | LPWAの規格一覧と比較表](https://www.buddynet.jp/column/lpwa-list)\n"
   ]
  },
  {
   "cell_type": "markdown",
   "metadata": {
    "id": "D-0xyqWb-Jhg",
    "slideshow": {
     "slide_type": "slide"
    }
   },
   "source": [
    "<figure>\n",
    "<a href=\"http://www.mi.u-tokyo.ac.jp/pdf/2-3_data_collection.pdf#page=16\"><img src='https://raw.githubusercontent.com/MDASH-shinshu/MDASH-T-DE/main/3/UTAI-text/JPEG/2-3_data_collection_16.jpg' alt='Bluetooth' width='640' border='1'></a>\n",
    "</figure>\n",
    "\n",
    "* [Bluetooth コア・スペック 5.3](https://www.bluetooth.com/ja-jp/specifications/specs/core-specification-5-3/)\n",
    "* [bluetooth.com | Bluetooth市場動向](https://www.bluetooth.com/wp-content/uploads/2020/03/BMU_2020-JPN.pdf)"
   ]
  },
  {
   "cell_type": "markdown",
   "metadata": {
    "id": "-I3-U6fC2QTF",
    "slideshow": {
     "slide_type": "slide"
    }
   },
   "source": [
    "### 2.2 センサ"
   ]
  },
  {
   "cell_type": "markdown",
   "metadata": {
    "id": "chOmj9_231uE",
    "slideshow": {
     "slide_type": "slide"
    }
   },
   "source": [
    "あらまし \n",
    "\n",
    "*   カメラ，マイク，赤外線\n",
    "*   位置情報\n",
    "*   加速度，角速度，地磁気，気圧\n",
    "*   湿度，温度，二酸化炭素濃度\n",
    "*   脈拍，心電図，血中酸素濃度，血圧\n",
    "*   LiDAR　・・・・など"
   ]
  },
  {
   "cell_type": "markdown",
   "metadata": {
    "id": "cpoD3iWc34ld",
    "slideshow": {
     "slide_type": "slide"
    }
   },
   "source": [
    "#### 2.2.1 カメラ，マイク，赤外線\n",
    "\n",
    "監視カメラ,赤外線センサの利用に関して（[引用：経済産業省](https://www.meti.go.jp/press/2021/03/20220330001/20220330001-1.pdf)）\n",
    "\n",
    "> 撮影機器の著しい発達に伴い，カメラ（又はそれに準じる機器）で取得することの可能なデータが多岐に亘り，それらデータを利活用する目的も多様化している．これにより，生活者はカメラ撮影によって取得された画像がどのような目的で取得され，どのような利活用をされているかがさらに把握しにくくなっている側面もあることから，カメラ画像利活用に対する生活者の受容性を担保するため，カメラ画像の存在と画像の利用目的を明示する等が必要である．\n",
    ">\n",
    "> 事業者が，カメラ画像等，生活者の情報を取り扱う場合には，個人情報保護法を遵守するだけでなく，生活者のプライバシーや肖像権が私法上も保護されており，その侵害に対して生活者による損害賠償請求や差止請求が認められていることを認識し，生活者の人格的な権利・利益を損なうことのないよう，十分な配慮をすることが求められる．\n",
    "\n",
    "* [経済産業省 | カメラ画像利活用 ガイドブック](https://www.meti.go.jp/press/2021/03/20220330001/20220330001-1.pdf)"
   ]
  },
  {
   "cell_type": "markdown",
   "metadata": {
    "id": "YhpizQBA4Ev0",
    "slideshow": {
     "slide_type": "slide"
    }
   },
   "source": [
    "#### 2.2.2 位置情報\n",
    "\n",
    "測位の基本\n",
    "*   正確な位置が分かっている基準点を複数使う\n",
    "*   基準点からの距離を測定するデバイス"
   ]
  },
  {
   "cell_type": "markdown",
   "metadata": {
    "id": "PNrJcbXf39uE",
    "slideshow": {
     "slide_type": "slide"
    }
   },
   "source": [
    "GNSS (Global Navigation Satellite System)， GPS（全地球測位衛星システム）とは （[引用：国土地理院](https://www.gsi.go.jp/denshi/denshi_aboutGNSS.html)）\n",
    "\n",
    "> GNSS(Global Navigation Satellite System / 全球測位衛星システム)は，米国のGPS，日本の準天頂衛星（QZSS），ロシアのGLONASS，欧州連合のGalileo等の衛星測位システムの総称です．\n",
    "> \n",
    "> GPS（Global Positioning System）は，米国によって，航空機・船舶等の航法支援用として開発されたシステムです．このシステムは，上空約 2 万kmを周回するGPS衛星（6 軌道面に30個配置），GPS衛星の追跡と管制を行う管制局，測位を行うための利用者の受信機で構成されています．\n",
    "> \n",
    "> 航空機・船舶等では，4 個以上のGPS衛星からの距離を同時に知ることにより，自分の位置等を決定します．GPS衛星からの距離は，GPS衛星から発信 された電波が受信機に到達するまでに要した時間から求めます．衛星から発信される電波には，衛星の軌道情報・原子時計の正確な時間情報などが含まれています．\n",
    "\n",
    "* [国土地理院 | GNSS(Global Navigation Satellite System / 全球測位衛星システム) とは](https://www.gsi.go.jp/denshi/denshi_aboutGNSS.html)\n"
   ]
  },
  {
   "cell_type": "markdown",
   "metadata": {
    "id": "_sJtYO2s9Dn-",
    "slideshow": {
     "slide_type": "slide"
    }
   },
   "source": [
    "Wi-Fi測位\n",
    "\n",
    "市中に多数設置されたWi-Fi基地局からの電波で測位する．\n",
    "WiFi基地局は市中に大量に設置されており，事前にIDと位置の情報を集めてデータベース化する．\n",
    "距離の測定は電波の強度などを用いる．電波の強弱でおよその距離を推定できる．不安定なため，距離の推定には使用しないこともある\n",
    "\n",
    "([引用：センサイト・プロジェクト](http://sensait.jp/16166/))<br>\n",
    "> Wi-Fi測位技術はその測位方式の違いにより2種類に大別できる．1つ目は，多辺測位(multilateration)・多角測位(multiangulation)である． Wi-Fi通信で得た距離や角度を用いて，いわゆる三辺測量・三角測量を行う．2つ目は，位置指紋測位 (fingerprinting)である．あらかじめ測位エリアの各所で何らかの物理量を測定しておき，測位対象端末で測定した物理量と近い物理量となる位置を探索することで測位を行う．\n",
    "\n",
    "[センサイト・プロジェクト | 屋内Wi-Fi 測位の基本と最前線(1)](http://sensait.jp/16166/)\n"
   ]
  },
  {
   "cell_type": "markdown",
   "metadata": {
    "id": "3Zkkmktk4RTk",
    "slideshow": {
     "slide_type": "slide"
    }
   },
   "source": [
    "#### 2.2.3 加速度，角速度，地磁気，気圧\n",
    "\n",
    "アプリケーション\n",
    "*   角速度：物理的な動作をUIに応用する．行動推定\n",
    "*   地磁気センサ：方角を捉えることが可能\n",
    "*   気圧計：階段の上下移動なども検出できる\n",
    "\n",
    "MEMS (Micro Electro Mechanical Systems) （[引用：ビジネス＋IT](https://www.sbbit.jp/article/cont1/47642)）\n",
    "\n",
    "> MEMSは「Micro Electro Mechanical Systems」の頭文字を取ったものであり「メムス」と読む．\n",
    "シリコンウェハーなどの上に，電子回路やセンサ，機械的に動くアクチュエーターなどを作りこんだ部品．\n",
    "半導体集積回路の製作技術などを利用している．\n",
    "> \n",
    "> MEMSは，電子回路に加え，センサやアクチュエーターなどの可動部を動かすための立体構造を備えている．\n",
    "たとえば，スマートフォンでは特定の電波を選択するためのBAW（Bulk Acoustic Wave／弾性波）フィルタ，加速度センサ，ジャイロセンサ，マイクロフォン，気圧センサなどの複数のMEMSを利用しているが，それらを統合的に制御するのが半導体集積回路の役目になる．\n",
    "\n",
    "* [ビジネス＋IT | MEMS（メムス）を簡単に解説。マイクやセンサに活用の技術、LiDARなど将来性は？](https://www.sbbit.jp/article/cont1/47642)"
   ]
  },
  {
   "cell_type": "markdown",
   "metadata": {
    "id": "hRBMaft34U2q",
    "slideshow": {
     "slide_type": "slide"
    }
   },
   "source": [
    "#### 2.2.4 湿度，温度，二酸化炭素濃度\n",
    "\n",
    "アプリケーション\n",
    "*   部屋の環境が基準を満たしているか\n",
    "*   農作物に水は足りているか\n",
    "*   火災警報\n",
    "\n",
    "環境センサ（[引用：株式会社クローネ](https://www.krone.co.jp/column/2022/06/06/environment-sensor/)）\n",
    "\n",
    "> 環境センサとは，水や空気，土壌の状態を定量的に把握するために用いられる装置です．環境センサによって測定された情報は，検査，記録，保存などの目的でも利用可能です．また，センサと通信機器を使うことで，現地にいなくても遠隔地から状況を把握できるようにもなります．\n",
    "> \n",
    "> 温度・湿度センサ，風速・風向センサ，CO2センサ，PM2.5センサ，ガスセンサ，濁度センサ，水質センサ，放射線センサ，感雨センサ，土壌センサ　などがある．\n",
    "\n",
    "* [株式会社クローネ | 環境センサとは？10種類のセンサと用途を解説](https://www.krone.co.jp/column/2022/06/06/environment-sensor/)"
   ]
  },
  {
   "cell_type": "markdown",
   "metadata": {
    "id": "eMzsfxzP4YRI",
    "slideshow": {
     "slide_type": "slide"
    }
   },
   "source": [
    "#### 2.2.5 脈拍，心電図，血中酸素濃度，血圧\n",
    "\n",
    "アプリケーション\n",
    "*   スマートウォッチにも内蔵されている\n",
    "*   日常生活での体調の急変などの検出が期待されている\n",
    "\n",
    "バイタルサインセンシング技術動向（[引用：日経XTECH](https://xtech.nikkei.com/dm/atcl/feature/15/110800008/)）\n",
    "\n",
    "病院中心のケアから，地域や在宅中心のケアへ――．医療・ヘルスケアにこうしたパラダイムシフトが起こりつつある中，日常の生活シーンにおいてバイタルサインを測定し，疾病の早期発見や重症化予防などにつなげる技術（バイタルサインセンシング技術）への関心が高まっている．心拍/脈拍から血圧，心電，血中酸素まで，その対象は多岐にわたる．携帯機器やウエアラブル機器，クラウドコンピューティングなどの登場により，これらのバイタルサインを簡便にセンシングし解析できるようになってきた．技術とビジネスの両面で大きな成長が見込まれる分野である．\n",
    "\n",
    "* [日経XTECH | バイタルサインセンシング技術に関する特許分析と事業化動向](https://xtech.nikkei.com/dm/atcl/feature/15/110800008/)\n"
   ]
  },
  {
   "cell_type": "markdown",
   "metadata": {
    "id": "vem8XJAP4aWh",
    "slideshow": {
     "slide_type": "slide"
    }
   },
   "source": [
    "#### 2.2.6 LiDAR\n",
    "\n",
    "センサ原理\n",
    "*   光が反射して戻ってくるまでの時間で物体形状を測定する\n",
    "*   Light Detection And Ranging\n",
    "*   レーザ光を回転させながら，光の届く範囲を探索する\n",
    "\n",
    "LiDARの用途例 - 自動車の高度自動運転システム（[引用：ROHM](https://www.rohm.co.jp/electronics-basics/laser-diodes/ld_what10)）\n",
    "\n",
    "> 自動車の高度自動運転システムのうち，完全自動運転（レベル5）の実現にはLiDAR技術は必要不可欠である．\n",
    "民生分野ではロボット掃除機やゴルフ測距計，産業機器分野では自動搬送車(AGV)やサービスロボットなど，人や物を高精度に検知する用途に利用されている．\n",
    "> \n",
    "> 高度自動運転システム ADAS（先進運転支援システム：例えば自動ブレーキやレーンキープなど）では，カメラ方式とミリ波レーダー方式の組み合わせが主流です．\n",
    "> 3種類のセンサはそれぞれ環境条件によって長所短所があるため，自動車の自動運転化に向けては，これらにLiDARを加えた3方式の組み合わせが必要と言われている．\n",
    "\n",
    "* [ROHM | LiDAR（ライダー）技術](https://www.rohm.co.jp/electronics-basics/laser-diodes/ld_what10)\n",
    "\n",
    "\n",
    "\n"
   ]
  },
  {
   "cell_type": "markdown",
   "metadata": {
    "id": "nu8jHPtC2Tu5",
    "slideshow": {
     "slide_type": "slide"
    }
   },
   "source": [
    "### 2.3 エッジデバイス"
   ]
  },
  {
   "cell_type": "markdown",
   "metadata": {
    "id": "EYcZaQL1-SmS",
    "slideshow": {
     "slide_type": "slide"
    }
   },
   "source": [
    "#### 2.3.1 エッジデバイス，エッジコンピューティング"
   ]
  },
  {
   "cell_type": "markdown",
   "metadata": {
    "id": "t4wocmUU-W5t",
    "slideshow": {
     "slide_type": "slide"
    }
   },
   "source": [
    "<figure>\n",
    "<a href=\"http://www.mi.u-tokyo.ac.jp/pdf/2-3_data_collection.pdf#page=17\"><img src='https://raw.githubusercontent.com/MDASH-shinshu/MDASH-T-DE/main/3/UTAI-text/JPEG/2-3_data_collection_17.jpg' alt='エッジデバイス，エッジコンピューティング' width='640' border='1'></a>\n",
    "</figure>"
   ]
  },
  {
   "cell_type": "markdown",
   "metadata": {
    "id": "eV9dlDxP4dfQ",
    "slideshow": {
     "slide_type": "slide"
    }
   },
   "source": [
    "#### 2.3.2 IoT端末になりうるデバイス\n",
    "\n",
    "*   スマートフォン，スマートウォッチ\n",
    "*   家電\n",
    "*   スマートスピーカー\n",
    "*   カーナビ，ドラレコ\n",
    "*   センサデバイス\n",
    "\n",
    "参考：[Raspberry Pi (ラズパイ) を使ってできること 使い方 まとめ ― あなたの制作意欲を刺激する作品例64選【2020年11月版】](https://blog.tkrel.com/13647)\n"
   ]
  },
  {
   "cell_type": "markdown",
   "metadata": {
    "id": "eVEyWZtY2V2D",
    "slideshow": {
     "slide_type": "slide"
    }
   },
   "source": [
    "### 2.4 記録したデータの保存"
   ]
  },
  {
   "cell_type": "markdown",
   "metadata": {
    "id": "c0Z8jSay4hY_",
    "slideshow": {
     "slide_type": "slide"
    }
   },
   "source": [
    "ダイレクト型\n",
    "*   各種センサ端末からインターネット上のクラウドにアップロード\n",
    "*   個々の機器は，携帯電話網などに接続する"
   ]
  },
  {
   "cell_type": "markdown",
   "metadata": {
    "id": "pZlQlagk4jKk",
    "slideshow": {
     "slide_type": "slide"
    }
   },
   "source": [
    "クローズド型\n",
    "*   Internet接続しない\n",
    "*   工場内機器の制御など，その場で全ての処理を完結する\n",
    "*   Internet側からの攻撃可能性が低い"
   ]
  },
  {
   "cell_type": "markdown",
   "metadata": {
    "id": "c1zynH1h4le-",
    "slideshow": {
     "slide_type": "slide"
    }
   },
   "source": [
    "エッジデバイス型\n",
    "*   各地で集計した後，統計データのみをアップロード"
   ]
  },
  {
   "cell_type": "markdown",
   "metadata": {
    "id": "50mAErGO4nJ_",
    "slideshow": {
     "slide_type": "slide"
    }
   },
   "source": [
    "オフライン・巡回収集型\n",
    "*   センサ端末にデータを蓄積\n",
    "*   定期的に巡回する作業者が，無線でデータ収集"
   ]
  },
  {
   "cell_type": "markdown",
   "metadata": {
    "id": "FMCT5Jzi2Zzb",
    "slideshow": {
     "slide_type": "slide"
    }
   },
   "source": [
    "## 3. ウェブからの情報収集"
   ]
  },
  {
   "cell_type": "markdown",
   "metadata": {
    "id": "cFIT971a4q3g",
    "slideshow": {
     "slide_type": "slide"
    }
   },
   "source": [
    "### 3.1 SNSからの情報収集"
   ]
  },
  {
   "cell_type": "markdown",
   "metadata": {
    "id": "zXRmGna0MN9A",
    "slideshow": {
     "slide_type": "slide"
    }
   },
   "source": [
    "\n",
    "SNSからデータを集めることのメリット\n",
    "*   SNSは情報の宝庫\n",
    "*   日々の生活スタイルが蓄積されている\n",
    "*   観光地での導線を追跡できる\n",
    "*   商品・製品，サービスを使った感想やレビューが蓄積されている\n",
    "*   困っていること，悩み事，質問が蓄積されている\n",
    "\n",
    "[参考：マーケティングでも使える！SNS情報自動収集ツール5選](https://www.octoparse.jp/blog/top-5-social-media-scraping-tools-for-2018/)"
   ]
  },
  {
   "cell_type": "markdown",
   "metadata": {
    "id": "zNtieH9e2eX8",
    "slideshow": {
     "slide_type": "slide"
    }
   },
   "source": [
    "### 3.2 参加型センシング"
   ]
  },
  {
   "cell_type": "markdown",
   "metadata": {
    "id": "K7uwpEYA4sug",
    "slideshow": {
     "slide_type": "slide"
    }
   },
   "source": [
    "アプリケーション\n",
    "*   ゲーミフィケーション\n",
    "*   ユーザの興味や少しの報酬と引き換えに情報収集する\n",
    "*   場所毎のリアルタイムな天気を収集する\n",
    "*   鉄道の運行情報の集中\n",
    "\n",
    "ゲーミフィケーションで検討すべき要素（[引用：JCS](https://www.convention.co.jp/news/detail/contents_type=16&id=841)）\n",
    "\n",
    "> ゲーミフィケーションをビジネス等に応用するというと，ポイントやレベルの要素を入れればいいと思われるかもしれない．\n",
    "> ゲーミフィケーションとはそうした表面的なものだけでなく，利用者との関係性を強化して，ゲームのように夢中にさせていく一連の行動デザインである．\n",
    "> ゲーミフィケーション施策を試す際には，以下に挙げる必須の要素をおさえておく．\n",
    "> \n",
    "> 目的，クエスト，報酬，可視化\n",
    "\n",
    "* [JCS | ゲーミフィケーションとは？必須要素と事例＆バートルテストの解説！](https://www.convention.co.jp/news/detail/contents_type=16&id=841)"
   ]
  },
  {
   "cell_type": "markdown",
   "metadata": {
    "id": "SKItOAPq2g9x",
    "slideshow": {
     "slide_type": "slide"
    }
   },
   "source": [
    "### 3.3 オープンデータの取組み"
   ]
  },
  {
   "cell_type": "markdown",
   "metadata": {
    "id": "WD15-bWl4wHt",
    "slideshow": {
     "slide_type": "slide"
    }
   },
   "source": [
    "オープンデータの定義\n",
    "*   営利目的　非営利目的を問わず二次利用可能なルールが適用されたもの\n",
    "*   機械判読に適したもの\n",
    "*   無償で利用できるもの\n",
    "\n",
    "（[引用：高度情報通信ネットワーク社会推進戦略本部 オープンデータ基本指針 H29.5.30](https://cio.go.jp/sites/default/files/uploads/documents/data_shishin.pdf)）"
   ]
  },
  {
   "cell_type": "markdown",
   "metadata": {
    "id": "zmWsRQ3AAVZE",
    "slideshow": {
     "slide_type": "slide"
    }
   },
   "source": [
    "<figure>\n",
    "<a href=\"http://www.mi.u-tokyo.ac.jp/pdf/2-3_data_collection.pdf#page=25\"><img src='https://raw.githubusercontent.com/MDASH-shinshu/MDASH-T-DE/main/3/UTAI-text/JPEG/2-3_data_collection_25.jpg' alt='OpenData' width='640' border='1'></a>\n",
    "</figure>\n",
    "\n",
    "* [総務省統計局 | s-Stat 統計で見る日本](https://www.e-stat.go.jp/)\n",
    "* [政府のカタログサイト DATA.GO.JP](https://www.data.go.jp/)"
   ]
  },
  {
   "cell_type": "markdown",
   "metadata": {
    "id": "eA9CDUW940F4",
    "slideshow": {
     "slide_type": "slide"
    }
   },
   "source": [
    "オープンデータの例\n",
    "*   気象情報\n",
    "*   政府統計，経済動向，消費動向指数\n",
    "*   公共交通の時刻表　運行兵法　乗降客数\n",
    "*   インフラの整備状況"
   ]
  },
  {
   "cell_type": "markdown",
   "metadata": {
    "id": "NMplZJ5zAdbA",
    "slideshow": {
     "slide_type": "slide"
    }
   },
   "source": [
    "<figure>\n",
    "<a href=\"http://www.mi.u-tokyo.ac.jp/pdf/2-3_data_collection.pdf#page=26\"><img src='https://raw.githubusercontent.com/MDASH-shinshu/MDASH-T-DE/main/3/UTAI-text/JPEG/2-3_data_collection_26.jpg' alt='e-Sat' width='640' border='1'></a>\n",
    "</figure>"
   ]
  },
  {
   "cell_type": "markdown",
   "metadata": {
    "id": "j5_Wnsa6AlFv",
    "slideshow": {
     "slide_type": "slide"
    }
   },
   "source": [
    "<figure>\n",
    "<a href=\"http://www.mi.u-tokyo.ac.jp/pdf/2-3_data_collection.pdf#page=27\"><img src='https://raw.githubusercontent.com/MDASH-shinshu/MDASH-T-DE/main/3/UTAI-text/JPEG/2-3_data_collection_27.jpg' alt='SSDSE' width='640' border='1'></a>\n",
    "</figure>\n",
    "\n",
    "* [独立行政法人統計センター | SSDSE（教育用標準データセット）](https://www.nstac.go.jp/use/literacy/ssdse/)"
   ]
  },
  {
   "cell_type": "markdown",
   "metadata": {
    "id": "XORztAWfAuDD",
    "slideshow": {
     "slide_type": "slide"
    }
   },
   "source": [
    "<figure>\n",
    "<a href=\"http://www.mi.u-tokyo.ac.jp/pdf/2-3_data_collection.pdf#page=28\"><img src='https://raw.githubusercontent.com/MDASH-shinshu/MDASH-T-DE/main/3/UTAI-text/JPEG/2-3_data_collection_28.jpg' alt='SSDSE' width='640' border='1'></a>\n",
    "</figure>\n",
    "\n",
    "* [SSDSE-市区町村（SSDSE-A）データセット CSVダウンロード](https://www.nstac.go.jp/sys/files//SSDSE-A-2022.csv)\n",
    "* [SSDSE-市区町村（SSDSE-A）データセット Excelダウンロード](https://www.nstac.go.jp/sys/files//SSDSE-A-2022.xlsx)"
   ]
  },
  {
   "cell_type": "markdown",
   "metadata": {
    "id": "xvbS0N4GAyhG",
    "slideshow": {
     "slide_type": "slide"
    }
   },
   "source": [
    "<figure>\n",
    "<a href=\"http://www.mi.u-tokyo.ac.jp/pdf/2-3_data_collection.pdf#page=29\"><img src='https://raw.githubusercontent.com/MDASH-shinshu/MDASH-T-DE/main/3/UTAI-text/JPEG/2-3_data_collection_29.jpg' alt='SSDSE' width='640' border='1'></a>\n",
    "</figure>"
   ]
  },
  {
   "cell_type": "markdown",
   "metadata": {
    "id": "lkKn9nE8jMI3",
    "slideshow": {
     "slide_type": "slide"
    }
   },
   "source": [
    "#### Pythonを使用したJSONオープンデータのHTTP/API経由での取得"
   ]
  },
  {
   "cell_type": "code",
   "execution_count": null,
   "metadata": {
    "colab": {
     "base_uri": "https://localhost:8080/",
     "output_embedded_package_id": "1XPQK_ABCc-vP4LvpthyclEqq1sfPZ_d-"
    },
    "executionInfo": {
     "elapsed": 3401,
     "status": "ok",
     "timestamp": 1663486835188,
     "user": {
      "displayName": "和﨑克己",
      "userId": "01531185103078206810"
     },
     "user_tz": -540
    },
    "id": "lPx-p70rbq7C",
    "outputId": "71733453-1c4a-45f8-dc0e-30a23486a7ff",
    "slideshow": {
     "slide_type": "slide"
    }
   },
   "outputs": [],
   "source": [
    "# HTTPプロトコル経由で サーバからJSONで取得する\n",
    "# 参照元：京都市オープンデータ https://data.city.kyoto.lg.jp/riyou/api\n",
    "\n",
    "import json\n",
    "import urllib.request\n",
    "\n",
    "# API用京都市の施設情報（平成28年11月9日現在）」リソースID番号\n",
    "json = 'https://data.city.kyoto.lg.jp/API/action/datastore/search.json?resource_id=f14b57c2-48dd-4aa7-b754-a4f4ac340f2d'\n",
    "data = urllib.request.urlopen(json)\n",
    "json_data = data.read()\n",
    "print(json_data)\n",
    "\n",
    "# JSONを整形した結果を（人間が）見たい場合は以下（表示が長いので注意）\n",
    "##pdata = json.loads(json_data)\n",
    "##print(json.dumps(pdata, indent=2))\n",
    "\n",
    "data.close()\n"
   ]
  },
  {
   "cell_type": "markdown",
   "metadata": {
    "id": "7_SMmG5Y410k",
    "slideshow": {
     "slide_type": "slide"
    }
   },
   "source": [
    "オープンデータの意義\n",
    "*   公開側：あまりコストをかけない\n",
    "*   サービス提供者：便利なサービスを低コストで提供\n",
    "*   利用者側：誰かがうまく使ってくれるかもしれない"
   ]
  },
  {
   "cell_type": "markdown",
   "metadata": {
    "id": "jLHdbICrA1rM",
    "slideshow": {
     "slide_type": "slide"
    }
   },
   "source": [
    "<figure>\n",
    "<a href=\"http://www.mi.u-tokyo.ac.jp/pdf/2-3_data_collection.pdf#page=30\"><img src='https://raw.githubusercontent.com/MDASH-shinshu/MDASH-T-DE/main/3/UTAI-text/JPEG/2-3_data_collection_30.jpg' alt='留意点' width='640' border='1'></a>\n",
    "</figure>"
   ]
  },
  {
   "cell_type": "markdown",
   "metadata": {
    "id": "nPwiACsr2jNR",
    "slideshow": {
     "slide_type": "slide"
    }
   },
   "source": [
    "### 3.4 データ取得・収集の自動化"
   ]
  },
  {
   "cell_type": "markdown",
   "metadata": {
    "id": "nIHtv1fEAAOC",
    "slideshow": {
     "slide_type": "slide"
    }
   },
   "source": [
    "#### 3.4.1 インターネット上からのコンテンツ収集，FTP，SSH（セキュアトンネル）"
   ]
  },
  {
   "cell_type": "markdown",
   "metadata": {
    "id": "dFDtkr-2_U6S",
    "slideshow": {
     "slide_type": "slide"
    }
   },
   "source": [
    "<figure>\n",
    "<a href=\"http://www.mi.u-tokyo.ac.jp/pdf/2-3_data_collection.pdf#page=20\"><img src='https://raw.githubusercontent.com/MDASH-shinshu/MDASH-T-DE/main/3/UTAI-text/JPEG/2-3_data_collection_20.jpg' alt='Webからのコンテンツ取得の流れ' width='640' border='1'></a>\n",
    "</figure>"
   ]
  },
  {
   "cell_type": "markdown",
   "metadata": {
    "id": "ZTHPkjgt_yWc",
    "slideshow": {
     "slide_type": "slide"
    }
   },
   "source": [
    "<figure>\n",
    "<a href=\"http://www.mi.u-tokyo.ac.jp/pdf/2-3_data_collection.pdf#page=21\"><img src='https://raw.githubusercontent.com/MDASH-shinshu/MDASH-T-DE/main/3/UTAI-text/JPEG/2-3_data_collection_21.jpg' alt='FTP' width='640' border='1'></a>\n",
    "</figure>\n",
    "\n",
    "* [ネットワークエンジニア | FTP](https://www.infraexpert.com/study/tcpip20.html)"
   ]
  },
  {
   "cell_type": "markdown",
   "metadata": {
    "id": "PuOjP6Zp_5Ay",
    "slideshow": {
     "slide_type": "slide"
    }
   },
   "source": [
    "<figure>\n",
    "<a href=\"http://www.mi.u-tokyo.ac.jp/pdf/2-3_data_collection.pdf#page=22\"><img src='https://raw.githubusercontent.com/MDASH-shinshu/MDASH-T-DE/main/3/UTAI-text/JPEG/2-3_data_collection_22.jpg' alt='SSH' width='640' border='1'></a>\n",
    "</figure>\n",
    "\n",
    "* [ネットワークエンジニア | SSH](https://www.infraexpert.com/study/tcpip19.html)"
   ]
  },
  {
   "cell_type": "markdown",
   "metadata": {
    "id": "OME2-7dB44Ba",
    "slideshow": {
     "slide_type": "slide"
    }
   },
   "source": [
    "ウェブクローラ，スクレイピング\n",
    "*   ウェブサイトから自動的にダウンロードする\n",
    "*   専用のアプリを使うか収集用のプログラムを作成する\n",
    "*   ウェブブラウザを自動操作するようなツールも開発されている\n",
    "*   定期的に繰り返し行う場合には，ウェブクローリングを行う"
   ]
  },
  {
   "cell_type": "markdown",
   "metadata": {
    "id": "2PYbqFThBCRK",
    "slideshow": {
     "slide_type": "slide"
    }
   },
   "source": [
    "<figure>\n",
    "<a href=\"http://www.mi.u-tokyo.ac.jp/pdf/2-3_data_collection.pdf#page=31\"><img src='https://raw.githubusercontent.com/MDASH-shinshu/MDASH-T-DE/main/3/UTAI-text/JPEG/2-3_data_collection_31.jpg' alt='Webクローラ' width='640' border='1'></a>\n",
    "</figure>"
   ]
  },
  {
   "cell_type": "markdown",
   "metadata": {
    "id": "iv9Db-GjBHQg",
    "slideshow": {
     "slide_type": "slide"
    }
   },
   "source": [
    "<figure>\n",
    "<a href=\"http://www.mi.u-tokyo.ac.jp/pdf/2-3_data_collection.pdf#page=32\"><img src='https://raw.githubusercontent.com/MDASH-shinshu/MDASH-T-DE/main/3/UTAI-text/JPEG/2-3_data_collection_32.jpg' alt='Webクローラ' width='640' border='1'></a>\n",
    "</figure>"
   ]
  },
  {
   "cell_type": "code",
   "execution_count": null,
   "metadata": {
    "colab": {
     "base_uri": "https://localhost:8080/"
    },
    "executionInfo": {
     "elapsed": 1458,
     "status": "ok",
     "timestamp": 1663487256690,
     "user": {
      "displayName": "和﨑克己",
      "userId": "01531185103078206810"
     },
     "user_tz": -540
    },
    "id": "HVs310oFjr7Y",
    "outputId": "365120fd-3988-4794-9479-aa3fe84f85a9",
    "slideshow": {
     "slide_type": "slide"
    }
   },
   "outputs": [],
   "source": [
    "# Pythonのモジュール (urllib) を用いたWebページ取得の例（スライド#32掲載のもの）\n",
    "\n",
    "import urllib.request\n",
    " \n",
    "response = urllib.request.urlopen(\"https://www.u-tokyo.ac.jp/en/\") # 取得するWebページのURLを指定\n",
    "print(response.getcode()) # HTTPステータスコードの表示\n",
    "print(response.info()) # HTTPヘッダの表示\n",
    "print(response.read()) # コンテンツの表示\n",
    "response.close()"
   ]
  },
  {
   "cell_type": "markdown",
   "metadata": {
    "id": "YWoIW4P5BPR6",
    "slideshow": {
     "slide_type": "slide"
    }
   },
   "source": [
    "<figure>\n",
    "<a href=\"http://www.mi.u-tokyo.ac.jp/pdf/2-3_data_collection.pdf#page=33\"><img src='https://raw.githubusercontent.com/MDASH-shinshu/MDASH-T-DE/main/3/UTAI-text/JPEG/2-3_data_collection_33.jpg' alt='Webスクレイピング' width='640' border='1'></a>\n",
    "</figure>"
   ]
  },
  {
   "cell_type": "markdown",
   "metadata": {
    "id": "k8_F0M8QBX8a",
    "slideshow": {
     "slide_type": "slide"
    }
   },
   "source": [
    "<figure>\n",
    "<a href=\"http://www.mi.u-tokyo.ac.jp/pdf/2-3_data_collection.pdf#page=34\"><img src='https://raw.githubusercontent.com/MDASH-shinshu/MDASH-T-DE/main/3/UTAI-text/JPEG/2-3_data_collection_34.jpg' alt='Webスクレイピング' width='640' border='1'></a>\n",
    "</figure>"
   ]
  },
  {
   "cell_type": "code",
   "execution_count": null,
   "metadata": {
    "colab": {
     "base_uri": "https://localhost:8080/"
    },
    "executionInfo": {
     "elapsed": 1676,
     "status": "ok",
     "timestamp": 1663487496143,
     "user": {
      "displayName": "和﨑克己",
      "userId": "01531185103078206810"
     },
     "user_tz": -540
    },
    "id": "XyLBrrgJkeqv",
    "outputId": "25380b60-8b44-425f-d113-95e937d9eddb",
    "slideshow": {
     "slide_type": "slide"
    }
   },
   "outputs": [],
   "source": [
    "# Pythonのモジュール (Beautiful Soup) を用いたWebスクレイピングの例（スライド#34掲載のもの）\n",
    "\n",
    "import urllib\n",
    "from bs4 import BeautifulSoup\n",
    " \n",
    "response = urllib.request.urlopen(\"https://www.u-tokyo.ac.jp/en/\") # 取得するWebページのURLを指定\n",
    "soup = BeautifulSoup(response) # レスポンスをBSオブジェクトに格納\n",
    "response.close()\n",
    "\n",
    "print(soup.title.text) # レスポンス中のタイトル情報を抽出\n"
   ]
  },
  {
   "cell_type": "code",
   "execution_count": null,
   "metadata": {
    "id": "hCRQv1SEm8r7",
    "slideshow": {
     "slide_type": "slide"
    }
   },
   "outputs": [],
   "source": [
    "# retryモジュールをインストール\n",
    "# 参考：https://memo.techack.net/python/retry.html\n",
    "!pip install retry"
   ]
  },
  {
   "cell_type": "code",
   "execution_count": null,
   "metadata": {
    "colab": {
     "base_uri": "https://localhost:8080/"
    },
    "executionInfo": {
     "elapsed": 24840,
     "status": "ok",
     "timestamp": 1663488299876,
     "user": {
      "displayName": "和﨑克己",
      "userId": "01531185103078206810"
     },
     "user_tz": -540
    },
    "id": "DfKejP5RljuM",
    "outputId": "eba0ea1f-134f-4982-9bc3-5866ea10037c",
    "slideshow": {
     "slide_type": "slide"
    }
   },
   "outputs": [],
   "source": [
    "# （参考情報） 【コード解説】PythonでSUUMOの賃貸物件情報をスクレイピング\n",
    "# https://myfrankblog.com/scraping-suumo-website/\n",
    "\n",
    "from retry import retry\n",
    "import requests\n",
    "from bs4 import BeautifulSoup\n",
    "import pandas as pd \n",
    "\n",
    "# 東京23区\n",
    "base_url = \"https://suumo.jp/jj/chintai/ichiran/FR301FC001/?ar=030&bs=040&ta=13&sc=13101&sc=13102&sc=13103&sc=13104&sc=13105&sc=13113&sc=13106&sc=13107&sc=13108&sc=13118&sc=13121&sc=13122&sc=13123&sc=13109&sc=13110&sc=13111&sc=13112&sc=13114&sc=13115&sc=13120&sc=13116&sc=13117&sc=13119&cb=0.0&ct=9999999&mb=0&mt=9999999&et=9999999&cn=9999999&shkr1=03&shkr2=03&shkr3=03&shkr4=03&sngz=&po1=25&pc=50&page={}\"\n",
    "\n",
    "@retry(tries=3, delay=1, backoff=1)\n",
    "def get_html(url):\n",
    "  r = requests.get(url)\n",
    "  soup = BeautifulSoup(r.content, \"html.parser\")\n",
    "  return soup\n",
    "\n",
    "all_data = []\n",
    "max_page = 3  #クロールする最大ページ数を指定する．東京23区だと50ページ，全部だと1697ページもあるらしい\n",
    "\n",
    "for page in range(1, max_page+1):\n",
    "  # define url \n",
    "  url = base_url.format(page)\n",
    "\n",
    "  # get html\n",
    "  soup = get_html(url)\n",
    "\n",
    "  # extract all items\n",
    "  items = soup.findAll(\"div\", {\"class\": \"cassetteitem\"})\n",
    "  print(\"page\", page, \"items\", len(items))\n",
    "\n",
    "  # process each item\n",
    "  for item in items:\n",
    "    stations = item.findAll(\"div\", {\"class\": \"cassetteitem_detail-text\"})\n",
    "\n",
    "    # process each station \n",
    "    for station in stations:\n",
    "      # define variable \n",
    "      base_data = {}\n",
    "\n",
    "      # collect base information    \n",
    "      base_data[\"名称\"] = item.find(\"div\", {\"class\": \"cassetteitem_content-title\"}).getText().strip()\n",
    "      base_data[\"カテゴリー\"] = item.find(\"div\", {\"class\": \"cassetteitem_content-label\"}).getText().strip()\n",
    "      base_data[\"アドレス\"] = item.find(\"li\", {\"class\": \"cassetteitem_detail-col1\"}).getText().strip()\n",
    "      base_data[\"アクセス\"] = station.getText().strip()\n",
    "      base_data[\"築年数\"] = item.find(\"li\", {\"class\": \"cassetteitem_detail-col3\"}).findAll(\"div\")[0].getText().strip()\n",
    "      base_data[\"構造\"] = item.find(\"li\", {\"class\": \"cassetteitem_detail-col3\"}).findAll(\"div\")[1].getText().strip()\n",
    "\n",
    "      # process for each room\n",
    "      tbodys = item.find(\"table\", {\"class\": \"cassetteitem_other\"}).findAll(\"tbody\")\n",
    "\n",
    "      for tbody in tbodys:\n",
    "        data = base_data.copy()\n",
    "\n",
    "        data[\"階数\"] = tbody.findAll(\"td\")[2].getText().strip()\n",
    "\n",
    "        data[\"家賃\"] = tbody.findAll(\"td\")[3].findAll(\"li\")[0].getText().strip()\n",
    "        data[\"管理費\"] = tbody.findAll(\"td\")[3].findAll(\"li\")[1].getText().strip()\n",
    "\n",
    "        data[\"敷金\"] = tbody.findAll(\"td\")[4].findAll(\"li\")[0].getText().strip()\n",
    "        data[\"礼金\"] = tbody.findAll(\"td\")[4].findAll(\"li\")[1].getText().strip()\n",
    "\n",
    "        data[\"間取り\"] = tbody.findAll(\"td\")[5].findAll(\"li\")[0].getText().strip()\n",
    "        data[\"面積\"] = tbody.findAll(\"td\")[5].findAll(\"li\")[1].getText().strip()\n",
    "\n",
    "        data[\"URL\"] = \"https://suumo.jp\" + tbody.findAll(\"td\")[8].find(\"a\").get(\"href\")\n",
    "\n",
    "        all_data.append(data)    \n",
    "\n",
    "# convert to dataframe\n",
    "df = pd.DataFrame(all_data)"
   ]
  },
  {
   "cell_type": "code",
   "execution_count": null,
   "metadata": {
    "colab": {
     "base_uri": "https://localhost:8080/",
     "height": 1000
    },
    "executionInfo": {
     "elapsed": 298,
     "status": "ok",
     "timestamp": 1663489405687,
     "user": {
      "displayName": "和﨑克己",
      "userId": "01531185103078206810"
     },
     "user_tz": -540
    },
    "id": "BFhKcilIoe29",
    "outputId": "192a2bc2-ba26-4de9-bd6c-8b2ffbee996f",
    "slideshow": {
     "slide_type": "slide"
    }
   },
   "outputs": [],
   "source": [
    "# dataframeをきれいに表示して，オンデマンド・ソーティングをしてみる\n",
    "import pandas as pd\n",
    "from IPython.display import display\n",
    "\n",
    "display(df)\n"
   ]
  },
  {
   "cell_type": "markdown",
   "metadata": {
    "id": "F-IG2u9Q45zf",
    "slideshow": {
     "slide_type": "slide"
    }
   },
   "source": [
    "ウェブAPI\n",
    "*   API (Application Programming INterface)\n",
    "  人間ではなく，プログラムにデータ提供する仕組み\n",
    "*   スクレイピングするよりも効率的になる\n",
    "*   検索サイト，SNS, 通販サイトの多くがAPIを提供している"
   ]
  },
  {
   "cell_type": "markdown",
   "metadata": {
    "id": "1GfY3WgEAJGT",
    "slideshow": {
     "slide_type": "slide"
    }
   },
   "source": [
    "<figure>\n",
    "<a href=\"http://www.mi.u-tokyo.ac.jp/pdf/2-3_data_collection.pdf#page=23\"><img src='https://raw.githubusercontent.com/MDASH-shinshu/MDASH-T-DE/main/3/UTAI-text/JPEG/2-3_data_collection_23.jpg' alt='API' width='640' border='1'></a>\n",
    "</figure>"
   ]
  },
  {
   "cell_type": "markdown",
   "metadata": {
    "id": "Ar3FPeFlAOfK",
    "slideshow": {
     "slide_type": "slide"
    }
   },
   "source": [
    "<figure>\n",
    "<a href=\"http://www.mi.u-tokyo.ac.jp/pdf/2-3_data_collection.pdf#page=24\"><img src='https://raw.githubusercontent.com/MDASH-shinshu/MDASH-T-DE/main/3/UTAI-text/JPEG/2-3_data_collection_24.jpg' alt='SDK' width='640' border='1'></a>\n",
    "</figure>"
   ]
  },
  {
   "cell_type": "markdown",
   "metadata": {
    "id": "Vfm5RQhf47mV",
    "slideshow": {
     "slide_type": "slide"
    }
   },
   "source": [
    "データのアノテーション\n",
    "*   注釈などのメタデータを紐付ける作業\n",
    "*   生データでは何を意味しているのかわからないので，周辺データ等から意味を推定する"
   ]
  },
  {
   "cell_type": "markdown",
   "metadata": {
    "id": "7viDUTuBBbqF",
    "slideshow": {
     "slide_type": "slide"
    }
   },
   "source": [
    "<figure>\n",
    "<a href=\"http://www.mi.u-tokyo.ac.jp/pdf/2-3_data_collection.pdf#page=35\"><img src='https://raw.githubusercontent.com/MDASH-shinshu/MDASH-T-DE/main/3/UTAI-text/JPEG/2-3_data_collection_35.jpg' alt='アノテーション' width='640' border='1'></a>\n",
    "</figure>\n",
    "\n",
    "* [DATA.GO.JP | 政府データカタログのメタデータ](https://www.data.go.jp/for-developer/for-developer)"
   ]
  },
  {
   "cell_type": "markdown",
   "metadata": {
    "id": "LHYKwP74BiGu",
    "slideshow": {
     "slide_type": "slide"
    }
   },
   "source": [
    "<figure>\n",
    "<a href=\"http://www.mi.u-tokyo.ac.jp/pdf/2-3_data_collection.pdf#page=36\"><img src='https://raw.githubusercontent.com/MDASH-shinshu/MDASH-T-DE/main/3/UTAI-text/JPEG/2-3_data_collection_36.jpg' alt='アノテーション' width='640' border='1'></a>\n",
    "</figure>\n",
    "\n",
    "* [DBpedia | Wikipediaから情報を抽出してLOD (Linked Open Data)として公開するコミュニティプロジェクト](https://ja.dbpedia.org/) [(CC-BY-SA 3.0)](http://creativecommons.org/licenses/by-sa/3.0/)"
   ]
  },
  {
   "cell_type": "markdown",
   "metadata": {
    "id": "pTI8-BzWBl3G",
    "slideshow": {
     "slide_type": "slide"
    }
   },
   "source": [
    "<figure>\n",
    "<a href=\"http://www.mi.u-tokyo.ac.jp/pdf/2-3_data_collection.pdf#page=37\"><img src='https://raw.githubusercontent.com/MDASH-shinshu/MDASH-T-DE/main/3/UTAI-text/JPEG/2-3_data_collection_37.jpg' alt='アノテーション' width='640' border='1'></a>\n",
    "</figure>\n",
    "\n",
    "* [DBpedia 信州大学に関するページ一覧のクエリ例](https://ja.dbpedia.org/sparql?default-graph-uri=http%3A%2F%2Fja.dbpedia.org&query=select+distinct+*+where+%7B+%3Chttp%3A%2F%2Fja.dbpedia.org%2Fresource%2F%E4%BF%A1%E5%B7%9E%E5%A4%A7%E5%AD%A6%3E+%3Fp+%3Fo+.+%7D&format=text%2Fhtml&should-sponge=&timeout=0&signal_void=on) [(CC-BY-SA 3.0)](http://creativecommons.org/licenses/by-sa/3.0/)"
   ]
  },
  {
   "cell_type": "markdown",
   "metadata": {
    "id": "-1hfyWJ2BoQS",
    "slideshow": {
     "slide_type": "slide"
    }
   },
   "source": [
    "<figure>\n",
    "<a href=\"http://www.mi.u-tokyo.ac.jp/pdf/2-3_data_collection.pdf#page=38\"><img src='https://raw.githubusercontent.com/MDASH-shinshu/MDASH-T-DE/main/3/UTAI-text/JPEG/2-3_data_collection_38.jpg' alt='アノテーション' width='640' border='1'></a>\n",
    "</figure>\n",
    "\n",
    "* [The Linked Open Data Cloud](https://lod-cloud.net/) [(CC-BY-SA 3.0)](http://creativecommons.org/licenses/by-sa/3.0/)"
   ]
  },
  {
   "cell_type": "markdown",
   "metadata": {
    "id": "DHQkZ7WJJOXd",
    "slideshow": {
     "slide_type": "slide"
    }
   },
   "source": [
    "# memo"
   ]
  }
 ],
 "metadata": {
  "celltoolbar": "Slideshow",
  "colab": {
   "collapsed_sections": [],
   "provenance": [],
   "toc_visible": true
  },
  "kernelspec": {
   "display_name": "Python 3 (ipykernel)",
   "language": "python",
   "name": "python3"
  },
  "language_info": {
   "codemirror_mode": {
    "name": "ipython",
    "version": 3
   },
   "file_extension": ".py",
   "mimetype": "text/x-python",
   "name": "python",
   "nbconvert_exporter": "python",
   "pygments_lexer": "ipython3",
   "version": "3.10.6"
  }
 },
 "nbformat": 4,
 "nbformat_minor": 1
}
