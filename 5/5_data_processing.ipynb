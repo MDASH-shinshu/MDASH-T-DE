{
 "cells": [
  {
   "cell_type": "markdown",
   "metadata": {
    "id": "u5-sJJLDXT2v",
    "slideshow": {
     "slide_type": "slide"
    }
   },
   "source": [
    "# データ加工\n",
    "\n",
    "《学修項目》\n",
    "* ◎集計処理、四則演算処理\n",
    "* ◎ソート処理、サンプリング処理\n",
    "* ◎クレンジング処理（外れ値、異常値、欠損値）\n",
    "* 結合処理（内部結合、外部結合）\n",
    "* データ型変換処理\n",
    "* データの標準化、ダミー変数\n",
    "\n",
    "《キーワード》\n",
    "> 量的データ，質的データ, 単純集計, クロス集計, ソート処理とマージ処理, 統合処理とクエリ, 内部結合と外部結合, データクレンジング，データクリーニング, 欠損値処理, 外れ値処理, 異常値処理, ノイズの除去, データの型変換, スケーリング（正規化，標準化）\n"
   ]
  },
  {
   "cell_type": "markdown",
   "metadata": {
    "id": "xngFmphdjt1j",
    "slideshow": {
     "slide_type": "slide"
    }
   },
   "source": [
    "《参考文献，参考書籍》\n",
    "*   [1] [東京大学MIセンター公開教材 「2-5 データ加工」](http://www.mi.u-tokyo.ac.jp/pdf/2-5_data_processing.pdf) [《利用条件CC BY-NC-SA》](https://creativecommons.org/licenses/by-nc-sa/4.0/deed.ja)\n",
    "*   [2] [データサイエンスのためのデータベース（データサイエンス入門シリーズ）（講談社）](https://www.kspub.co.jp/book/detail/5193105.html)\n",
    "*   [3] [数理・データサイエンス・AI公開講座（放送大学）](https://www.ouj.ac.jp/booklet/2022/29_2022_MDS-AI.pdf)"
   ]
  },
  {
   "cell_type": "markdown",
   "metadata": {
    "id": "uEDbHMvA1vwi",
    "slideshow": {
     "slide_type": "slide"
    }
   },
   "source": [
    "## 1. データの集計"
   ]
  },
  {
   "cell_type": "markdown",
   "metadata": {
    "id": "64ojeM2oeV-K",
    "slideshow": {
     "slide_type": "slide"
    }
   },
   "source": [
    "あらまし\n",
    "* データベースにおける用語\n",
    "* データの種類（量的データ，質的データ）\n",
    "* 単純集計\n",
    "* クロス集計\n",
    "* ソート処理とマージ処理\n"
   ]
  },
  {
   "cell_type": "markdown",
   "metadata": {
    "id": "APc4tAjz11Ad",
    "slideshow": {
     "slide_type": "slide"
    }
   },
   "source": [
    "### 1.1 データ加工（data processing）とは"
   ]
  },
  {
   "cell_type": "markdown",
   "metadata": {
    "id": "m2-ein_i8gGf",
    "slideshow": {
     "slide_type": "slide"
    }
   },
   "source": [
    "<figure>\n",
    "<a href=\"http://www.mi.u-tokyo.ac.jp/pdf/2-5_data_processing.pdf#page=4\"><img src='https://raw.githubusercontent.com/MDASH-shinshu/MDASH-T-DE/main/5/UTAI-text/JPEG/2-5_data_processing_04.jpg' alt='データ加工とは' width='640' border='1'></a>\n",
    "</figure>"
   ]
  },
  {
   "cell_type": "markdown",
   "metadata": {
    "id": "XFq_WNXhijF3",
    "slideshow": {
     "slide_type": "slide"
    }
   },
   "source": [
    "### 1.2 データベースにおける用語\n",
    "\n",
    "* テーブル（表），カラム（列），レコード（行）RDBではタプル，フィールド値（セル値）　※（カッコ）はExcelでの呼び方"
   ]
  },
  {
   "cell_type": "markdown",
   "metadata": {
    "id": "eZ-GBz7t7iO-",
    "slideshow": {
     "slide_type": "slide"
    }
   },
   "source": [
    "#### Python pandasライブラリで行単位でデータを作ってみる\n",
    "\n",
    "例）9011から9016までの6名の学生の性別とクラス名，3科目のテストの点数（整数で100点満点）のテーブル"
   ]
  },
  {
   "cell_type": "code",
   "execution_count": 1,
   "metadata": {
    "executionInfo": {
     "elapsed": 507,
     "status": "ok",
     "timestamp": 1663930054894,
     "user": {
      "displayName": "和﨑克己",
      "userId": "01531185103078206810"
     },
     "user_tz": -540
    },
    "id": "ZoIZwI4zu-Vt",
    "slideshow": {
     "slide_type": "slide"
    }
   },
   "outputs": [],
   "source": [
    "## Python pandasライブラリで列単位でデータを作って，カラム・レコード・フィールド値単位で見てみる\n",
    "## 参考:https://pystyle.info/pandas-table-styling-cheatsheet/\n",
    "import numpy as np\n",
    "import pandas as pd\n",
    "from IPython.display import display, HTML\n",
    "\n",
    "# CSVデータなどから read_csv して dataへ読み込んでも良い．\n",
    "data = [[\"Male\", \"A\", 84, 70, 96], [\"Male\", \"B\", 79, 79, 79], [\"Female\", \"A\", 89, 92, 86], \n",
    "        [\"Male\", \"A\", 99, 76, 98], [\"Female\", \"C\", 56, 60, 70], [\"Female\", \"C\", 46, 44, 47]]\n",
    "\n",
    "df = pd.DataFrame(data,\n",
    "    index=[\"9011\", \"9012\", \"9013\", \"9014\", \"9015\", \"9016\"],\n",
    "    columns=[\"gender\", \"class\", \"Math\", \"English\", \"Physics\"],\n",
    ")\n",
    "\n",
    "# 各行の合計を新たな列 Row_Total として追加する（横軸方向で数値のみ）\n",
    "df.loc[:,'Row_Total'] = df.sum(numeric_only=True, axis=1)"
   ]
  },
  {
   "cell_type": "code",
   "execution_count": 2,
   "metadata": {
    "colab": {
     "base_uri": "https://localhost:8080/",
     "height": 238
    },
    "executionInfo": {
     "elapsed": 29,
     "status": "ok",
     "timestamp": 1663930054895,
     "user": {
      "displayName": "和﨑克己",
      "userId": "01531185103078206810"
     },
     "user_tz": -540
    },
    "id": "ohdLIo3n6Q9V",
    "outputId": "c1631100-d7c0-4f3f-aaf9-f4639cd91ffa",
    "slideshow": {
     "slide_type": "slide"
    }
   },
   "outputs": [
    {
     "data": {
      "text/html": [
       "<style type=\"text/css\">\n",
       "#T_46480_row0_col3, #T_46480_row1_col3, #T_46480_row2_col3, #T_46480_row3_col3, #T_46480_row4_col3, #T_46480_row5_col3 {\n",
       "  background-color: green;\n",
       "}\n",
       "</style>\n",
       "<table id=\"T_46480\">\n",
       "  <thead>\n",
       "    <tr>\n",
       "      <th class=\"blank level0\" >&nbsp;</th>\n",
       "      <th id=\"T_46480_level0_col0\" class=\"col_heading level0 col0\" >gender</th>\n",
       "      <th id=\"T_46480_level0_col1\" class=\"col_heading level0 col1\" >class</th>\n",
       "      <th id=\"T_46480_level0_col2\" class=\"col_heading level0 col2\" >Math</th>\n",
       "      <th id=\"T_46480_level0_col3\" class=\"col_heading level0 col3\" >English</th>\n",
       "      <th id=\"T_46480_level0_col4\" class=\"col_heading level0 col4\" >Physics</th>\n",
       "      <th id=\"T_46480_level0_col5\" class=\"col_heading level0 col5\" >Row_Total</th>\n",
       "    </tr>\n",
       "  </thead>\n",
       "  <tbody>\n",
       "    <tr>\n",
       "      <th id=\"T_46480_level0_row0\" class=\"row_heading level0 row0\" >9011</th>\n",
       "      <td id=\"T_46480_row0_col0\" class=\"data row0 col0\" >Male</td>\n",
       "      <td id=\"T_46480_row0_col1\" class=\"data row0 col1\" >A</td>\n",
       "      <td id=\"T_46480_row0_col2\" class=\"data row0 col2\" >84</td>\n",
       "      <td id=\"T_46480_row0_col3\" class=\"data row0 col3\" >70</td>\n",
       "      <td id=\"T_46480_row0_col4\" class=\"data row0 col4\" >96</td>\n",
       "      <td id=\"T_46480_row0_col5\" class=\"data row0 col5\" >250</td>\n",
       "    </tr>\n",
       "    <tr>\n",
       "      <th id=\"T_46480_level0_row1\" class=\"row_heading level0 row1\" >9012</th>\n",
       "      <td id=\"T_46480_row1_col0\" class=\"data row1 col0\" >Male</td>\n",
       "      <td id=\"T_46480_row1_col1\" class=\"data row1 col1\" >B</td>\n",
       "      <td id=\"T_46480_row1_col2\" class=\"data row1 col2\" >79</td>\n",
       "      <td id=\"T_46480_row1_col3\" class=\"data row1 col3\" >79</td>\n",
       "      <td id=\"T_46480_row1_col4\" class=\"data row1 col4\" >79</td>\n",
       "      <td id=\"T_46480_row1_col5\" class=\"data row1 col5\" >237</td>\n",
       "    </tr>\n",
       "    <tr>\n",
       "      <th id=\"T_46480_level0_row2\" class=\"row_heading level0 row2\" >9013</th>\n",
       "      <td id=\"T_46480_row2_col0\" class=\"data row2 col0\" >Female</td>\n",
       "      <td id=\"T_46480_row2_col1\" class=\"data row2 col1\" >A</td>\n",
       "      <td id=\"T_46480_row2_col2\" class=\"data row2 col2\" >89</td>\n",
       "      <td id=\"T_46480_row2_col3\" class=\"data row2 col3\" >92</td>\n",
       "      <td id=\"T_46480_row2_col4\" class=\"data row2 col4\" >86</td>\n",
       "      <td id=\"T_46480_row2_col5\" class=\"data row2 col5\" >267</td>\n",
       "    </tr>\n",
       "    <tr>\n",
       "      <th id=\"T_46480_level0_row3\" class=\"row_heading level0 row3\" >9014</th>\n",
       "      <td id=\"T_46480_row3_col0\" class=\"data row3 col0\" >Male</td>\n",
       "      <td id=\"T_46480_row3_col1\" class=\"data row3 col1\" >A</td>\n",
       "      <td id=\"T_46480_row3_col2\" class=\"data row3 col2\" >99</td>\n",
       "      <td id=\"T_46480_row3_col3\" class=\"data row3 col3\" >76</td>\n",
       "      <td id=\"T_46480_row3_col4\" class=\"data row3 col4\" >98</td>\n",
       "      <td id=\"T_46480_row3_col5\" class=\"data row3 col5\" >273</td>\n",
       "    </tr>\n",
       "    <tr>\n",
       "      <th id=\"T_46480_level0_row4\" class=\"row_heading level0 row4\" >9015</th>\n",
       "      <td id=\"T_46480_row4_col0\" class=\"data row4 col0\" >Female</td>\n",
       "      <td id=\"T_46480_row4_col1\" class=\"data row4 col1\" >C</td>\n",
       "      <td id=\"T_46480_row4_col2\" class=\"data row4 col2\" >56</td>\n",
       "      <td id=\"T_46480_row4_col3\" class=\"data row4 col3\" >60</td>\n",
       "      <td id=\"T_46480_row4_col4\" class=\"data row4 col4\" >70</td>\n",
       "      <td id=\"T_46480_row4_col5\" class=\"data row4 col5\" >186</td>\n",
       "    </tr>\n",
       "    <tr>\n",
       "      <th id=\"T_46480_level0_row5\" class=\"row_heading level0 row5\" >9016</th>\n",
       "      <td id=\"T_46480_row5_col0\" class=\"data row5 col0\" >Female</td>\n",
       "      <td id=\"T_46480_row5_col1\" class=\"data row5 col1\" >C</td>\n",
       "      <td id=\"T_46480_row5_col2\" class=\"data row5 col2\" >46</td>\n",
       "      <td id=\"T_46480_row5_col3\" class=\"data row5 col3\" >44</td>\n",
       "      <td id=\"T_46480_row5_col4\" class=\"data row5 col4\" >47</td>\n",
       "      <td id=\"T_46480_row5_col5\" class=\"data row5 col5\" >137</td>\n",
       "    </tr>\n",
       "  </tbody>\n",
       "</table>\n"
      ],
      "text/plain": [
       "<pandas.io.formats.style.Styler at 0x10d235360>"
      ]
     },
     "metadata": {},
     "output_type": "display_data"
    }
   ],
   "source": [
    "# English カラム（列） を緑色にする\n",
    "css_bg_b = {\"background-color\": \"green\"}\n",
    "display(df.style.set_properties(subset=\"English\", **css_bg_b))"
   ]
  },
  {
   "cell_type": "code",
   "execution_count": 3,
   "metadata": {
    "colab": {
     "base_uri": "https://localhost:8080/",
     "height": 238
    },
    "executionInfo": {
     "elapsed": 28,
     "status": "ok",
     "timestamp": 1663930054895,
     "user": {
      "displayName": "和﨑克己",
      "userId": "01531185103078206810"
     },
     "user_tz": -540
    },
    "id": "d7HtFSmz6UZP",
    "outputId": "21d73835-16b1-4b13-8f7e-e523399bfb8b",
    "slideshow": {
     "slide_type": "slide"
    }
   },
   "outputs": [
    {
     "data": {
      "text/html": [
       "<style type=\"text/css\">\n",
       "#T_1dd5f_row2_col0, #T_1dd5f_row2_col1, #T_1dd5f_row2_col2, #T_1dd5f_row2_col3, #T_1dd5f_row2_col4, #T_1dd5f_row2_col5 {\n",
       "  background-color: orange;\n",
       "}\n",
       "</style>\n",
       "<table id=\"T_1dd5f\">\n",
       "  <thead>\n",
       "    <tr>\n",
       "      <th class=\"blank level0\" >&nbsp;</th>\n",
       "      <th id=\"T_1dd5f_level0_col0\" class=\"col_heading level0 col0\" >gender</th>\n",
       "      <th id=\"T_1dd5f_level0_col1\" class=\"col_heading level0 col1\" >class</th>\n",
       "      <th id=\"T_1dd5f_level0_col2\" class=\"col_heading level0 col2\" >Math</th>\n",
       "      <th id=\"T_1dd5f_level0_col3\" class=\"col_heading level0 col3\" >English</th>\n",
       "      <th id=\"T_1dd5f_level0_col4\" class=\"col_heading level0 col4\" >Physics</th>\n",
       "      <th id=\"T_1dd5f_level0_col5\" class=\"col_heading level0 col5\" >Row_Total</th>\n",
       "    </tr>\n",
       "  </thead>\n",
       "  <tbody>\n",
       "    <tr>\n",
       "      <th id=\"T_1dd5f_level0_row0\" class=\"row_heading level0 row0\" >9011</th>\n",
       "      <td id=\"T_1dd5f_row0_col0\" class=\"data row0 col0\" >Male</td>\n",
       "      <td id=\"T_1dd5f_row0_col1\" class=\"data row0 col1\" >A</td>\n",
       "      <td id=\"T_1dd5f_row0_col2\" class=\"data row0 col2\" >84</td>\n",
       "      <td id=\"T_1dd5f_row0_col3\" class=\"data row0 col3\" >70</td>\n",
       "      <td id=\"T_1dd5f_row0_col4\" class=\"data row0 col4\" >96</td>\n",
       "      <td id=\"T_1dd5f_row0_col5\" class=\"data row0 col5\" >250</td>\n",
       "    </tr>\n",
       "    <tr>\n",
       "      <th id=\"T_1dd5f_level0_row1\" class=\"row_heading level0 row1\" >9012</th>\n",
       "      <td id=\"T_1dd5f_row1_col0\" class=\"data row1 col0\" >Male</td>\n",
       "      <td id=\"T_1dd5f_row1_col1\" class=\"data row1 col1\" >B</td>\n",
       "      <td id=\"T_1dd5f_row1_col2\" class=\"data row1 col2\" >79</td>\n",
       "      <td id=\"T_1dd5f_row1_col3\" class=\"data row1 col3\" >79</td>\n",
       "      <td id=\"T_1dd5f_row1_col4\" class=\"data row1 col4\" >79</td>\n",
       "      <td id=\"T_1dd5f_row1_col5\" class=\"data row1 col5\" >237</td>\n",
       "    </tr>\n",
       "    <tr>\n",
       "      <th id=\"T_1dd5f_level0_row2\" class=\"row_heading level0 row2\" >9013</th>\n",
       "      <td id=\"T_1dd5f_row2_col0\" class=\"data row2 col0\" >Female</td>\n",
       "      <td id=\"T_1dd5f_row2_col1\" class=\"data row2 col1\" >A</td>\n",
       "      <td id=\"T_1dd5f_row2_col2\" class=\"data row2 col2\" >89</td>\n",
       "      <td id=\"T_1dd5f_row2_col3\" class=\"data row2 col3\" >92</td>\n",
       "      <td id=\"T_1dd5f_row2_col4\" class=\"data row2 col4\" >86</td>\n",
       "      <td id=\"T_1dd5f_row2_col5\" class=\"data row2 col5\" >267</td>\n",
       "    </tr>\n",
       "    <tr>\n",
       "      <th id=\"T_1dd5f_level0_row3\" class=\"row_heading level0 row3\" >9014</th>\n",
       "      <td id=\"T_1dd5f_row3_col0\" class=\"data row3 col0\" >Male</td>\n",
       "      <td id=\"T_1dd5f_row3_col1\" class=\"data row3 col1\" >A</td>\n",
       "      <td id=\"T_1dd5f_row3_col2\" class=\"data row3 col2\" >99</td>\n",
       "      <td id=\"T_1dd5f_row3_col3\" class=\"data row3 col3\" >76</td>\n",
       "      <td id=\"T_1dd5f_row3_col4\" class=\"data row3 col4\" >98</td>\n",
       "      <td id=\"T_1dd5f_row3_col5\" class=\"data row3 col5\" >273</td>\n",
       "    </tr>\n",
       "    <tr>\n",
       "      <th id=\"T_1dd5f_level0_row4\" class=\"row_heading level0 row4\" >9015</th>\n",
       "      <td id=\"T_1dd5f_row4_col0\" class=\"data row4 col0\" >Female</td>\n",
       "      <td id=\"T_1dd5f_row4_col1\" class=\"data row4 col1\" >C</td>\n",
       "      <td id=\"T_1dd5f_row4_col2\" class=\"data row4 col2\" >56</td>\n",
       "      <td id=\"T_1dd5f_row4_col3\" class=\"data row4 col3\" >60</td>\n",
       "      <td id=\"T_1dd5f_row4_col4\" class=\"data row4 col4\" >70</td>\n",
       "      <td id=\"T_1dd5f_row4_col5\" class=\"data row4 col5\" >186</td>\n",
       "    </tr>\n",
       "    <tr>\n",
       "      <th id=\"T_1dd5f_level0_row5\" class=\"row_heading level0 row5\" >9016</th>\n",
       "      <td id=\"T_1dd5f_row5_col0\" class=\"data row5 col0\" >Female</td>\n",
       "      <td id=\"T_1dd5f_row5_col1\" class=\"data row5 col1\" >C</td>\n",
       "      <td id=\"T_1dd5f_row5_col2\" class=\"data row5 col2\" >46</td>\n",
       "      <td id=\"T_1dd5f_row5_col3\" class=\"data row5 col3\" >44</td>\n",
       "      <td id=\"T_1dd5f_row5_col4\" class=\"data row5 col4\" >47</td>\n",
       "      <td id=\"T_1dd5f_row5_col5\" class=\"data row5 col5\" >137</td>\n",
       "    </tr>\n",
       "  </tbody>\n",
       "</table>\n"
      ],
      "text/plain": [
       "<pandas.io.formats.style.Styler at 0x12a517490>"
      ]
     },
     "metadata": {},
     "output_type": "display_data"
    }
   ],
   "source": [
    "# id \"9013\"番 の レコード（行） をオレンジ色にする\n",
    "css_bg_o = {\"background-color\": \"orange\"}\n",
    "display(df.style.set_properties(subset=pd.IndexSlice[\"9013\", :], **css_bg_o))"
   ]
  },
  {
   "cell_type": "code",
   "execution_count": 4,
   "metadata": {
    "colab": {
     "base_uri": "https://localhost:8080/",
     "height": 238
    },
    "executionInfo": {
     "elapsed": 29,
     "status": "ok",
     "timestamp": 1663930054896,
     "user": {
      "displayName": "和﨑克己",
      "userId": "01531185103078206810"
     },
     "user_tz": -540
    },
    "id": "yt-RbS8q6q_H",
    "outputId": "d46cfd59-29b9-4fbb-9232-dd163d809bc8",
    "slideshow": {
     "slide_type": "slide"
    }
   },
   "outputs": [
    {
     "data": {
      "text/html": [
       "<style type=\"text/css\">\n",
       "#T_d94b5_row0_col2 {\n",
       "  background-color: #1278b4;\n",
       "  color: #f1f1f1;\n",
       "}\n",
       "#T_d94b5_row0_col3 {\n",
       "  background-color: #60a1ca;\n",
       "  color: #f1f1f1;\n",
       "}\n",
       "#T_d94b5_row0_col4 {\n",
       "  background-color: #034369;\n",
       "  color: #f1f1f1;\n",
       "}\n",
       "#T_d94b5_row0_col5 {\n",
       "  background-color: #046299;\n",
       "  color: #f1f1f1;\n",
       "}\n",
       "#T_d94b5_row1_col2 {\n",
       "  background-color: #3790c0;\n",
       "  color: #f1f1f1;\n",
       "}\n",
       "#T_d94b5_row1_col3 {\n",
       "  background-color: #0d75b3;\n",
       "  color: #f1f1f1;\n",
       "}\n",
       "#T_d94b5_row1_col4 {\n",
       "  background-color: #358fc0;\n",
       "  color: #f1f1f1;\n",
       "}\n",
       "#T_d94b5_row1_col5 {\n",
       "  background-color: #0a73b2;\n",
       "  color: #f1f1f1;\n",
       "}\n",
       "#T_d94b5_row2_col2 {\n",
       "  background-color: #05659f;\n",
       "  color: #f1f1f1;\n",
       "}\n",
       "#T_d94b5_row2_col3, #T_d94b5_row3_col2, #T_d94b5_row3_col4, #T_d94b5_row3_col5 {\n",
       "  background-color: #023858;\n",
       "  color: #f1f1f1;\n",
       "}\n",
       "#T_d94b5_row2_col4 {\n",
       "  background-color: #056dac;\n",
       "  color: #f1f1f1;\n",
       "}\n",
       "#T_d94b5_row2_col5 {\n",
       "  background-color: #03446a;\n",
       "  color: #f1f1f1;\n",
       "}\n",
       "#T_d94b5_row3_col3 {\n",
       "  background-color: #2685bb;\n",
       "  color: #f1f1f1;\n",
       "}\n",
       "#T_d94b5_row4_col2 {\n",
       "  background-color: #dedcec;\n",
       "  color: #000000;\n",
       "}\n",
       "#T_d94b5_row4_col3 {\n",
       "  background-color: #b4c4df;\n",
       "  color: #000000;\n",
       "}\n",
       "#T_d94b5_row4_col4 {\n",
       "  background-color: #88b1d4;\n",
       "  color: #000000;\n",
       "}\n",
       "#T_d94b5_row4_col5 {\n",
       "  background-color: #abbfdc;\n",
       "  color: #000000;\n",
       "}\n",
       "#T_d94b5_row5_col2, #T_d94b5_row5_col3, #T_d94b5_row5_col4, #T_d94b5_row5_col5 {\n",
       "  background-color: #fff7fb;\n",
       "  color: #000000;\n",
       "}\n",
       "</style>\n",
       "<table id=\"T_d94b5\">\n",
       "  <thead>\n",
       "    <tr>\n",
       "      <th class=\"blank level0\" >&nbsp;</th>\n",
       "      <th id=\"T_d94b5_level0_col0\" class=\"col_heading level0 col0\" >gender</th>\n",
       "      <th id=\"T_d94b5_level0_col1\" class=\"col_heading level0 col1\" >class</th>\n",
       "      <th id=\"T_d94b5_level0_col2\" class=\"col_heading level0 col2\" >Math</th>\n",
       "      <th id=\"T_d94b5_level0_col3\" class=\"col_heading level0 col3\" >English</th>\n",
       "      <th id=\"T_d94b5_level0_col4\" class=\"col_heading level0 col4\" >Physics</th>\n",
       "      <th id=\"T_d94b5_level0_col5\" class=\"col_heading level0 col5\" >Row_Total</th>\n",
       "    </tr>\n",
       "  </thead>\n",
       "  <tbody>\n",
       "    <tr>\n",
       "      <th id=\"T_d94b5_level0_row0\" class=\"row_heading level0 row0\" >9011</th>\n",
       "      <td id=\"T_d94b5_row0_col0\" class=\"data row0 col0\" >Male</td>\n",
       "      <td id=\"T_d94b5_row0_col1\" class=\"data row0 col1\" >A</td>\n",
       "      <td id=\"T_d94b5_row0_col2\" class=\"data row0 col2\" >84</td>\n",
       "      <td id=\"T_d94b5_row0_col3\" class=\"data row0 col3\" >70</td>\n",
       "      <td id=\"T_d94b5_row0_col4\" class=\"data row0 col4\" >96</td>\n",
       "      <td id=\"T_d94b5_row0_col5\" class=\"data row0 col5\" >250</td>\n",
       "    </tr>\n",
       "    <tr>\n",
       "      <th id=\"T_d94b5_level0_row1\" class=\"row_heading level0 row1\" >9012</th>\n",
       "      <td id=\"T_d94b5_row1_col0\" class=\"data row1 col0\" >Male</td>\n",
       "      <td id=\"T_d94b5_row1_col1\" class=\"data row1 col1\" >B</td>\n",
       "      <td id=\"T_d94b5_row1_col2\" class=\"data row1 col2\" >79</td>\n",
       "      <td id=\"T_d94b5_row1_col3\" class=\"data row1 col3\" >79</td>\n",
       "      <td id=\"T_d94b5_row1_col4\" class=\"data row1 col4\" >79</td>\n",
       "      <td id=\"T_d94b5_row1_col5\" class=\"data row1 col5\" >237</td>\n",
       "    </tr>\n",
       "    <tr>\n",
       "      <th id=\"T_d94b5_level0_row2\" class=\"row_heading level0 row2\" >9013</th>\n",
       "      <td id=\"T_d94b5_row2_col0\" class=\"data row2 col0\" >Female</td>\n",
       "      <td id=\"T_d94b5_row2_col1\" class=\"data row2 col1\" >A</td>\n",
       "      <td id=\"T_d94b5_row2_col2\" class=\"data row2 col2\" >89</td>\n",
       "      <td id=\"T_d94b5_row2_col3\" class=\"data row2 col3\" >92</td>\n",
       "      <td id=\"T_d94b5_row2_col4\" class=\"data row2 col4\" >86</td>\n",
       "      <td id=\"T_d94b5_row2_col5\" class=\"data row2 col5\" >267</td>\n",
       "    </tr>\n",
       "    <tr>\n",
       "      <th id=\"T_d94b5_level0_row3\" class=\"row_heading level0 row3\" >9014</th>\n",
       "      <td id=\"T_d94b5_row3_col0\" class=\"data row3 col0\" >Male</td>\n",
       "      <td id=\"T_d94b5_row3_col1\" class=\"data row3 col1\" >A</td>\n",
       "      <td id=\"T_d94b5_row3_col2\" class=\"data row3 col2\" >99</td>\n",
       "      <td id=\"T_d94b5_row3_col3\" class=\"data row3 col3\" >76</td>\n",
       "      <td id=\"T_d94b5_row3_col4\" class=\"data row3 col4\" >98</td>\n",
       "      <td id=\"T_d94b5_row3_col5\" class=\"data row3 col5\" >273</td>\n",
       "    </tr>\n",
       "    <tr>\n",
       "      <th id=\"T_d94b5_level0_row4\" class=\"row_heading level0 row4\" >9015</th>\n",
       "      <td id=\"T_d94b5_row4_col0\" class=\"data row4 col0\" >Female</td>\n",
       "      <td id=\"T_d94b5_row4_col1\" class=\"data row4 col1\" >C</td>\n",
       "      <td id=\"T_d94b5_row4_col2\" class=\"data row4 col2\" >56</td>\n",
       "      <td id=\"T_d94b5_row4_col3\" class=\"data row4 col3\" >60</td>\n",
       "      <td id=\"T_d94b5_row4_col4\" class=\"data row4 col4\" >70</td>\n",
       "      <td id=\"T_d94b5_row4_col5\" class=\"data row4 col5\" >186</td>\n",
       "    </tr>\n",
       "    <tr>\n",
       "      <th id=\"T_d94b5_level0_row5\" class=\"row_heading level0 row5\" >9016</th>\n",
       "      <td id=\"T_d94b5_row5_col0\" class=\"data row5 col0\" >Female</td>\n",
       "      <td id=\"T_d94b5_row5_col1\" class=\"data row5 col1\" >C</td>\n",
       "      <td id=\"T_d94b5_row5_col2\" class=\"data row5 col2\" >46</td>\n",
       "      <td id=\"T_d94b5_row5_col3\" class=\"data row5 col3\" >44</td>\n",
       "      <td id=\"T_d94b5_row5_col4\" class=\"data row5 col4\" >47</td>\n",
       "      <td id=\"T_d94b5_row5_col5\" class=\"data row5 col5\" >137</td>\n",
       "    </tr>\n",
       "  </tbody>\n",
       "</table>\n"
      ],
      "text/plain": [
       "<pandas.io.formats.style.Styler at 0x12a517c70>"
      ]
     },
     "execution_count": 4,
     "metadata": {},
     "output_type": "execute_result"
    }
   ],
   "source": [
    "# 数値に応じたカラースケール（ヒートマップ）で表示する\n",
    "df.style.background_gradient()"
   ]
  },
  {
   "cell_type": "markdown",
   "metadata": {
    "id": "HouPPb3Lr9Lg",
    "slideshow": {
     "slide_type": "slide"
    }
   },
   "source": [
    "#### データの種類\n",
    "\n",
    "* 量的データ：数字など（四則演算できる） 例）各科目の「点数」（これの合計を求めることができた）\n",
    "* 質的データ：文字列など（四則演算できない） 例）学生番号，性別，クラス名（識別子として，別々のものとして認識することができる）"
   ]
  },
  {
   "cell_type": "markdown",
   "metadata": {
    "id": "j-fN8Ejmkjzc",
    "slideshow": {
     "slide_type": "slide"
    }
   },
   "source": [
    "<figure>\n",
    "<a href=\"http://www.mi.u-tokyo.ac.jp/pdf/2-5_data_processing.pdf#page=13\"><img src='https://raw.githubusercontent.com/MDASH-shinshu/MDASH-T-DE/main/5/UTAI-text/JPEG/2-5_data_processing_13.jpg' alt='整然データ' width='640' border='1'></a>\n",
    "</figure>"
   ]
  },
  {
   "cell_type": "markdown",
   "metadata": {
    "id": "ZMWtIZxDkoR0",
    "slideshow": {
     "slide_type": "slide"
    }
   },
   "source": [
    "<figure>\n",
    "<a href=\"http://www.mi.u-tokyo.ac.jp/pdf/2-5_data_processing.pdf#page=14\"><img src='https://raw.githubusercontent.com/MDASH-shinshu/MDASH-T-DE/main/5/UTAI-text/JPEG/2-5_data_processing_14.jpg' alt='整然データの利点' width='640' border='1'></a>\n",
    "</figure>"
   ]
  },
  {
   "cell_type": "markdown",
   "metadata": {
    "id": "BkJjVTerivid",
    "slideshow": {
     "slide_type": "slide"
    }
   },
   "source": [
    "### 1.3 集計処理\n",
    "* 単純集計\n",
    "    * データ件数の数え上げ\n",
    "\n",
    "* 算術演算，統計演算と組み合わせる\n",
    "    * 四則演算や統計量\n",
    "    * 条件付き集計\n",
    "\n",
    "* クロス集計\n",
    "    * 複数項目の比較\n",
    "\n",
    "ソート処理とマージ処理\n",
    "* データの並び替え\n",
    "* データの統合\n"
   ]
  },
  {
   "cell_type": "markdown",
   "metadata": {
    "id": "7RfOM0PMiy5Y",
    "slideshow": {
     "slide_type": "slide"
    }
   },
   "source": [
    "### 1.4 集計処理の例（単純集計）\n",
    "\n",
    "集計（カウント）\n",
    "* 単純な集計処理\n",
    "    * データの件数を計算：項目ごとでデータ集計\n",
    "    * コンピュータでの実装：ExcelやPython(pandas)\n",
    "\n",
    "⇒ 一つの項目（属性）の性質や，ばらつきを見るのに適している"
   ]
  },
  {
   "cell_type": "markdown",
   "metadata": {
    "id": "YAJPI9v78u-z",
    "slideshow": {
     "slide_type": "slide"
    }
   },
   "source": [
    "#### 例題：学生テーブルを作ってみる\n",
    "\n",
    "* 入力：学生番号，性別，クラス名の一覧表\n",
    "* 出力：「性別」「クラス」項目別で集計"
   ]
  },
  {
   "cell_type": "code",
   "execution_count": 5,
   "metadata": {
    "colab": {
     "base_uri": "https://localhost:8080/",
     "height": 238
    },
    "executionInfo": {
     "elapsed": 29,
     "status": "ok",
     "timestamp": 1663930054896,
     "user": {
      "displayName": "和﨑克己",
      "userId": "01531185103078206810"
     },
     "user_tz": -540
    },
    "id": "jt30XEOv-Avy",
    "outputId": "d865807f-f219-4ce0-dab3-258c55d908d9",
    "slideshow": {
     "slide_type": "slide"
    }
   },
   "outputs": [
    {
     "data": {
      "text/html": [
       "<div>\n",
       "<style scoped>\n",
       "    .dataframe tbody tr th:only-of-type {\n",
       "        vertical-align: middle;\n",
       "    }\n",
       "\n",
       "    .dataframe tbody tr th {\n",
       "        vertical-align: top;\n",
       "    }\n",
       "\n",
       "    .dataframe thead th {\n",
       "        text-align: right;\n",
       "    }\n",
       "</style>\n",
       "<table border=\"1\" class=\"dataframe\">\n",
       "  <thead>\n",
       "    <tr style=\"text-align: right;\">\n",
       "      <th></th>\n",
       "      <th>gender</th>\n",
       "      <th>class</th>\n",
       "    </tr>\n",
       "  </thead>\n",
       "  <tbody>\n",
       "    <tr>\n",
       "      <th>9011</th>\n",
       "      <td>Male</td>\n",
       "      <td>A</td>\n",
       "    </tr>\n",
       "    <tr>\n",
       "      <th>9012</th>\n",
       "      <td>Male</td>\n",
       "      <td>B</td>\n",
       "    </tr>\n",
       "    <tr>\n",
       "      <th>9013</th>\n",
       "      <td>Female</td>\n",
       "      <td>A</td>\n",
       "    </tr>\n",
       "    <tr>\n",
       "      <th>9014</th>\n",
       "      <td>Male</td>\n",
       "      <td>A</td>\n",
       "    </tr>\n",
       "    <tr>\n",
       "      <th>9015</th>\n",
       "      <td>Female</td>\n",
       "      <td>C</td>\n",
       "    </tr>\n",
       "    <tr>\n",
       "      <th>9016</th>\n",
       "      <td>Female</td>\n",
       "      <td>C</td>\n",
       "    </tr>\n",
       "  </tbody>\n",
       "</table>\n",
       "</div>"
      ],
      "text/plain": [
       "      gender class\n",
       "9011    Male     A\n",
       "9012    Male     B\n",
       "9013  Female     A\n",
       "9014    Male     A\n",
       "9015  Female     C\n",
       "9016  Female     C"
      ]
     },
     "execution_count": 5,
     "metadata": {},
     "output_type": "execute_result"
    }
   ],
   "source": [
    "# 学生番号 : [性別， クラス名] の一覧表を得る（列名マッチで抽出）\n",
    "df[[\"gender\", \"class\"]]"
   ]
  },
  {
   "cell_type": "code",
   "execution_count": 6,
   "metadata": {
    "colab": {
     "base_uri": "https://localhost:8080/",
     "height": 143
    },
    "executionInfo": {
     "elapsed": 29,
     "status": "ok",
     "timestamp": 1663930054897,
     "user": {
      "displayName": "和﨑克己",
      "userId": "01531185103078206810"
     },
     "user_tz": -540
    },
    "id": "DcgeZbad_1aB",
    "outputId": "6a7ff831-bbd0-4081-bed9-522feaf9fc91",
    "slideshow": {
     "slide_type": "slide"
    }
   },
   "outputs": [
    {
     "data": {
      "text/html": [
       "<div>\n",
       "<style scoped>\n",
       "    .dataframe tbody tr th:only-of-type {\n",
       "        vertical-align: middle;\n",
       "    }\n",
       "\n",
       "    .dataframe tbody tr th {\n",
       "        vertical-align: top;\n",
       "    }\n",
       "\n",
       "    .dataframe thead th {\n",
       "        text-align: right;\n",
       "    }\n",
       "</style>\n",
       "<table border=\"1\" class=\"dataframe\">\n",
       "  <thead>\n",
       "    <tr style=\"text-align: right;\">\n",
       "      <th></th>\n",
       "      <th>class</th>\n",
       "    </tr>\n",
       "    <tr>\n",
       "      <th>gender</th>\n",
       "      <th></th>\n",
       "    </tr>\n",
       "  </thead>\n",
       "  <tbody>\n",
       "    <tr>\n",
       "      <th>Female</th>\n",
       "      <td>3</td>\n",
       "    </tr>\n",
       "    <tr>\n",
       "      <th>Male</th>\n",
       "      <td>3</td>\n",
       "    </tr>\n",
       "  </tbody>\n",
       "</table>\n",
       "</div>"
      ],
      "text/plain": [
       "        class\n",
       "gender       \n",
       "Female      3\n",
       "Male        3"
      ]
     },
     "execution_count": 6,
     "metadata": {},
     "output_type": "execute_result"
    }
   ],
   "source": [
    "# [性別， クラス名] の一覧 から， 性別毎の度数を得る（gender で groupby.count() を使う）\n",
    "df[[\"gender\", \"class\"]].groupby('gender').count()"
   ]
  },
  {
   "cell_type": "code",
   "execution_count": 7,
   "metadata": {
    "colab": {
     "base_uri": "https://localhost:8080/",
     "height": 175
    },
    "executionInfo": {
     "elapsed": 29,
     "status": "ok",
     "timestamp": 1663930054897,
     "user": {
      "displayName": "和﨑克己",
      "userId": "01531185103078206810"
     },
     "user_tz": -540
    },
    "id": "WWhtX0ApArIG",
    "outputId": "7748c066-0cf0-4a6d-8084-d1b114e30739",
    "slideshow": {
     "slide_type": "slide"
    }
   },
   "outputs": [
    {
     "data": {
      "text/html": [
       "<div>\n",
       "<style scoped>\n",
       "    .dataframe tbody tr th:only-of-type {\n",
       "        vertical-align: middle;\n",
       "    }\n",
       "\n",
       "    .dataframe tbody tr th {\n",
       "        vertical-align: top;\n",
       "    }\n",
       "\n",
       "    .dataframe thead th {\n",
       "        text-align: right;\n",
       "    }\n",
       "</style>\n",
       "<table border=\"1\" class=\"dataframe\">\n",
       "  <thead>\n",
       "    <tr style=\"text-align: right;\">\n",
       "      <th></th>\n",
       "      <th>gender</th>\n",
       "    </tr>\n",
       "    <tr>\n",
       "      <th>class</th>\n",
       "      <th></th>\n",
       "    </tr>\n",
       "  </thead>\n",
       "  <tbody>\n",
       "    <tr>\n",
       "      <th>A</th>\n",
       "      <td>3</td>\n",
       "    </tr>\n",
       "    <tr>\n",
       "      <th>B</th>\n",
       "      <td>1</td>\n",
       "    </tr>\n",
       "    <tr>\n",
       "      <th>C</th>\n",
       "      <td>2</td>\n",
       "    </tr>\n",
       "  </tbody>\n",
       "</table>\n",
       "</div>"
      ],
      "text/plain": [
       "       gender\n",
       "class        \n",
       "A           3\n",
       "B           1\n",
       "C           2"
      ]
     },
     "execution_count": 7,
     "metadata": {},
     "output_type": "execute_result"
    }
   ],
   "source": [
    "# [性別， クラス名] の一覧 から， クラス毎の度数を得る（class で groupby.count() を使う） \n",
    "df[[\"gender\", \"class\"]].groupby('class').count()"
   ]
  },
  {
   "cell_type": "markdown",
   "metadata": {
    "id": "SxmLJhbmi6BK",
    "slideshow": {
     "slide_type": "slide"
    }
   },
   "source": [
    "### 1.5 集計処理の例（演算処理）\n",
    "\n",
    "* 算術演算\n",
    "    * 四則演算などを組み合わせる\n",
    "\n",
    "* 度数分布表\n",
    "    * データを階層別に集計する\n",
    "    * ヒストグラムを作成し可視化する\n",
    "\n",
    "* 基本統計量の集計\n",
    "    * 最大値，最小値，平均値などを求める\n",
    "    * 箱ひげ図を作成し可視化する"
   ]
  },
  {
   "cell_type": "markdown",
   "metadata": {
    "id": "1b6PtdvLCXV9",
    "slideshow": {
     "slide_type": "slide"
    }
   },
   "source": [
    "#### 例題：各科目の点数について，度数分布表を作ってみる\n",
    "\n",
    "* 入力：各科目の点数\n",
    "* 出力：Math, English, Physicsの度数分布"
   ]
  },
  {
   "cell_type": "code",
   "execution_count": 8,
   "metadata": {
    "colab": {
     "base_uri": "https://localhost:8080/",
     "height": 238
    },
    "executionInfo": {
     "elapsed": 30,
     "status": "ok",
     "timestamp": 1663930054898,
     "user": {
      "displayName": "和﨑克己",
      "userId": "01531185103078206810"
     },
     "user_tz": -540
    },
    "id": "xtQ2SXgYCx64",
    "outputId": "2d340a5f-a2e3-4360-c4b9-ae73a21062fb",
    "slideshow": {
     "slide_type": "slide"
    }
   },
   "outputs": [
    {
     "data": {
      "text/html": [
       "<div>\n",
       "<style scoped>\n",
       "    .dataframe tbody tr th:only-of-type {\n",
       "        vertical-align: middle;\n",
       "    }\n",
       "\n",
       "    .dataframe tbody tr th {\n",
       "        vertical-align: top;\n",
       "    }\n",
       "\n",
       "    .dataframe thead th {\n",
       "        text-align: right;\n",
       "    }\n",
       "</style>\n",
       "<table border=\"1\" class=\"dataframe\">\n",
       "  <thead>\n",
       "    <tr style=\"text-align: right;\">\n",
       "      <th></th>\n",
       "      <th>Math</th>\n",
       "      <th>English</th>\n",
       "      <th>Physics</th>\n",
       "    </tr>\n",
       "  </thead>\n",
       "  <tbody>\n",
       "    <tr>\n",
       "      <th>9011</th>\n",
       "      <td>84</td>\n",
       "      <td>70</td>\n",
       "      <td>96</td>\n",
       "    </tr>\n",
       "    <tr>\n",
       "      <th>9012</th>\n",
       "      <td>79</td>\n",
       "      <td>79</td>\n",
       "      <td>79</td>\n",
       "    </tr>\n",
       "    <tr>\n",
       "      <th>9013</th>\n",
       "      <td>89</td>\n",
       "      <td>92</td>\n",
       "      <td>86</td>\n",
       "    </tr>\n",
       "    <tr>\n",
       "      <th>9014</th>\n",
       "      <td>99</td>\n",
       "      <td>76</td>\n",
       "      <td>98</td>\n",
       "    </tr>\n",
       "    <tr>\n",
       "      <th>9015</th>\n",
       "      <td>56</td>\n",
       "      <td>60</td>\n",
       "      <td>70</td>\n",
       "    </tr>\n",
       "    <tr>\n",
       "      <th>9016</th>\n",
       "      <td>46</td>\n",
       "      <td>44</td>\n",
       "      <td>47</td>\n",
       "    </tr>\n",
       "  </tbody>\n",
       "</table>\n",
       "</div>"
      ],
      "text/plain": [
       "      Math  English  Physics\n",
       "9011    84       70       96\n",
       "9012    79       79       79\n",
       "9013    89       92       86\n",
       "9014    99       76       98\n",
       "9015    56       60       70\n",
       "9016    46       44       47"
      ]
     },
     "execution_count": 8,
     "metadata": {},
     "output_type": "execute_result"
    }
   ],
   "source": [
    "# 学生番号 : [Math， English, Physics] の一覧表を得る（列名マッチで抽出）\n",
    "df[[\"Math\", \"English\", \"Physics\"]]"
   ]
  },
  {
   "cell_type": "code",
   "execution_count": 9,
   "metadata": {
    "colab": {
     "base_uri": "https://localhost:8080/"
    },
    "executionInfo": {
     "elapsed": 30,
     "status": "ok",
     "timestamp": 1663930054898,
     "user": {
      "displayName": "和﨑克己",
      "userId": "01531185103078206810"
     },
     "user_tz": -540
    },
    "id": "Zbcmz2pqD_P9",
    "outputId": "661031aa-b730-47f8-cefa-5657b4822dc4",
    "slideshow": {
     "slide_type": "slide"
    }
   },
   "outputs": [
    {
     "data": {
      "text/plain": [
       "(59.999, 70.0]    0\n",
       "(70.0, 80.0]      1\n",
       "(80.0, 90.0]      2\n",
       "(90.0, 100.0]     1\n",
       "Name: Math, dtype: int64"
      ]
     },
     "execution_count": 9,
     "metadata": {},
     "output_type": "execute_result"
    }
   ],
   "source": [
    "# 科目名 列名マッチで抽出後， [60,100]を４区間に分割した度数分布を value_count で求める\n",
    "df[\"Math\"].value_counts(bins=np.linspace(60, 100, 5), sort=False)\n",
    "## df[\"English\"].value_counts(bins=np.linspace(60, 100, 5), sort=False)\n",
    "## df[\"Physics\"].value_counts(bins=np.linspace(60, 100, 5), sort=False)"
   ]
  },
  {
   "cell_type": "markdown",
   "metadata": {
    "id": "UTRnmBDVi9Hu",
    "slideshow": {
     "slide_type": "slide"
    }
   },
   "source": [
    "### 1.6 クロス集計\n",
    "\n",
    "* 項目を2つ以上かけ合わせて集計する手法\n",
    "    * 項目（属性）ごとの違いを見る\n",
    "    * 分割表ともいう\n",
    "    * 表側（目的変数）と表頭（説明変数）\n",
    "\n",
    "例）アイスクリームの売上分析の場合，目的変数：アイスクリームの種類，説明変数：その日の気温や天気　などとなる．\n",
    "\n",
    "* 統計量を組み合わせる\n",
    "    * 数学の平均をクロス集計する：データの精度が問題になる\n",
    "    * 各科目の平均をクロス集計する：科目毎の値のばらつきが問題になる"
   ]
  },
  {
   "cell_type": "markdown",
   "metadata": {
    "id": "TJTOCZVVGcuf",
    "slideshow": {
     "slide_type": "slide"
    }
   },
   "source": [
    "#### 例題：男女別，クラス別 で 各科目の平均点のクロス分析を行ってみる\n",
    "\n",
    "* 入力：学生番号，性別，クラス名，各科目の平均点の一覧表\n",
    "* 出力：男女別，クラス別 の 平均点（クロス分析）"
   ]
  },
  {
   "cell_type": "code",
   "execution_count": 10,
   "metadata": {
    "colab": {
     "base_uri": "https://localhost:8080/",
     "height": 238
    },
    "executionInfo": {
     "elapsed": 28,
     "status": "ok",
     "timestamp": 1663930054898,
     "user": {
      "displayName": "和﨑克己",
      "userId": "01531185103078206810"
     },
     "user_tz": -540
    },
    "id": "8Xy5s-00Gcel",
    "outputId": "0808ffad-5d07-4293-95ff-d053c1796f10",
    "slideshow": {
     "slide_type": "slide"
    }
   },
   "outputs": [
    {
     "data": {
      "text/html": [
       "<div>\n",
       "<style scoped>\n",
       "    .dataframe tbody tr th:only-of-type {\n",
       "        vertical-align: middle;\n",
       "    }\n",
       "\n",
       "    .dataframe tbody tr th {\n",
       "        vertical-align: top;\n",
       "    }\n",
       "\n",
       "    .dataframe thead th {\n",
       "        text-align: right;\n",
       "    }\n",
       "</style>\n",
       "<table border=\"1\" class=\"dataframe\">\n",
       "  <thead>\n",
       "    <tr style=\"text-align: right;\">\n",
       "      <th></th>\n",
       "      <th>gender</th>\n",
       "      <th>class</th>\n",
       "      <th>Math</th>\n",
       "      <th>English</th>\n",
       "      <th>Physics</th>\n",
       "      <th>Row_Total</th>\n",
       "      <th>Row_Average</th>\n",
       "    </tr>\n",
       "  </thead>\n",
       "  <tbody>\n",
       "    <tr>\n",
       "      <th>9011</th>\n",
       "      <td>Male</td>\n",
       "      <td>A</td>\n",
       "      <td>84</td>\n",
       "      <td>70</td>\n",
       "      <td>96</td>\n",
       "      <td>250</td>\n",
       "      <td>83.333333</td>\n",
       "    </tr>\n",
       "    <tr>\n",
       "      <th>9012</th>\n",
       "      <td>Male</td>\n",
       "      <td>B</td>\n",
       "      <td>79</td>\n",
       "      <td>79</td>\n",
       "      <td>79</td>\n",
       "      <td>237</td>\n",
       "      <td>79.000000</td>\n",
       "    </tr>\n",
       "    <tr>\n",
       "      <th>9013</th>\n",
       "      <td>Female</td>\n",
       "      <td>A</td>\n",
       "      <td>89</td>\n",
       "      <td>92</td>\n",
       "      <td>86</td>\n",
       "      <td>267</td>\n",
       "      <td>89.000000</td>\n",
       "    </tr>\n",
       "    <tr>\n",
       "      <th>9014</th>\n",
       "      <td>Male</td>\n",
       "      <td>A</td>\n",
       "      <td>99</td>\n",
       "      <td>76</td>\n",
       "      <td>98</td>\n",
       "      <td>273</td>\n",
       "      <td>91.000000</td>\n",
       "    </tr>\n",
       "    <tr>\n",
       "      <th>9015</th>\n",
       "      <td>Female</td>\n",
       "      <td>C</td>\n",
       "      <td>56</td>\n",
       "      <td>60</td>\n",
       "      <td>70</td>\n",
       "      <td>186</td>\n",
       "      <td>62.000000</td>\n",
       "    </tr>\n",
       "    <tr>\n",
       "      <th>9016</th>\n",
       "      <td>Female</td>\n",
       "      <td>C</td>\n",
       "      <td>46</td>\n",
       "      <td>44</td>\n",
       "      <td>47</td>\n",
       "      <td>137</td>\n",
       "      <td>45.666667</td>\n",
       "    </tr>\n",
       "  </tbody>\n",
       "</table>\n",
       "</div>"
      ],
      "text/plain": [
       "      gender class  Math  English  Physics  Row_Total  Row_Average\n",
       "9011    Male     A    84       70       96        250    83.333333\n",
       "9012    Male     B    79       79       79        237    79.000000\n",
       "9013  Female     A    89       92       86        267    89.000000\n",
       "9014    Male     A    99       76       98        273    91.000000\n",
       "9015  Female     C    56       60       70        186    62.000000\n",
       "9016  Female     C    46       44       47        137    45.666667"
      ]
     },
     "execution_count": 10,
     "metadata": {},
     "output_type": "execute_result"
    }
   ],
   "source": [
    "# 3科目の点数の平均値を新たな列 Row_Average として追加する\n",
    "df.loc[:,'Row_Average'] = df[[\"Math\", \"English\", \"Physics\"]].sum(axis=1) / 3  # 3科目であることが分かっている\n",
    "\n",
    "# インタラクティブ・テーブル機能を使って，ソートなど簡単な分析は可能だが，クロス分析は難しい\n",
    "df"
   ]
  },
  {
   "cell_type": "code",
   "execution_count": 11,
   "metadata": {
    "colab": {
     "base_uri": "https://localhost:8080/",
     "height": 143
    },
    "executionInfo": {
     "elapsed": 28,
     "status": "ok",
     "timestamp": 1663930054899,
     "user": {
      "displayName": "和﨑克己",
      "userId": "01531185103078206810"
     },
     "user_tz": -540
    },
    "id": "nrdBMIa4Ji-y",
    "outputId": "c4fdad06-7bea-4f54-d590-3cbf7636c570",
    "slideshow": {
     "slide_type": "slide"
    }
   },
   "outputs": [
    {
     "data": {
      "text/html": [
       "<div>\n",
       "<style scoped>\n",
       "    .dataframe tbody tr th:only-of-type {\n",
       "        vertical-align: middle;\n",
       "    }\n",
       "\n",
       "    .dataframe tbody tr th {\n",
       "        vertical-align: top;\n",
       "    }\n",
       "\n",
       "    .dataframe thead th {\n",
       "        text-align: right;\n",
       "    }\n",
       "</style>\n",
       "<table border=\"1\" class=\"dataframe\">\n",
       "  <thead>\n",
       "    <tr style=\"text-align: right;\">\n",
       "      <th>class</th>\n",
       "      <th>A</th>\n",
       "      <th>B</th>\n",
       "      <th>C</th>\n",
       "    </tr>\n",
       "    <tr>\n",
       "      <th>gender</th>\n",
       "      <th></th>\n",
       "      <th></th>\n",
       "      <th></th>\n",
       "    </tr>\n",
       "  </thead>\n",
       "  <tbody>\n",
       "    <tr>\n",
       "      <th>Female</th>\n",
       "      <td>1</td>\n",
       "      <td>0</td>\n",
       "      <td>2</td>\n",
       "    </tr>\n",
       "    <tr>\n",
       "      <th>Male</th>\n",
       "      <td>2</td>\n",
       "      <td>1</td>\n",
       "      <td>0</td>\n",
       "    </tr>\n",
       "  </tbody>\n",
       "</table>\n",
       "</div>"
      ],
      "text/plain": [
       "class   A  B  C\n",
       "gender         \n",
       "Female  1  0  2\n",
       "Male    2  1  0"
      ]
     },
     "execution_count": 11,
     "metadata": {},
     "output_type": "execute_result"
    }
   ],
   "source": [
    "# crosstabを使って， 性別 vs クラス のクロス集計（人数）を行う\n",
    "pd.crosstab(index=df['gender'],columns=df['class'])"
   ]
  },
  {
   "cell_type": "code",
   "execution_count": 12,
   "metadata": {
    "colab": {
     "base_uri": "https://localhost:8080/",
     "height": 143
    },
    "executionInfo": {
     "elapsed": 28,
     "status": "ok",
     "timestamp": 1663930054899,
     "user": {
      "displayName": "和﨑克己",
      "userId": "01531185103078206810"
     },
     "user_tz": -540
    },
    "id": "EdJfNeYRKLEX",
    "outputId": "9d4194f3-b886-40c1-d589-28bae1836594",
    "slideshow": {
     "slide_type": "slide"
    }
   },
   "outputs": [
    {
     "data": {
      "text/html": [
       "<div>\n",
       "<style scoped>\n",
       "    .dataframe tbody tr th:only-of-type {\n",
       "        vertical-align: middle;\n",
       "    }\n",
       "\n",
       "    .dataframe tbody tr th {\n",
       "        vertical-align: top;\n",
       "    }\n",
       "\n",
       "    .dataframe thead th {\n",
       "        text-align: right;\n",
       "    }\n",
       "</style>\n",
       "<table border=\"1\" class=\"dataframe\">\n",
       "  <thead>\n",
       "    <tr style=\"text-align: right;\">\n",
       "      <th>class</th>\n",
       "      <th>A</th>\n",
       "      <th>B</th>\n",
       "      <th>C</th>\n",
       "    </tr>\n",
       "    <tr>\n",
       "      <th>gender</th>\n",
       "      <th></th>\n",
       "      <th></th>\n",
       "      <th></th>\n",
       "    </tr>\n",
       "  </thead>\n",
       "  <tbody>\n",
       "    <tr>\n",
       "      <th>Female</th>\n",
       "      <td>89.000000</td>\n",
       "      <td>NaN</td>\n",
       "      <td>53.833333</td>\n",
       "    </tr>\n",
       "    <tr>\n",
       "      <th>Male</th>\n",
       "      <td>87.166667</td>\n",
       "      <td>79.0</td>\n",
       "      <td>NaN</td>\n",
       "    </tr>\n",
       "  </tbody>\n",
       "</table>\n",
       "</div>"
      ],
      "text/plain": [
       "class           A     B          C\n",
       "gender                            \n",
       "Female  89.000000   NaN  53.833333\n",
       "Male    87.166667  79.0        NaN"
      ]
     },
     "execution_count": 12,
     "metadata": {},
     "output_type": "execute_result"
    }
   ],
   "source": [
    "# crosstabを使って， 性別 vs クラス の 学生平均点のクロス集計（点数）を行う（欠損値はNaNであることに注意）\n",
    "pd.crosstab(index=df['gender'],columns=df['class'],values=df['Row_Average'],aggfunc='mean') "
   ]
  },
  {
   "cell_type": "code",
   "execution_count": 13,
   "metadata": {
    "colab": {
     "base_uri": "https://localhost:8080/",
     "height": 206
    },
    "executionInfo": {
     "elapsed": 403,
     "status": "ok",
     "timestamp": 1663930055274,
     "user": {
      "displayName": "和﨑克己",
      "userId": "01531185103078206810"
     },
     "user_tz": -540
    },
    "id": "RskQZckOMm5Y",
    "outputId": "7649f195-85b1-4b37-b8d4-e8b8e6874c44",
    "slideshow": {
     "slide_type": "slide"
    }
   },
   "outputs": [
    {
     "data": {
      "text/html": [
       "<div>\n",
       "<style scoped>\n",
       "    .dataframe tbody tr th:only-of-type {\n",
       "        vertical-align: middle;\n",
       "    }\n",
       "\n",
       "    .dataframe tbody tr th {\n",
       "        vertical-align: top;\n",
       "    }\n",
       "\n",
       "    .dataframe thead th {\n",
       "        text-align: right;\n",
       "    }\n",
       "</style>\n",
       "<table border=\"1\" class=\"dataframe\">\n",
       "  <thead>\n",
       "    <tr style=\"text-align: right;\">\n",
       "      <th></th>\n",
       "      <th></th>\n",
       "      <th>English</th>\n",
       "      <th>Math</th>\n",
       "      <th>Physics</th>\n",
       "      <th>Row_Total</th>\n",
       "    </tr>\n",
       "    <tr>\n",
       "      <th>gender</th>\n",
       "      <th>class</th>\n",
       "      <th></th>\n",
       "      <th></th>\n",
       "      <th></th>\n",
       "      <th></th>\n",
       "    </tr>\n",
       "  </thead>\n",
       "  <tbody>\n",
       "    <tr>\n",
       "      <th rowspan=\"2\" valign=\"top\">Female</th>\n",
       "      <th>A</th>\n",
       "      <td>92</td>\n",
       "      <td>89.0</td>\n",
       "      <td>86.0</td>\n",
       "      <td>267.0</td>\n",
       "    </tr>\n",
       "    <tr>\n",
       "      <th>C</th>\n",
       "      <td>52</td>\n",
       "      <td>51.0</td>\n",
       "      <td>58.5</td>\n",
       "      <td>161.5</td>\n",
       "    </tr>\n",
       "    <tr>\n",
       "      <th rowspan=\"2\" valign=\"top\">Male</th>\n",
       "      <th>A</th>\n",
       "      <td>73</td>\n",
       "      <td>91.5</td>\n",
       "      <td>97.0</td>\n",
       "      <td>261.5</td>\n",
       "    </tr>\n",
       "    <tr>\n",
       "      <th>B</th>\n",
       "      <td>79</td>\n",
       "      <td>79.0</td>\n",
       "      <td>79.0</td>\n",
       "      <td>237.0</td>\n",
       "    </tr>\n",
       "  </tbody>\n",
       "</table>\n",
       "</div>"
      ],
      "text/plain": [
       "              English  Math  Physics  Row_Total\n",
       "gender class                                   \n",
       "Female A           92  89.0     86.0      267.0\n",
       "       C           52  51.0     58.5      161.5\n",
       "Male   A           73  91.5     97.0      261.5\n",
       "       B           79  79.0     79.0      237.0"
      ]
     },
     "execution_count": 13,
     "metadata": {},
     "output_type": "execute_result"
    }
   ],
   "source": [
    "# pivot_tableを使って， [性別,クラス]別 の 学生平均点と合計のクロス集計（点数）を行う（欠損値の組み合わせは表示されないことに注意）\n",
    "# デフォルト（引数aggfuncを省略した場合）はnumpy.mean()が指定される\n",
    "pd.pivot_table(df[[\"gender\", \"class\", \"Math\", \"English\", \"Physics\", \"Row_Total\"]], index=['gender', 'class'])"
   ]
  },
  {
   "cell_type": "markdown",
   "metadata": {
    "id": "KkpYmayAjALG",
    "slideshow": {
     "slide_type": "slide"
    }
   },
   "source": [
    "### 1.7 データの種類\n",
    "\n",
    "構造化データ\n",
    "* 分析できる形に構造化されたデータ\n",
    "* 表形式で整理されたデータセット\n",
    "→量的データ，質的データに分類される\n",
    "\n",
    "非構造化データ\n",
    "* まだ構造化されていないデータ\n",
    "→ 画像，音声，文章データなど　※データ表現の章を参照"
   ]
  },
  {
   "cell_type": "markdown",
   "metadata": {
    "id": "tquaGai9jFTP",
    "slideshow": {
     "slide_type": "slide"
    }
   },
   "source": [
    "### 1.8 データのソート\n",
    "\n",
    "* 順序付けの基準（オーダ）\n",
    "    * 量的変数の場合：科目の得点など（間隔尺度（例：西暦年など），数値尺度（例：重量など）の別がある）\n",
    "    * 質的変数の場合：名義尺度（学生名など），順序尺度（学籍番号など．順序が存在し，数量によるソートが可能）\n",
    "\n",
    "昇順と逆順\n",
    "* 数値の大小で順序付ける：質的変数も，順序尺度であれば可能\n",
    "* 名義尺度も あいうえお順，ABC順などで順序付け (aab < ac < adbc など文字列にもオーダがつけられる）"
   ]
  },
  {
   "cell_type": "markdown",
   "metadata": {
    "id": "eTK6aOUtjIEy",
    "slideshow": {
     "slide_type": "slide"
    }
   },
   "source": [
    "### 1.9 ソート処理の例\n",
    "\n",
    "大きさを指標として並び替える\n",
    "* 数量データや順序データ\n",
    "* 文字列のソート：漢字データは，ひらがな　などを付与してオーダをつける（読み方の違いは漢字コード列の情報だけでは不充分）"
   ]
  },
  {
   "cell_type": "markdown",
   "metadata": {
    "id": "es_Egfa_lAUg",
    "slideshow": {
     "slide_type": "slide"
    }
   },
   "source": [
    "### 1.10 名寄せ"
   ]
  },
  {
   "cell_type": "markdown",
   "metadata": {
    "id": "e3mQKklAlEId",
    "slideshow": {
     "slide_type": "slide"
    }
   },
   "source": [
    "<figure>\n",
    "<a href=\"http://www.mi.u-tokyo.ac.jp/pdf/2-5_data_processing.pdf#page=15\"><img src='https://raw.githubusercontent.com/MDASH-shinshu/MDASH-T-DE/main/5/UTAI-text/JPEG/2-5_data_processing_15.jpg' alt='データ加工とは' width='640' border='1'></a>\n",
    "</figure>"
   ]
  },
  {
   "cell_type": "markdown",
   "metadata": {
    "id": "3LCtqq7xgS5c",
    "slideshow": {
     "slide_type": "slide"
    }
   },
   "source": [
    "#### 日本語の氏名には，ふりがなが付いていないと，データ重複，名寄せ処理の妨げになる【重要】\n",
    "\n",
    "例）　漢字標記で同一でも，同姓同名とは限らない．漢字表記が違っても，よみがなが同一のことがある（紛らわしい)\n",
    "\n",
    "> 吉川五郎　⇒ きっかわ/ごろう or よしかわ/ごろう <br>\n",
    "> 小山優子 or 尾山祐子　⇒　おやま/ゆうこ \n",
    "\n",
    "名寄せ処理時には，生年月日，現住所，電話番号などで同一か否かの判定をすることになるが，完全とは言えない．"
   ]
  },
  {
   "cell_type": "markdown",
   "metadata": {
    "id": "dMHytkKtjKl-",
    "slideshow": {
     "slide_type": "slide"
    }
   },
   "source": [
    "## 2. データの統合処理"
   ]
  },
  {
   "cell_type": "markdown",
   "metadata": {
    "id": "a7mq7L8njLw2",
    "slideshow": {
     "slide_type": "slide"
    }
   },
   "source": [
    "あらまし\n",
    "* 統合処理とクエリ\n",
    "* データの結合処理\n",
    "* 内部結合と外部結合"
   ]
  },
  {
   "cell_type": "markdown",
   "metadata": {
    "id": "7iYjBBztjQ9j",
    "slideshow": {
     "slide_type": "slide"
    }
   },
   "source": [
    "### 2.1 データ統合とは？\n",
    "\n",
    "統合処理とクエリ\n",
    "* クエリ＝データベース管理システムに対する問い合わせ，要求\n",
    "    * SQLで実装する\n",
    "* プログラムではデータを検索し，変換・整形して出力する．SQLクエリを内部の実装として含むこともある\n",
    "    * 統合処理の条件指定などを行う必要がある"
   ]
  },
  {
   "cell_type": "markdown",
   "metadata": {
    "id": "1Z3twJnvjTND",
    "slideshow": {
     "slide_type": "slide"
    }
   },
   "source": [
    "### 2.2 データの結合処理\n",
    "\n",
    "* 複数のファイルやデータを（何らかの基準，キーで）結合する処理\n",
    "* データベースでは，内部結合と外部結合の別がある\n",
    "* ExcelやPython(pandas)で実装"
   ]
  },
  {
   "cell_type": "markdown",
   "metadata": {
    "id": "b9ZWBkVujduR",
    "slideshow": {
     "slide_type": "slide"
    }
   },
   "source": [
    "### 2.3 データベースの結合例\n",
    "\n",
    "* 複数のデータ集合の結合\n",
    "    * 学籍簿と成績表の結合など\n",
    "    * 2つのデータの集合を結ぶ「キー」が必要\n",
    "\n",
    "* データベースの結合処理\n",
    "    * 内部結合と外部結合の別，外部キーが必要\n",
    "    * Union, Join といった処理が提供されている．\n",
    "\n",
    "* 一般的なデータの結合処理\n",
    "    * Excelの場合：データツール > 統合\n",
    "    * Python pandasライブラリの場合：join"
   ]
  },
  {
   "cell_type": "markdown",
   "metadata": {
    "id": "OrCdmvP5jhuT",
    "slideshow": {
     "slide_type": "slide"
    }
   },
   "source": [
    "### 2.4 内部結合と外部結合\n",
    "\n",
    "データベース（表）の内部結合\n",
    "* 結合条件に指定している値が両方のテーブルに存在するデータを抽出する結合\n",
    "* 2つのテーブル間で，共通（結合条件の項目の値が一致）するレコードのみを抽出\n",
    "\n",
    "データベース（表）の外部結合\n",
    "* 基準となるテーブルに存在すれば抽出する結合．どちらのテーブルを基準にするかを指定し，その基準となるテーブルに存在するデータを抽出，基準ではないテーブルからは抽出できるデータのみ取得する．\n",
    "* 左外部結合（Left Outer Join），右外部結合（Right Outer Join）の別がある\n",
    "* 完全外部結合は，全ての要素を入れる\n",
    "\n",
    "参考：https://ai-inter1.com/pandas-dataframe_join/"
   ]
  },
  {
   "cell_type": "markdown",
   "metadata": {
    "id": "_cTyJNc-jkv7",
    "slideshow": {
     "slide_type": "slide"
    }
   },
   "source": [
    "### 2.5 データベース（表）の内部結合の例\n",
    "\n",
    "* 両方のテーブルに存在するデータを抽出して結合する\n",
    "* 2つのテーブル間で，結合条件のフィールド値が一致するレコードのみを出力とする"
   ]
  },
  {
   "cell_type": "markdown",
   "metadata": {
    "id": "vyHHogl_kI62",
    "slideshow": {
     "slide_type": "slide"
    }
   },
   "source": [
    "#### Python pandasライブラリで 2つのテーブルを作ってみる\n",
    "\n",
    "1. 学生テーブル：9011から9017までの7名の学生の性別とクラスIDの対応表（欠損値あり）\n",
    "2. クラス名テーブル：クラスIDとクラス名の対応表（当該クラスに学生が存在しないケースあり）"
   ]
  },
  {
   "cell_type": "code",
   "execution_count": 14,
   "metadata": {
    "colab": {
     "base_uri": "https://localhost:8080/",
     "height": 269
    },
    "executionInfo": {
     "elapsed": 11,
     "status": "ok",
     "timestamp": 1663930055274,
     "user": {
      "displayName": "和﨑克己",
      "userId": "01531185103078206810"
     },
     "user_tz": -540
    },
    "id": "lfpD9M2ooXhH",
    "outputId": "0e98e7c2-bb43-445c-c1d7-a38f25ce5da8",
    "slideshow": {
     "slide_type": "slide"
    }
   },
   "outputs": [
    {
     "data": {
      "text/html": [
       "<div>\n",
       "<style scoped>\n",
       "    .dataframe tbody tr th:only-of-type {\n",
       "        vertical-align: middle;\n",
       "    }\n",
       "\n",
       "    .dataframe tbody tr th {\n",
       "        vertical-align: top;\n",
       "    }\n",
       "\n",
       "    .dataframe thead th {\n",
       "        text-align: right;\n",
       "    }\n",
       "</style>\n",
       "<table border=\"1\" class=\"dataframe\">\n",
       "  <thead>\n",
       "    <tr style=\"text-align: right;\">\n",
       "      <th></th>\n",
       "      <th>student_id</th>\n",
       "      <th>gender</th>\n",
       "      <th>class_id</th>\n",
       "    </tr>\n",
       "  </thead>\n",
       "  <tbody>\n",
       "    <tr>\n",
       "      <th>0</th>\n",
       "      <td>9011</td>\n",
       "      <td>Male</td>\n",
       "      <td>100</td>\n",
       "    </tr>\n",
       "    <tr>\n",
       "      <th>1</th>\n",
       "      <td>9012</td>\n",
       "      <td>Male</td>\n",
       "      <td>200</td>\n",
       "    </tr>\n",
       "    <tr>\n",
       "      <th>2</th>\n",
       "      <td>9013</td>\n",
       "      <td>Female</td>\n",
       "      <td>100</td>\n",
       "    </tr>\n",
       "    <tr>\n",
       "      <th>3</th>\n",
       "      <td>9014</td>\n",
       "      <td>Male</td>\n",
       "      <td>200</td>\n",
       "    </tr>\n",
       "    <tr>\n",
       "      <th>4</th>\n",
       "      <td>9015</td>\n",
       "      <td>Female</td>\n",
       "      <td>100</td>\n",
       "    </tr>\n",
       "    <tr>\n",
       "      <th>5</th>\n",
       "      <td>9016</td>\n",
       "      <td>Female</td>\n",
       "      <td>100</td>\n",
       "    </tr>\n",
       "    <tr>\n",
       "      <th>6</th>\n",
       "      <td>9017</td>\n",
       "      <td>Male</td>\n",
       "      <td>NaN</td>\n",
       "    </tr>\n",
       "  </tbody>\n",
       "</table>\n",
       "</div>"
      ],
      "text/plain": [
       "  student_id  gender class_id\n",
       "0       9011    Male      100\n",
       "1       9012    Male      200\n",
       "2       9013  Female      100\n",
       "3       9014    Male      200\n",
       "4       9015  Female      100\n",
       "5       9016  Female      100\n",
       "6       9017    Male      NaN"
      ]
     },
     "execution_count": 14,
     "metadata": {},
     "output_type": "execute_result"
    }
   ],
   "source": [
    "# 学生テーブル：9011から9017までの7名の学生の性別とクラスIDの対応表（\"9017\"はクラス対応が無い欠損値あり）\n",
    "std_data = [[\"9011\", \"Male\", \"100\"], [\"9012\", \"Male\", \"200\"], [\"9013\", \"Female\", \"100\"], \n",
    "            [\"9014\", \"Male\", \"200\"], [\"9015\", \"Female\", \"100\"], [\"9016\", \"Female\", \"100\"], \n",
    "            [\"9017\", \"Male\", np.nan]]\n",
    "\n",
    "std_df = pd.DataFrame(std_data,\n",
    "    columns=[\"student_id\", \"gender\", \"class_id\"]\n",
    ")\n",
    "\n",
    "std_df"
   ]
  },
  {
   "cell_type": "code",
   "execution_count": 15,
   "metadata": {
    "colab": {
     "base_uri": "https://localhost:8080/",
     "height": 143
    },
    "executionInfo": {
     "elapsed": 11,
     "status": "ok",
     "timestamp": 1663930055275,
     "user": {
      "displayName": "和﨑克己",
      "userId": "01531185103078206810"
     },
     "user_tz": -540
    },
    "id": "V0QTaS3MmVor",
    "outputId": "49f0a2c6-67a6-4c3a-d75c-423f7c1e140f",
    "slideshow": {
     "slide_type": "slide"
    }
   },
   "outputs": [
    {
     "data": {
      "text/html": [
       "<div>\n",
       "<style scoped>\n",
       "    .dataframe tbody tr th:only-of-type {\n",
       "        vertical-align: middle;\n",
       "    }\n",
       "\n",
       "    .dataframe tbody tr th {\n",
       "        vertical-align: top;\n",
       "    }\n",
       "\n",
       "    .dataframe thead th {\n",
       "        text-align: right;\n",
       "    }\n",
       "</style>\n",
       "<table border=\"1\" class=\"dataframe\">\n",
       "  <thead>\n",
       "    <tr style=\"text-align: right;\">\n",
       "      <th></th>\n",
       "      <th>class_id</th>\n",
       "      <th>class_name</th>\n",
       "    </tr>\n",
       "  </thead>\n",
       "  <tbody>\n",
       "    <tr>\n",
       "      <th>0</th>\n",
       "      <td>100</td>\n",
       "      <td>Science</td>\n",
       "    </tr>\n",
       "    <tr>\n",
       "      <th>1</th>\n",
       "      <td>200</td>\n",
       "      <td>Humanities</td>\n",
       "    </tr>\n",
       "    <tr>\n",
       "      <th>2</th>\n",
       "      <td>300</td>\n",
       "      <td>Comprehensive</td>\n",
       "    </tr>\n",
       "  </tbody>\n",
       "</table>\n",
       "</div>"
      ],
      "text/plain": [
       "  class_id     class_name\n",
       "0      100        Science\n",
       "1      200     Humanities\n",
       "2      300  Comprehensive"
      ]
     },
     "execution_count": 15,
     "metadata": {},
     "output_type": "execute_result"
    }
   ],
   "source": [
    "# クラス名テーブル：クラスIDとクラス名の対応表\n",
    "class_data = [[\"100\", \"Science\"], [\"200\", \"Humanities\"], [\"300\", \"Comprehensive\"]]\n",
    "\n",
    "class_df = pd.DataFrame(class_data,\n",
    "    columns=[\"class_id\", \"class_name\"]\n",
    ")\n",
    "\n",
    "class_df"
   ]
  },
  {
   "cell_type": "code",
   "execution_count": 16,
   "metadata": {
    "colab": {
     "base_uri": "https://localhost:8080/",
     "height": 238
    },
    "executionInfo": {
     "elapsed": 11,
     "status": "ok",
     "timestamp": 1663930055275,
     "user": {
      "displayName": "和﨑克己",
      "userId": "01531185103078206810"
     },
     "user_tz": -540
    },
    "id": "DKa-4DVcn3xR",
    "outputId": "055cf4c8-6d91-4f33-c4fd-c808ccbee1a2",
    "slideshow": {
     "slide_type": "slide"
    }
   },
   "outputs": [
    {
     "data": {
      "text/html": [
       "<div>\n",
       "<style scoped>\n",
       "    .dataframe tbody tr th:only-of-type {\n",
       "        vertical-align: middle;\n",
       "    }\n",
       "\n",
       "    .dataframe tbody tr th {\n",
       "        vertical-align: top;\n",
       "    }\n",
       "\n",
       "    .dataframe thead th {\n",
       "        text-align: right;\n",
       "    }\n",
       "</style>\n",
       "<table border=\"1\" class=\"dataframe\">\n",
       "  <thead>\n",
       "    <tr style=\"text-align: right;\">\n",
       "      <th></th>\n",
       "      <th>student_id</th>\n",
       "      <th>gender</th>\n",
       "      <th>class_id</th>\n",
       "      <th>class_name</th>\n",
       "    </tr>\n",
       "  </thead>\n",
       "  <tbody>\n",
       "    <tr>\n",
       "      <th>0</th>\n",
       "      <td>9011</td>\n",
       "      <td>Male</td>\n",
       "      <td>100</td>\n",
       "      <td>Science</td>\n",
       "    </tr>\n",
       "    <tr>\n",
       "      <th>1</th>\n",
       "      <td>9012</td>\n",
       "      <td>Male</td>\n",
       "      <td>200</td>\n",
       "      <td>Humanities</td>\n",
       "    </tr>\n",
       "    <tr>\n",
       "      <th>2</th>\n",
       "      <td>9013</td>\n",
       "      <td>Female</td>\n",
       "      <td>100</td>\n",
       "      <td>Science</td>\n",
       "    </tr>\n",
       "    <tr>\n",
       "      <th>3</th>\n",
       "      <td>9014</td>\n",
       "      <td>Male</td>\n",
       "      <td>200</td>\n",
       "      <td>Humanities</td>\n",
       "    </tr>\n",
       "    <tr>\n",
       "      <th>4</th>\n",
       "      <td>9015</td>\n",
       "      <td>Female</td>\n",
       "      <td>100</td>\n",
       "      <td>Science</td>\n",
       "    </tr>\n",
       "    <tr>\n",
       "      <th>5</th>\n",
       "      <td>9016</td>\n",
       "      <td>Female</td>\n",
       "      <td>100</td>\n",
       "      <td>Science</td>\n",
       "    </tr>\n",
       "  </tbody>\n",
       "</table>\n",
       "</div>"
      ],
      "text/plain": [
       "  student_id  gender class_id  class_name\n",
       "0       9011    Male      100     Science\n",
       "1       9012    Male      200  Humanities\n",
       "2       9013  Female      100     Science\n",
       "3       9014    Male      200  Humanities\n",
       "4       9015  Female      100     Science\n",
       "5       9016  Female      100     Science"
      ]
     },
     "execution_count": 16,
     "metadata": {},
     "output_type": "execute_result"
    }
   ],
   "source": [
    "# 内部結合（Inner Join）\n",
    "# merge, innerを用いて， 2つのDataFrameを \"class_id\" をキーとして内部結合する（表示は学生IDで昇順ソートしindex振り直し．class別でも良い）\n",
    "pd.merge(std_df, class_df, how=\"inner\", on=\"class_id\").sort_values('student_id').reset_index(drop=True)\n",
    "\n",
    "# 学生\"9017\"はクラス割当てが欠損しているので，内部結合結果のレコードとして出力されないことに注意せよ"
   ]
  },
  {
   "cell_type": "markdown",
   "metadata": {
    "id": "gYPSLcbAjmzD",
    "slideshow": {
     "slide_type": "slide"
    }
   },
   "source": [
    "### 2.6 データベース（表）の外部結合の例\n",
    "\n",
    "* 一方のテーブルについて全レコードを抽出し，もう一方のテーブルについて結合条件のフィールド値と一致するデータのみ抽出\n",
    "* 全抽出するテーブルの位置により，左外部結合（Left Outer Join），右外部結合（Right Outer Join）が存在する\n",
    "* 完全外部結合は，全ての要素を入れる"
   ]
  },
  {
   "cell_type": "code",
   "execution_count": 17,
   "metadata": {
    "colab": {
     "base_uri": "https://localhost:8080/",
     "height": 269
    },
    "executionInfo": {
     "elapsed": 11,
     "status": "ok",
     "timestamp": 1663930055275,
     "user": {
      "displayName": "和﨑克己",
      "userId": "01531185103078206810"
     },
     "user_tz": -540
    },
    "id": "QNrA-91tqzjP",
    "outputId": "9f8ea5a9-9a22-4a0b-c0fd-264a06d5e60b",
    "slideshow": {
     "slide_type": "slide"
    }
   },
   "outputs": [
    {
     "data": {
      "text/html": [
       "<div>\n",
       "<style scoped>\n",
       "    .dataframe tbody tr th:only-of-type {\n",
       "        vertical-align: middle;\n",
       "    }\n",
       "\n",
       "    .dataframe tbody tr th {\n",
       "        vertical-align: top;\n",
       "    }\n",
       "\n",
       "    .dataframe thead th {\n",
       "        text-align: right;\n",
       "    }\n",
       "</style>\n",
       "<table border=\"1\" class=\"dataframe\">\n",
       "  <thead>\n",
       "    <tr style=\"text-align: right;\">\n",
       "      <th></th>\n",
       "      <th>student_id</th>\n",
       "      <th>gender</th>\n",
       "      <th>class_id</th>\n",
       "      <th>class_name</th>\n",
       "    </tr>\n",
       "  </thead>\n",
       "  <tbody>\n",
       "    <tr>\n",
       "      <th>0</th>\n",
       "      <td>9011</td>\n",
       "      <td>Male</td>\n",
       "      <td>100</td>\n",
       "      <td>Science</td>\n",
       "    </tr>\n",
       "    <tr>\n",
       "      <th>1</th>\n",
       "      <td>9012</td>\n",
       "      <td>Male</td>\n",
       "      <td>200</td>\n",
       "      <td>Humanities</td>\n",
       "    </tr>\n",
       "    <tr>\n",
       "      <th>2</th>\n",
       "      <td>9013</td>\n",
       "      <td>Female</td>\n",
       "      <td>100</td>\n",
       "      <td>Science</td>\n",
       "    </tr>\n",
       "    <tr>\n",
       "      <th>3</th>\n",
       "      <td>9014</td>\n",
       "      <td>Male</td>\n",
       "      <td>200</td>\n",
       "      <td>Humanities</td>\n",
       "    </tr>\n",
       "    <tr>\n",
       "      <th>4</th>\n",
       "      <td>9015</td>\n",
       "      <td>Female</td>\n",
       "      <td>100</td>\n",
       "      <td>Science</td>\n",
       "    </tr>\n",
       "    <tr>\n",
       "      <th>5</th>\n",
       "      <td>9016</td>\n",
       "      <td>Female</td>\n",
       "      <td>100</td>\n",
       "      <td>Science</td>\n",
       "    </tr>\n",
       "    <tr>\n",
       "      <th>6</th>\n",
       "      <td>9017</td>\n",
       "      <td>Male</td>\n",
       "      <td>NaN</td>\n",
       "      <td>NaN</td>\n",
       "    </tr>\n",
       "  </tbody>\n",
       "</table>\n",
       "</div>"
      ],
      "text/plain": [
       "  student_id  gender class_id  class_name\n",
       "0       9011    Male      100     Science\n",
       "1       9012    Male      200  Humanities\n",
       "2       9013  Female      100     Science\n",
       "3       9014    Male      200  Humanities\n",
       "4       9015  Female      100     Science\n",
       "5       9016  Female      100     Science\n",
       "6       9017    Male      NaN         NaN"
      ]
     },
     "execution_count": 17,
     "metadata": {},
     "output_type": "execute_result"
    }
   ],
   "source": [
    "# 左外部結合（Left Outer Join）\n",
    "# merge, leftを用いて， 2つのDataFrameを \"class_id\" をキーとして左外部結合する\n",
    "pd.merge(std_df, class_df, how=\"left\", on=\"class_id\").sort_values('student_id').reset_index(drop=True)\n",
    "\n",
    "# 学生\"9017\"はクラス割当てが欠損しているが，学生テーブル（左側）にはデータが存在するので，結合結果のレコードとして出力される（コース割当ては欠損値であるので注意）"
   ]
  },
  {
   "cell_type": "code",
   "execution_count": 18,
   "metadata": {
    "colab": {
     "base_uri": "https://localhost:8080/",
     "height": 269
    },
    "executionInfo": {
     "elapsed": 10,
     "status": "ok",
     "timestamp": 1663930055275,
     "user": {
      "displayName": "和﨑克己",
      "userId": "01531185103078206810"
     },
     "user_tz": -540
    },
    "id": "4pcyayfBrhpN",
    "outputId": "32a3548b-d8a7-41c9-b1f9-6ab8c51fd3f3",
    "slideshow": {
     "slide_type": "slide"
    }
   },
   "outputs": [
    {
     "data": {
      "text/html": [
       "<div>\n",
       "<style scoped>\n",
       "    .dataframe tbody tr th:only-of-type {\n",
       "        vertical-align: middle;\n",
       "    }\n",
       "\n",
       "    .dataframe tbody tr th {\n",
       "        vertical-align: top;\n",
       "    }\n",
       "\n",
       "    .dataframe thead th {\n",
       "        text-align: right;\n",
       "    }\n",
       "</style>\n",
       "<table border=\"1\" class=\"dataframe\">\n",
       "  <thead>\n",
       "    <tr style=\"text-align: right;\">\n",
       "      <th></th>\n",
       "      <th>student_id</th>\n",
       "      <th>gender</th>\n",
       "      <th>class_id</th>\n",
       "      <th>class_name</th>\n",
       "    </tr>\n",
       "  </thead>\n",
       "  <tbody>\n",
       "    <tr>\n",
       "      <th>0</th>\n",
       "      <td>9011</td>\n",
       "      <td>Male</td>\n",
       "      <td>100</td>\n",
       "      <td>Science</td>\n",
       "    </tr>\n",
       "    <tr>\n",
       "      <th>1</th>\n",
       "      <td>9012</td>\n",
       "      <td>Male</td>\n",
       "      <td>200</td>\n",
       "      <td>Humanities</td>\n",
       "    </tr>\n",
       "    <tr>\n",
       "      <th>2</th>\n",
       "      <td>9013</td>\n",
       "      <td>Female</td>\n",
       "      <td>100</td>\n",
       "      <td>Science</td>\n",
       "    </tr>\n",
       "    <tr>\n",
       "      <th>3</th>\n",
       "      <td>9014</td>\n",
       "      <td>Male</td>\n",
       "      <td>200</td>\n",
       "      <td>Humanities</td>\n",
       "    </tr>\n",
       "    <tr>\n",
       "      <th>4</th>\n",
       "      <td>9015</td>\n",
       "      <td>Female</td>\n",
       "      <td>100</td>\n",
       "      <td>Science</td>\n",
       "    </tr>\n",
       "    <tr>\n",
       "      <th>5</th>\n",
       "      <td>9016</td>\n",
       "      <td>Female</td>\n",
       "      <td>100</td>\n",
       "      <td>Science</td>\n",
       "    </tr>\n",
       "    <tr>\n",
       "      <th>6</th>\n",
       "      <td>NaN</td>\n",
       "      <td>NaN</td>\n",
       "      <td>300</td>\n",
       "      <td>Comprehensive</td>\n",
       "    </tr>\n",
       "  </tbody>\n",
       "</table>\n",
       "</div>"
      ],
      "text/plain": [
       "  student_id  gender class_id     class_name\n",
       "0       9011    Male      100        Science\n",
       "1       9012    Male      200     Humanities\n",
       "2       9013  Female      100        Science\n",
       "3       9014    Male      200     Humanities\n",
       "4       9015  Female      100        Science\n",
       "5       9016  Female      100        Science\n",
       "6        NaN     NaN      300  Comprehensive"
      ]
     },
     "execution_count": 18,
     "metadata": {},
     "output_type": "execute_result"
    }
   ],
   "source": [
    "# 右外部結合（Right Outer Join）\n",
    "# merge, rightを用いて， 2つのDataFrameを \"class_id\" をキーとして右外部結合する\n",
    "pd.merge(std_df, class_df, how=\"right\", on=\"class_id\").sort_values('student_id').reset_index(drop=True)\n",
    "\n",
    "# 学生テーブルのレコードとして300番のクラス割当した学生は存在しないが，クラス名テーブル（右側）には300番のレコードが存在するので，結合結果のレコードとして出力される（学生は欠損値であるので注意）"
   ]
  },
  {
   "cell_type": "code",
   "execution_count": 19,
   "metadata": {
    "colab": {
     "base_uri": "https://localhost:8080/",
     "height": 300
    },
    "executionInfo": {
     "elapsed": 10,
     "status": "ok",
     "timestamp": 1663930055275,
     "user": {
      "displayName": "和﨑克己",
      "userId": "01531185103078206810"
     },
     "user_tz": -540
    },
    "id": "eCxe0e3LsXQS",
    "outputId": "9d06c62c-6a4e-4649-8ebb-dc950c140b6f",
    "slideshow": {
     "slide_type": "slide"
    }
   },
   "outputs": [
    {
     "data": {
      "text/html": [
       "<div>\n",
       "<style scoped>\n",
       "    .dataframe tbody tr th:only-of-type {\n",
       "        vertical-align: middle;\n",
       "    }\n",
       "\n",
       "    .dataframe tbody tr th {\n",
       "        vertical-align: top;\n",
       "    }\n",
       "\n",
       "    .dataframe thead th {\n",
       "        text-align: right;\n",
       "    }\n",
       "</style>\n",
       "<table border=\"1\" class=\"dataframe\">\n",
       "  <thead>\n",
       "    <tr style=\"text-align: right;\">\n",
       "      <th></th>\n",
       "      <th>student_id</th>\n",
       "      <th>gender</th>\n",
       "      <th>class_id</th>\n",
       "      <th>class_name</th>\n",
       "    </tr>\n",
       "  </thead>\n",
       "  <tbody>\n",
       "    <tr>\n",
       "      <th>0</th>\n",
       "      <td>9011</td>\n",
       "      <td>Male</td>\n",
       "      <td>100</td>\n",
       "      <td>Science</td>\n",
       "    </tr>\n",
       "    <tr>\n",
       "      <th>1</th>\n",
       "      <td>9012</td>\n",
       "      <td>Male</td>\n",
       "      <td>200</td>\n",
       "      <td>Humanities</td>\n",
       "    </tr>\n",
       "    <tr>\n",
       "      <th>2</th>\n",
       "      <td>9013</td>\n",
       "      <td>Female</td>\n",
       "      <td>100</td>\n",
       "      <td>Science</td>\n",
       "    </tr>\n",
       "    <tr>\n",
       "      <th>3</th>\n",
       "      <td>9014</td>\n",
       "      <td>Male</td>\n",
       "      <td>200</td>\n",
       "      <td>Humanities</td>\n",
       "    </tr>\n",
       "    <tr>\n",
       "      <th>4</th>\n",
       "      <td>9015</td>\n",
       "      <td>Female</td>\n",
       "      <td>100</td>\n",
       "      <td>Science</td>\n",
       "    </tr>\n",
       "    <tr>\n",
       "      <th>5</th>\n",
       "      <td>9016</td>\n",
       "      <td>Female</td>\n",
       "      <td>100</td>\n",
       "      <td>Science</td>\n",
       "    </tr>\n",
       "    <tr>\n",
       "      <th>6</th>\n",
       "      <td>9017</td>\n",
       "      <td>Male</td>\n",
       "      <td>NaN</td>\n",
       "      <td>NaN</td>\n",
       "    </tr>\n",
       "    <tr>\n",
       "      <th>7</th>\n",
       "      <td>NaN</td>\n",
       "      <td>NaN</td>\n",
       "      <td>300</td>\n",
       "      <td>Comprehensive</td>\n",
       "    </tr>\n",
       "  </tbody>\n",
       "</table>\n",
       "</div>"
      ],
      "text/plain": [
       "  student_id  gender class_id     class_name\n",
       "0       9011    Male      100        Science\n",
       "1       9012    Male      200     Humanities\n",
       "2       9013  Female      100        Science\n",
       "3       9014    Male      200     Humanities\n",
       "4       9015  Female      100        Science\n",
       "5       9016  Female      100        Science\n",
       "6       9017    Male      NaN            NaN\n",
       "7        NaN     NaN      300  Comprehensive"
      ]
     },
     "execution_count": 19,
     "metadata": {},
     "output_type": "execute_result"
    }
   ],
   "source": [
    "# 完全外部結合（Full Outer Join）\n",
    "# merge, outerを用いて， 2つのDataFrameを \"class_id\" をキーとして完全外部部結合する\n",
    "pd.merge(std_df, class_df, how=\"outer\", on=\"class_id\").sort_values('student_id').reset_index(drop=True)\n",
    "\n",
    "# \"9017\"学生のレコードのクラス値，300番クラスの学生値は欠損したままであるので注意"
   ]
  },
  {
   "cell_type": "markdown",
   "metadata": {
    "id": "Cr8UiHiejsvf",
    "slideshow": {
     "slide_type": "slide"
    }
   },
   "source": [
    "## 3. データの前処理とデータ変換"
   ]
  },
  {
   "cell_type": "markdown",
   "metadata": {
    "id": "fauWV2AWj_gG",
    "slideshow": {
     "slide_type": "slide"
    }
   },
   "source": [
    "### 3.1 データの前処理\n",
    "\n",
    "データクレンジング，データクリーニング\n",
    "* 破損したデータ，不正確なデータ，無関係のデータなどの処理\n",
    "* 住所や名簿などをデータ分析可能な状態にすること\n",
    "\n",
    "主なデータ前処理\n",
    "* 欠損値処理\n",
    "* 外れ値処理，異常値処理\n",
    "* ノイズの除去\n",
    "\n",
    "データの変換\n",
    "* 前処理としてのデータの変換\n",
    "* 型変換やスケーリング\n",
    "* 正規化，標準化"
   ]
  },
  {
   "cell_type": "markdown",
   "metadata": {
    "id": "VCa5brKqkDzw",
    "slideshow": {
     "slide_type": "slide"
    }
   },
   "source": [
    "### 3.2 欠損値処理\n",
    "\n",
    "データクレンジング，データクリーニング\n",
    "* 欠損値の前処理：どんな値で埋めるのか？\n",
    "    * 一般的には，数値データは平均値で置き換える．質的データは最頻値で置き換える（検討が必要）\n",
    "\n",
    "ノイズの除去\n",
    "* センサ値などでノイズが乗った形で出現する\n",
    "* 正常値と置き換えるなどの処理が考えられる（検討が必要）\n",
    "    * 例）売上の時系列データの場合，ノイズが生じた場合には過去の同じような時期のデータと比較するなど"
   ]
  },
  {
   "cell_type": "markdown",
   "metadata": {
    "id": "Pgbv2fwClfSq",
    "slideshow": {
     "slide_type": "slide"
    }
   },
   "source": [
    "<figure>\n",
    "<a href=\"http://www.mi.u-tokyo.ac.jp/pdf/2-5_data_processing.pdf#page=17\"><img src='https://raw.githubusercontent.com/MDASH-shinshu/MDASH-T-DE/main/5/UTAI-text/JPEG/2-5_data_processing_17.jpg' alt='データクレンジング' width='640' border='1'></a>\n",
    "</figure>"
   ]
  },
  {
   "cell_type": "markdown",
   "metadata": {
    "id": "XHaIuEhKkHLp",
    "slideshow": {
     "slide_type": "slide"
    }
   },
   "source": [
    "### 3.3 欠損値の扱い\n",
    "\n",
    "欠損値を処理する一般的な方法\n",
    "\n",
    "* 削除：列や行ごと削除する\n",
    "* 平均置換：平均値で置き換える（当該レコードの信頼性が毀損する）\n",
    "* 最頻値で置き換え：質的データに有効\n",
    "* ダミー置換：ダミー変数（Unknown, Zeroなど）で置き換える\n",
    "\n",
    "完全データ：全ての値が観測されているデータ\n",
    "不完全データ：欠損が含まれているデータ\n",
    "\n",
    "頻繁に欠損値が出現するが，量的データのモデルが既知の場合には，欠損データを予測可能な回帰モデルを作成し，逐次代入する方法がとられる（統計的数値補完）\n",
    "\n",
    "* [参考：note.nkmk.me | pandasで欠損値NaNを除外（削除）・置換（穴埋め）・抽出](https://note.nkmk.me/python-pandas-nan-dropna-fillna/)"
   ]
  },
  {
   "cell_type": "markdown",
   "metadata": {
    "id": "fEC-rlWrluPT",
    "slideshow": {
     "slide_type": "slide"
    }
   },
   "source": [
    "<figure>\n",
    "<a href=\"http://www.mi.u-tokyo.ac.jp/pdf/2-5_data_processing.pdf#page=19\"><img src='https://raw.githubusercontent.com/MDASH-shinshu/MDASH-T-DE/main/5/UTAI-text/JPEG/2-5_data_processing_19.jpg' alt='欠損値への対処' width='640' border='1'></a>\n",
    "</figure>"
   ]
  },
  {
   "cell_type": "markdown",
   "metadata": {
    "id": "Z6fcDdu-kJl5",
    "slideshow": {
     "slide_type": "slide"
    }
   },
   "source": [
    "### 3.4 外れ値処理，異常値処理\n",
    "\n",
    "* 外れ値：通常とはかけ離れた値\n",
    "    * 異常の大きい，小さいなど\n",
    "* 外れ値処理\n",
    "    * 一般的には「残す」\n",
    "\n",
    "+異常値：存在し得ない値など（例：非常に小規模な図書館の入場者が100万人であることを示すデータ，など）\n",
    "    * 欠損値と同じ扱いとする\n",
    "    * 個別に吟味し，置き換えや削除を検討する\n",
    "\n",
    "一般的に，データ件数，レコード数が非常に大きくなるど，欠損値・外れ値・異常値を含む可能性が高まる"
   ]
  },
  {
   "cell_type": "markdown",
   "metadata": {
    "id": "7N5Ice6qloEQ",
    "slideshow": {
     "slide_type": "slide"
    }
   },
   "source": [
    "<figure>\n",
    "<a href=\"http://www.mi.u-tokyo.ac.jp/pdf/2-5_data_processing.pdf#page=18\"><img src='https://raw.githubusercontent.com/MDASH-shinshu/MDASH-T-DE/main/5/UTAI-text/JPEG/2-5_data_processing_18.jpg' alt='外れ値の検定' width='640' border='1'></a>\n",
    "</figure>"
   ]
  },
  {
   "cell_type": "markdown",
   "metadata": {
    "id": "RHcd-J5OkMDi",
    "slideshow": {
     "slide_type": "slide"
    }
   },
   "source": [
    "### 3.5 前処理：データ変換\n",
    "\n",
    "データ変換処理の必要性\n",
    "* 生データは「汚れている」「扱いにくい」\n",
    "* データの型変換やスケーリングといった前処理が必要\n",
    "\n",
    "データの型変換\n",
    "* データ型：プログラミング言語における型変換，整数型，小数点型など\n",
    "* データサイエンスにおけるデータ変換（スケーリング：正規化，標準化）\n",
    "\n",
    "プログラミング言語によっては，変数データの型変換コマンドが実装されている"
   ]
  },
  {
   "cell_type": "markdown",
   "metadata": {
    "id": "O4EK3uhTlQMZ",
    "slideshow": {
     "slide_type": "slide"
    }
   },
   "source": [
    "<figure>\n",
    "<a href=\"http://www.mi.u-tokyo.ac.jp/pdf/2-5_data_processing.pdf#page=16\"><img src='https://raw.githubusercontent.com/MDASH-shinshu/MDASH-T-DE/main/5/UTAI-text/JPEG/2-5_data_processing_16.jpg' alt='データ型変換' width='640' border='1'></a>\n",
    "</figure>"
   ]
  },
  {
   "cell_type": "markdown",
   "metadata": {
    "id": "RnbOMlUAkOjl",
    "slideshow": {
     "slide_type": "slide"
    }
   },
   "source": [
    "### 3.6 データ変換処理\n",
    "\n",
    "データサイエンスにおけるデータ変換\n",
    "* 量的データの変換\n",
    "* 質的データから量的データへの変換（オーダ，ラベリング）\n",
    "\n",
    "量的データの変換\n",
    "* スケーリング（尺度）の変更，対数化など\n",
    "* 正規化，標準化\n",
    "\n",
    "質的データの変換\n",
    "* 質的データから量的データへの変換（順序尺度：例 成績が1番，2番, 3番 であった場合，1番の方が3番より成績が良いことは分かるが，1番と3番を「足した」結果は意味をもたない）\n",
    "* 量的データへの割当て（ラベリング，名義尺度：例 良い=1, 普通=2, 悪い=3）"
   ]
  },
  {
   "cell_type": "markdown",
   "metadata": {
    "id": "Lv0jdkzdmM2h",
    "slideshow": {
     "slide_type": "slide"
    }
   },
   "source": [
    "<figure>\n",
    "<a href=\"http://www.mi.u-tokyo.ac.jp/pdf/2-5_data_processing.pdf#page=21\"><img src='https://raw.githubusercontent.com/MDASH-shinshu/MDASH-T-DE/main/5/UTAI-text/JPEG/2-5_data_processing_21.jpg' alt='ダミー変数' width='640' border='1'></a>\n",
    "</figure>"
   ]
  },
  {
   "cell_type": "markdown",
   "metadata": {
    "id": "9eWqPvT6kRQs",
    "slideshow": {
     "slide_type": "slide"
    }
   },
   "source": [
    "### 3.7 スケーリング：正規化，標準化\n",
    "\n",
    "複数のデータを比較するためにデータの形をそろえる\n",
    "* それぞれの指標に基づいてスケーリングする（尺度を統一する）\n",
    "* 平均，標準偏差，最大，最小といった統計値を利用する\n",
    "\n",
    "正規化：最大と最小を利用する\n",
    "* Min-Max 正規化法\n",
    "* 最小を0, 最大を1でスケーリング\n",
    "\n",
    "標準化：平均と標準偏差を利用する\n",
    "* Z-score 標準化法\n",
    "* 平均0, 分散1でスケーリング\n",
    "\n",
    "[参考：scikit-learn.preprocessing, StandardScalerで標準化してみる](https://aiacademy.jp/media/?p=1147)"
   ]
  },
  {
   "cell_type": "markdown",
   "metadata": {
    "id": "uAlEB2lkl-_V",
    "slideshow": {
     "slide_type": "slide"
    }
   },
   "source": [
    "<figure>\n",
    "<a href=\"http://www.mi.u-tokyo.ac.jp/pdf/2-5_data_processing.pdf#page=20\"><img src='https://raw.githubusercontent.com/MDASH-shinshu/MDASH-T-DE/main/5/UTAI-text/JPEG/2-5_data_processing_20.jpg' alt='データの正規化・標準化' width='640' border='1'></a>\n",
    "</figure>"
   ]
  },
  {
   "cell_type": "markdown",
   "metadata": {
    "id": "255LH6zkkUAF",
    "slideshow": {
     "slide_type": "slide"
    }
   },
   "source": [
    "### 3.8 データの標準化と正規化の例\n",
    "\n",
    "正規化の例\n",
    "1. 最大値と最小値の差を求める\n",
    "2. 最小値からの差を求める\n",
    "3. 正規化値を求める（1.で割る）\n",
    "\n",
    "標準化の例\n",
    "1. 点数を標準化\n",
    "2. 平均値と標準偏差を求める\n",
    "3. 平均からの差を標準偏差で割る\n",
    "\n",
    "[参考：scikit-learn数値系特徴量の前処理まとめ(Feature Scaling)](https://qiita.com/FukuharaYohei/items/7508f2146c63ffe16b1e)\n"
   ]
  },
  {
   "cell_type": "code",
   "execution_count": 20,
   "metadata": {
    "executionInfo": {
     "elapsed": 477,
     "status": "ok",
     "timestamp": 1663930055742,
     "user": {
      "displayName": "和﨑克己",
      "userId": "01531185103078206810"
     },
     "user_tz": -540
    },
    "id": "-eHdSnzl3Bqx",
    "slideshow": {
     "slide_type": "slide"
    }
   },
   "outputs": [],
   "source": [
    "## 上で例にあげた 6名分の3科目の試験点数のデータを標準化，正規化してみる\n",
    "import numpy as np\n",
    "import pandas as pd\n",
    "\n",
    "from matplotlib import pyplot as plt\n",
    "from sklearn.preprocessing import MinMaxScaler, StandardScaler # scikit-learnパッケージから，標準化/正規化ライブラリをインポート\n",
    "\n",
    "## データを準備して data へ格納する\n",
    "data = [[84, 70, 96], [79, 79, 79], [89, 92, 86], \n",
    "        [99, 76, 98], [56, 60, 70], [46, 44, 47]]"
   ]
  },
  {
   "cell_type": "code",
   "execution_count": 21,
   "metadata": {
    "colab": {
     "base_uri": "https://localhost:8080/"
    },
    "executionInfo": {
     "elapsed": 6,
     "status": "ok",
     "timestamp": 1663930055743,
     "user": {
      "displayName": "和﨑克己",
      "userId": "01531185103078206810"
     },
     "user_tz": -540
    },
    "id": "ZLL-chAA7yFj",
    "outputId": "58139b67-7b84-45fb-92e0-50aad52c41af",
    "slideshow": {
     "slide_type": "slide"
    }
   },
   "outputs": [
    {
     "name": "stdout",
     "output_type": "stream",
     "text": [
      "[99. 92. 98.]\n",
      "[53. 48. 51.]\n",
      "[[0.71698113 0.54166667 0.96078431]\n",
      " [0.62264151 0.72916667 0.62745098]\n",
      " [0.81132075 1.         0.76470588]\n",
      " [1.         0.66666667 1.        ]\n",
      " [0.18867925 0.33333333 0.45098039]\n",
      " [0.         0.         0.        ]]\n",
      "[[0.54716981 0.64583333 0.54901961]]\n"
     ]
    }
   ],
   "source": [
    "## 正規化ライブラリ MinMaxScaler を使って正規化する\n",
    "scaler = MinMaxScaler()\n",
    "\n",
    "scaler.fit(data) # 正規化処理を実行\n",
    "\n",
    "print(scaler.data_max_) # 各科目の最大値\n",
    "print(scaler.data_range_) # 各科目の範囲\n",
    "\n",
    "print(scaler.transform(data)) # 各学生の各科目の点数の，正規化後の位置(最小０, 最大1のスケーリング後)\n",
    "\n",
    "print(scaler.transform([[75, 75, 75]])) # 点数が全て75点である別の学生がいた場合の，正規化後の位置（同じ75点でも，各科目データの様相によって随分とポジションが異なることに注意せよ）\n"
   ]
  },
  {
   "cell_type": "code",
   "execution_count": 22,
   "metadata": {
    "colab": {
     "base_uri": "https://localhost:8080/"
    },
    "executionInfo": {
     "elapsed": 5,
     "status": "ok",
     "timestamp": 1663930055743,
     "user": {
      "displayName": "和﨑克己",
      "userId": "01531185103078206810"
     },
     "user_tz": -540
    },
    "id": "n2uZoWTQ3ldC",
    "outputId": "4c820b35-904c-43c7-82ad-c0dbd79ae161",
    "slideshow": {
     "slide_type": "slide"
    }
   },
   "outputs": [
    {
     "name": "stdout",
     "output_type": "stream",
     "text": [
      "[75.5        70.16666667 79.33333333]\n",
      "[18.57193223 15.14834058 17.33653817]\n",
      "[[ 0.4576799  -0.01100231  0.96136071]\n",
      " [ 0.18845643  0.58312218 -0.01922721]\n",
      " [ 0.72690336  1.44130198  0.38454428]\n",
      " [ 1.2653503   0.38508068  1.076724  ]\n",
      " [-1.04997152 -0.67114062 -0.538362  ]\n",
      " [-1.58841846 -1.72736192 -1.86503978]]\n",
      "[[-0.02692235  0.31906685 -0.24995379]]\n"
     ]
    }
   ],
   "source": [
    "## 標準化ライブラリ StandardScaler を使って標準化する\n",
    "scaler = StandardScaler()\n",
    "\n",
    "scaler.fit(data) # 標準化処理を実行\n",
    "\n",
    "print(scaler.mean_) # 各科目の平均値\n",
    "print(np.sqrt(scaler.var_)) # 各科目の標準偏差値\n",
    "\n",
    "print(scaler.transform(data)) # 各学生の各科目の点数の，標準化後の位置(平均0, 分散1のスケーリング後)\n",
    "\n",
    "print(scaler.transform([[75, 75, 75]])) # 点数が全て75点である別の学生がいた場合の，標準化後の位置（同じ75点でも，各科目データの様相によって随分と評価が異なる（±）ことに注意せよ）\n"
   ]
  },
  {
   "cell_type": "markdown",
   "metadata": {
    "id": "SJVT3sD3vwsf",
    "slideshow": {
     "slide_type": "slide"
    }
   },
   "source": [
    "## 4. Python pandasによるデータクレンジングと分析の例"
   ]
  },
  {
   "cell_type": "markdown",
   "metadata": {
    "id": "SnfzmVCQwh2W",
    "slideshow": {
     "slide_type": "slide"
    }
   },
   "source": [
    "### （重要：欠損値，外れ値ありに加工した）気象データを用いた処理例 (Python pandas)"
   ]
  },
  {
   "cell_type": "markdown",
   "metadata": {
    "id": "rmM5atvzEiI6",
    "slideshow": {
     "slide_type": "slide"
    }
   },
   "source": [
    "### 4.1 欠損値のあるレコードの検出，欠損値の線形補間法による穴埋め（使用する際は要注意）"
   ]
  },
  {
   "cell_type": "code",
   "execution_count": null,
   "metadata": {
    "id": "Nnk6xYmkxOtF",
    "slideshow": {
     "slide_type": "slide"
    }
   },
   "outputs": [],
   "source": [
    "# オリジナルのCSVデータを カレントディレクトリ直下のフォルダ（一時作業領域）へダウンロードする．\n",
    "!wget -nc https://raw.githubusercontent.com/MDASH-shinshu/MDASH-T-DE/main/5/resources/JMA_Nagano_2021_original.csv\n",
    "\n",
    "# 欠損値，外れ値あり加工済CSVファイルもダウンロードする\n",
    "!wget -nc https://raw.githubusercontent.com/MDASH-shinshu/MDASH-T-DE/main/5/resources/JMA_Nagano_2021_error.csv\n",
    "\n",
    "# wgetしなくても，Google colab.の左メニュー [ファイル] アイコンをクリックして，ブラウザへファイルをドラッグ＆ドロップしても可\n",
    "\n",
    "# ファイル (JMA_Nagano_2021_xxxxxxx.csv)がダウンロード・配置できたことを確認する\n",
    "##!ls -al ./\n",
    "\n",
    "# オリジナルと加工済ファイルの相違点を diff で確認しておく\n",
    "!diff JMA_Nagano_2021_original.csv JMA_Nagano_2021_error.csv\n"
   ]
  },
  {
   "cell_type": "code",
   "execution_count": 24,
   "metadata": {
    "id": "ej_RAJLgw6Pu",
    "slideshow": {
     "slide_type": "slide"
    }
   },
   "outputs": [
    {
     "data": {
      "text/html": [
       "<div>\n",
       "<style scoped>\n",
       "    .dataframe tbody tr th:only-of-type {\n",
       "        vertical-align: middle;\n",
       "    }\n",
       "\n",
       "    .dataframe tbody tr th {\n",
       "        vertical-align: top;\n",
       "    }\n",
       "\n",
       "    .dataframe thead th {\n",
       "        text-align: right;\n",
       "    }\n",
       "</style>\n",
       "<table border=\"1\" class=\"dataframe\">\n",
       "  <thead>\n",
       "    <tr style=\"text-align: right;\">\n",
       "      <th></th>\n",
       "      <th>date</th>\n",
       "      <th>temp_ave</th>\n",
       "      <th>temp_high</th>\n",
       "      <th>temp_low</th>\n",
       "      <th>rain_total</th>\n",
       "      <th>sun_shine</th>\n",
       "      <th>wind_ave</th>\n",
       "      <th>wind_max</th>\n",
       "      <th>wind_dir</th>\n",
       "      <th>wind_peak</th>\n",
       "      <th>wind_dir2</th>\n",
       "      <th>wind_dir16</th>\n",
       "      <th>humid_ave</th>\n",
       "      <th>humid_max</th>\n",
       "      <th>humid_ave2</th>\n",
       "      <th>forecast_day</th>\n",
       "      <th>forecast_night</th>\n",
       "    </tr>\n",
       "  </thead>\n",
       "  <tbody>\n",
       "    <tr>\n",
       "      <th>0</th>\n",
       "      <td>2021/1/1</td>\n",
       "      <td>-1.9</td>\n",
       "      <td>0.9</td>\n",
       "      <td>-3.5</td>\n",
       "      <td>5.5</td>\n",
       "      <td>1.4</td>\n",
       "      <td>1.2</td>\n",
       "      <td>4.9</td>\n",
       "      <td>北東</td>\n",
       "      <td>6.9</td>\n",
       "      <td>北東</td>\n",
       "      <td>東北東</td>\n",
       "      <td>4.9</td>\n",
       "      <td>77</td>\n",
       "      <td>92</td>\n",
       "      <td>雪時々曇一時晴</td>\n",
       "      <td>晴時々曇</td>\n",
       "    </tr>\n",
       "    <tr>\n",
       "      <th>1</th>\n",
       "      <td>2021/1/2</td>\n",
       "      <td>-2.3</td>\n",
       "      <td>1.3</td>\n",
       "      <td>-4.5</td>\n",
       "      <td>0.0</td>\n",
       "      <td>0.1</td>\n",
       "      <td>1.7</td>\n",
       "      <td>6.8</td>\n",
       "      <td>北</td>\n",
       "      <td>10.6</td>\n",
       "      <td>北</td>\n",
       "      <td>東北東</td>\n",
       "      <td>4.6</td>\n",
       "      <td>73</td>\n",
       "      <td>89</td>\n",
       "      <td>曇時々雪一時晴</td>\n",
       "      <td>晴時々曇一時雪</td>\n",
       "    </tr>\n",
       "    <tr>\n",
       "      <th>2</th>\n",
       "      <td>2021/1/3</td>\n",
       "      <td>-2.5</td>\n",
       "      <td>0.7</td>\n",
       "      <td>-5.5</td>\n",
       "      <td>0.0</td>\n",
       "      <td>1.6</td>\n",
       "      <td>1.3</td>\n",
       "      <td>3.6</td>\n",
       "      <td>東</td>\n",
       "      <td>4.9</td>\n",
       "      <td>東北東</td>\n",
       "      <td>東</td>\n",
       "      <td>4.6</td>\n",
       "      <td>79</td>\n",
       "      <td>89</td>\n",
       "      <td>曇時々雪一時晴</td>\n",
       "      <td>晴時々曇一時雪</td>\n",
       "    </tr>\n",
       "    <tr>\n",
       "      <th>3</th>\n",
       "      <td>2021/1/4</td>\n",
       "      <td>-1.4</td>\n",
       "      <td>3.5</td>\n",
       "      <td>-5.3</td>\n",
       "      <td>0.0</td>\n",
       "      <td>4.4</td>\n",
       "      <td>1.1</td>\n",
       "      <td>3.2</td>\n",
       "      <td>東北東</td>\n",
       "      <td>4.3</td>\n",
       "      <td>東北東</td>\n",
       "      <td>東</td>\n",
       "      <td>4.9</td>\n",
       "      <td>72</td>\n",
       "      <td>89</td>\n",
       "      <td>曇一時雪後晴</td>\n",
       "      <td>晴後時々曇</td>\n",
       "    </tr>\n",
       "    <tr>\n",
       "      <th>4</th>\n",
       "      <td>2021/1/5</td>\n",
       "      <td>-0.6</td>\n",
       "      <td>2.7</td>\n",
       "      <td>-3.0</td>\n",
       "      <td>0.0</td>\n",
       "      <td>1.5</td>\n",
       "      <td>1.0</td>\n",
       "      <td>2.7</td>\n",
       "      <td>西南西</td>\n",
       "      <td>4.0</td>\n",
       "      <td>西南西</td>\n",
       "      <td>東</td>\n",
       "      <td>5.3</td>\n",
       "      <td>76</td>\n",
       "      <td>90</td>\n",
       "      <td>曇後一時晴</td>\n",
       "      <td>曇時々晴</td>\n",
       "    </tr>\n",
       "    <tr>\n",
       "      <th>...</th>\n",
       "      <td>...</td>\n",
       "      <td>...</td>\n",
       "      <td>...</td>\n",
       "      <td>...</td>\n",
       "      <td>...</td>\n",
       "      <td>...</td>\n",
       "      <td>...</td>\n",
       "      <td>...</td>\n",
       "      <td>...</td>\n",
       "      <td>...</td>\n",
       "      <td>...</td>\n",
       "      <td>...</td>\n",
       "      <td>...</td>\n",
       "      <td>...</td>\n",
       "      <td>...</td>\n",
       "      <td>...</td>\n",
       "      <td>...</td>\n",
       "    </tr>\n",
       "    <tr>\n",
       "      <th>360</th>\n",
       "      <td>2021/12/27</td>\n",
       "      <td>-3.3</td>\n",
       "      <td>-0.3</td>\n",
       "      <td>-6.2</td>\n",
       "      <td>0.0</td>\n",
       "      <td>1.6</td>\n",
       "      <td>1.1</td>\n",
       "      <td>3.8</td>\n",
       "      <td>東</td>\n",
       "      <td>5.5</td>\n",
       "      <td>東北東</td>\n",
       "      <td>東北東</td>\n",
       "      <td>4.1</td>\n",
       "      <td>61</td>\n",
       "      <td>85</td>\n",
       "      <td>曇時々雪</td>\n",
       "      <td>雪時々曇</td>\n",
       "    </tr>\n",
       "    <tr>\n",
       "      <th>361</th>\n",
       "      <td>2021/12/28</td>\n",
       "      <td>-2.0</td>\n",
       "      <td>1.7</td>\n",
       "      <td>-5.3</td>\n",
       "      <td>2.0</td>\n",
       "      <td>5.9</td>\n",
       "      <td>2.3</td>\n",
       "      <td>6.0</td>\n",
       "      <td>東北東</td>\n",
       "      <td>8.2</td>\n",
       "      <td>東北東</td>\n",
       "      <td>東北東</td>\n",
       "      <td>4.4</td>\n",
       "      <td>64</td>\n",
       "      <td>84</td>\n",
       "      <td>晴時々曇一時雪</td>\n",
       "      <td>晴後一時曇</td>\n",
       "    </tr>\n",
       "    <tr>\n",
       "      <th>362</th>\n",
       "      <td>2021/12/29</td>\n",
       "      <td>-1.3</td>\n",
       "      <td>5.8</td>\n",
       "      <td>-8.0</td>\n",
       "      <td>0.0</td>\n",
       "      <td>8.2</td>\n",
       "      <td>1.3</td>\n",
       "      <td>3.5</td>\n",
       "      <td>南南西</td>\n",
       "      <td>6.0</td>\n",
       "      <td>南南西</td>\n",
       "      <td>南南西</td>\n",
       "      <td>4.2</td>\n",
       "      <td>47</td>\n",
       "      <td>76</td>\n",
       "      <td>晴一時曇</td>\n",
       "      <td>晴後曇一時雪</td>\n",
       "    </tr>\n",
       "    <tr>\n",
       "      <th>363</th>\n",
       "      <td>2021/12/30</td>\n",
       "      <td>0.0</td>\n",
       "      <td>2.0</td>\n",
       "      <td>-1.9</td>\n",
       "      <td>7.0</td>\n",
       "      <td>0.2</td>\n",
       "      <td>1.4</td>\n",
       "      <td>4.0</td>\n",
       "      <td>東</td>\n",
       "      <td>6.6</td>\n",
       "      <td>東</td>\n",
       "      <td>東</td>\n",
       "      <td>5.9</td>\n",
       "      <td>86</td>\n",
       "      <td>96</td>\n",
       "      <td>みぞれ時々曇一時雪、雷を伴う</td>\n",
       "      <td>曇時々雪一時みぞれ</td>\n",
       "    </tr>\n",
       "    <tr>\n",
       "      <th>364</th>\n",
       "      <td>2021/12/31</td>\n",
       "      <td>-3.3</td>\n",
       "      <td>-0.5</td>\n",
       "      <td>-5.3</td>\n",
       "      <td>4.5</td>\n",
       "      <td>0.0</td>\n",
       "      <td>2.5</td>\n",
       "      <td>5.1</td>\n",
       "      <td>東</td>\n",
       "      <td>7.6</td>\n",
       "      <td>北東</td>\n",
       "      <td>東北東</td>\n",
       "      <td>4.4</td>\n",
       "      <td>59</td>\n",
       "      <td>92</td>\n",
       "      <td>雪時々曇</td>\n",
       "      <td>曇時々雪</td>\n",
       "    </tr>\n",
       "  </tbody>\n",
       "</table>\n",
       "<p>365 rows × 17 columns</p>\n",
       "</div>"
      ],
      "text/plain": [
       "           date  temp_ave  temp_high  temp_low  rain_total  sun_shine  \\\n",
       "0      2021/1/1      -1.9        0.9      -3.5         5.5        1.4   \n",
       "1      2021/1/2      -2.3        1.3      -4.5         0.0        0.1   \n",
       "2      2021/1/3      -2.5        0.7      -5.5         0.0        1.6   \n",
       "3      2021/1/4      -1.4        3.5      -5.3         0.0        4.4   \n",
       "4      2021/1/5      -0.6        2.7      -3.0         0.0        1.5   \n",
       "..          ...       ...        ...       ...         ...        ...   \n",
       "360  2021/12/27      -3.3       -0.3      -6.2         0.0        1.6   \n",
       "361  2021/12/28      -2.0        1.7      -5.3         2.0        5.9   \n",
       "362  2021/12/29      -1.3        5.8      -8.0         0.0        8.2   \n",
       "363  2021/12/30       0.0        2.0      -1.9         7.0        0.2   \n",
       "364  2021/12/31      -3.3       -0.5      -5.3         4.5        0.0   \n",
       "\n",
       "     wind_ave  wind_max wind_dir  wind_peak wind_dir2 wind_dir16  humid_ave  \\\n",
       "0         1.2       4.9       北東        6.9        北東        東北東        4.9   \n",
       "1         1.7       6.8        北       10.6         北        東北東        4.6   \n",
       "2         1.3       3.6        東        4.9       東北東          東        4.6   \n",
       "3         1.1       3.2      東北東        4.3       東北東          東        4.9   \n",
       "4         1.0       2.7      西南西        4.0       西南西          東        5.3   \n",
       "..        ...       ...      ...        ...       ...        ...        ...   \n",
       "360       1.1       3.8        東        5.5       東北東        東北東        4.1   \n",
       "361       2.3       6.0      東北東        8.2       東北東        東北東        4.4   \n",
       "362       1.3       3.5      南南西        6.0       南南西        南南西        4.2   \n",
       "363       1.4       4.0        東        6.6         東          東        5.9   \n",
       "364       2.5       5.1        東        7.6        北東        東北東        4.4   \n",
       "\n",
       "     humid_max  humid_ave2    forecast_day forecast_night  \n",
       "0           77          92         雪時々曇一時晴           晴時々曇  \n",
       "1           73          89         曇時々雪一時晴        晴時々曇一時雪  \n",
       "2           79          89         曇時々雪一時晴        晴時々曇一時雪  \n",
       "3           72          89          曇一時雪後晴          晴後時々曇  \n",
       "4           76          90           曇後一時晴           曇時々晴  \n",
       "..         ...         ...             ...            ...  \n",
       "360         61          85            曇時々雪           雪時々曇  \n",
       "361         64          84         晴時々曇一時雪          晴後一時曇  \n",
       "362         47          76            晴一時曇         晴後曇一時雪  \n",
       "363         86          96  みぞれ時々曇一時雪、雷を伴う      曇時々雪一時みぞれ  \n",
       "364         59          92            雪時々曇           曇時々雪  \n",
       "\n",
       "[365 rows x 17 columns]"
      ]
     },
     "metadata": {},
     "output_type": "display_data"
    }
   ],
   "source": [
    "# 欠損値，外れ値あり加工済CSVファイルをpandasで読み込んでデータフレームdfに格納\n",
    "import pandas as pd\n",
    "from IPython.display import display\n",
    "\n",
    "df = pd.read_csv('JMA_Nagano_2021_error.csv')\n",
    "df.columns = ['date','temp_ave','temp_high','temp_low','rain_total','sun_shine','wind_ave','wind_max','wind_dir','wind_peak','wind_dir2','wind_dir16','humid_ave','humid_max','humid_ave2','forecast_day','forecast_night']\n",
    "\n",
    "# インタラクティブ表示にして，　[Filter] > [Search by all fields:] に NaN で検索すると，欠損値を含むレコードの場所が分かる（日付とカラム名をメモしておくこと）\n",
    "# しかし，外れ値（異常値）がどこに潜んでいるかは，わかりませんね！\n",
    "display(df)"
   ]
  },
  {
   "cell_type": "code",
   "execution_count": 25,
   "metadata": {
    "colab": {
     "base_uri": "https://localhost:8080/"
    },
    "executionInfo": {
     "elapsed": 7,
     "status": "ok",
     "timestamp": 1663930056499,
     "user": {
      "displayName": "和﨑克己",
      "userId": "01531185103078206810"
     },
     "user_tz": -540
    },
    "id": "iAc6rWdn_vwR",
    "outputId": "5445eb41-449d-4a28-cc03-859c50724c49",
    "slideshow": {
     "slide_type": "slide"
    }
   },
   "outputs": [
    {
     "name": "stdout",
     "output_type": "stream",
     "text": [
      "date              0\n",
      "temp_ave          1\n",
      "temp_high         1\n",
      "temp_low          1\n",
      "rain_total        1\n",
      "sun_shine         1\n",
      "wind_ave          0\n",
      "wind_max          0\n",
      "wind_dir          0\n",
      "wind_peak         0\n",
      "wind_dir2         0\n",
      "wind_dir16        0\n",
      "humid_ave         0\n",
      "humid_max         0\n",
      "humid_ave2        0\n",
      "forecast_day      0\n",
      "forecast_night    0\n",
      "dtype: int64\n"
     ]
    }
   ],
   "source": [
    "# 行・列ごとに欠損値の個数をカウント\n",
    "print(df.isnull().sum())"
   ]
  },
  {
   "cell_type": "code",
   "execution_count": 26,
   "metadata": {
    "colab": {
     "base_uri": "https://localhost:8080/"
    },
    "executionInfo": {
     "elapsed": 5,
     "status": "ok",
     "timestamp": 1663930056499,
     "user": {
      "displayName": "和﨑克己",
      "userId": "01531185103078206810"
     },
     "user_tz": -540
    },
    "id": "ZKD1k26bA3Zg",
    "outputId": "c982d2ab-14e9-45da-958a-399c163e8c28",
    "slideshow": {
     "slide_type": "slide"
    }
   },
   "outputs": [
    {
     "name": "stdout",
     "output_type": "stream",
     "text": [
      "           date  temp_ave  temp_high  temp_low  rain_total  sun_shine  \\\n",
      "44    2021/2/14       NaN        NaN       NaN         0.0        9.4   \n",
      "73    2021/3/15       5.9       12.2       0.5         NaN        8.3   \n",
      "357  2021/12/24       2.7        8.6      -2.7         0.0        NaN   \n",
      "\n",
      "     wind_ave  wind_max wind_dir  wind_peak wind_dir2 wind_dir16  humid_ave  \\\n",
      "44        2.1       6.5      西南西       10.3        南西        西南西        6.5   \n",
      "73        2.5       7.8        東       11.5         東        東北東        5.8   \n",
      "357       1.3       2.8       南西        4.2       東北東          東        5.6   \n",
      "\n",
      "     humid_max  humid_ave2 forecast_day forecast_night  \n",
      "44          29          64        晴後一時曇       曇時々晴後一時雨  \n",
      "73          44          64         晴一時曇          晴後時々曇  \n",
      "357         49          77         晴時々曇            曇後雨  \n"
     ]
    }
   ],
   "source": [
    "# 欠損値NaNが一つでも含まれる行を抽出\n",
    "print(df[df.isnull().any(axis=1)])"
   ]
  },
  {
   "cell_type": "code",
   "execution_count": 27,
   "metadata": {
    "id": "LGoGT5iRBp3h",
    "slideshow": {
     "slide_type": "slide"
    }
   },
   "outputs": [
    {
     "data": {
      "text/html": [
       "<div>\n",
       "<style scoped>\n",
       "    .dataframe tbody tr th:only-of-type {\n",
       "        vertical-align: middle;\n",
       "    }\n",
       "\n",
       "    .dataframe tbody tr th {\n",
       "        vertical-align: top;\n",
       "    }\n",
       "\n",
       "    .dataframe thead th {\n",
       "        text-align: right;\n",
       "    }\n",
       "</style>\n",
       "<table border=\"1\" class=\"dataframe\">\n",
       "  <thead>\n",
       "    <tr style=\"text-align: right;\">\n",
       "      <th></th>\n",
       "      <th>date</th>\n",
       "      <th>temp_ave</th>\n",
       "      <th>temp_high</th>\n",
       "      <th>temp_low</th>\n",
       "      <th>rain_total</th>\n",
       "      <th>sun_shine</th>\n",
       "      <th>wind_ave</th>\n",
       "      <th>wind_max</th>\n",
       "      <th>wind_dir</th>\n",
       "      <th>wind_peak</th>\n",
       "      <th>wind_dir2</th>\n",
       "      <th>wind_dir16</th>\n",
       "      <th>humid_ave</th>\n",
       "      <th>humid_max</th>\n",
       "      <th>humid_ave2</th>\n",
       "      <th>forecast_day</th>\n",
       "      <th>forecast_night</th>\n",
       "    </tr>\n",
       "  </thead>\n",
       "  <tbody>\n",
       "    <tr>\n",
       "      <th>0</th>\n",
       "      <td>2021/1/1</td>\n",
       "      <td>-1.9</td>\n",
       "      <td>0.9</td>\n",
       "      <td>-3.5</td>\n",
       "      <td>5.5</td>\n",
       "      <td>1.4</td>\n",
       "      <td>1.2</td>\n",
       "      <td>4.9</td>\n",
       "      <td>北東</td>\n",
       "      <td>6.9</td>\n",
       "      <td>北東</td>\n",
       "      <td>東北東</td>\n",
       "      <td>4.9</td>\n",
       "      <td>77</td>\n",
       "      <td>92</td>\n",
       "      <td>雪時々曇一時晴</td>\n",
       "      <td>晴時々曇</td>\n",
       "    </tr>\n",
       "    <tr>\n",
       "      <th>1</th>\n",
       "      <td>2021/1/2</td>\n",
       "      <td>-2.3</td>\n",
       "      <td>1.3</td>\n",
       "      <td>-4.5</td>\n",
       "      <td>0.0</td>\n",
       "      <td>0.1</td>\n",
       "      <td>1.7</td>\n",
       "      <td>6.8</td>\n",
       "      <td>北</td>\n",
       "      <td>10.6</td>\n",
       "      <td>北</td>\n",
       "      <td>東北東</td>\n",
       "      <td>4.6</td>\n",
       "      <td>73</td>\n",
       "      <td>89</td>\n",
       "      <td>曇時々雪一時晴</td>\n",
       "      <td>晴時々曇一時雪</td>\n",
       "    </tr>\n",
       "    <tr>\n",
       "      <th>2</th>\n",
       "      <td>2021/1/3</td>\n",
       "      <td>-2.5</td>\n",
       "      <td>0.7</td>\n",
       "      <td>-5.5</td>\n",
       "      <td>0.0</td>\n",
       "      <td>1.6</td>\n",
       "      <td>1.3</td>\n",
       "      <td>3.6</td>\n",
       "      <td>東</td>\n",
       "      <td>4.9</td>\n",
       "      <td>東北東</td>\n",
       "      <td>東</td>\n",
       "      <td>4.6</td>\n",
       "      <td>79</td>\n",
       "      <td>89</td>\n",
       "      <td>曇時々雪一時晴</td>\n",
       "      <td>晴時々曇一時雪</td>\n",
       "    </tr>\n",
       "    <tr>\n",
       "      <th>3</th>\n",
       "      <td>2021/1/4</td>\n",
       "      <td>-1.4</td>\n",
       "      <td>3.5</td>\n",
       "      <td>-5.3</td>\n",
       "      <td>0.0</td>\n",
       "      <td>4.4</td>\n",
       "      <td>1.1</td>\n",
       "      <td>3.2</td>\n",
       "      <td>東北東</td>\n",
       "      <td>4.3</td>\n",
       "      <td>東北東</td>\n",
       "      <td>東</td>\n",
       "      <td>4.9</td>\n",
       "      <td>72</td>\n",
       "      <td>89</td>\n",
       "      <td>曇一時雪後晴</td>\n",
       "      <td>晴後時々曇</td>\n",
       "    </tr>\n",
       "    <tr>\n",
       "      <th>4</th>\n",
       "      <td>2021/1/5</td>\n",
       "      <td>-0.6</td>\n",
       "      <td>2.7</td>\n",
       "      <td>-3.0</td>\n",
       "      <td>0.0</td>\n",
       "      <td>1.5</td>\n",
       "      <td>1.0</td>\n",
       "      <td>2.7</td>\n",
       "      <td>西南西</td>\n",
       "      <td>4.0</td>\n",
       "      <td>西南西</td>\n",
       "      <td>東</td>\n",
       "      <td>5.3</td>\n",
       "      <td>76</td>\n",
       "      <td>90</td>\n",
       "      <td>曇後一時晴</td>\n",
       "      <td>曇時々晴</td>\n",
       "    </tr>\n",
       "    <tr>\n",
       "      <th>...</th>\n",
       "      <td>...</td>\n",
       "      <td>...</td>\n",
       "      <td>...</td>\n",
       "      <td>...</td>\n",
       "      <td>...</td>\n",
       "      <td>...</td>\n",
       "      <td>...</td>\n",
       "      <td>...</td>\n",
       "      <td>...</td>\n",
       "      <td>...</td>\n",
       "      <td>...</td>\n",
       "      <td>...</td>\n",
       "      <td>...</td>\n",
       "      <td>...</td>\n",
       "      <td>...</td>\n",
       "      <td>...</td>\n",
       "      <td>...</td>\n",
       "    </tr>\n",
       "    <tr>\n",
       "      <th>360</th>\n",
       "      <td>2021/12/27</td>\n",
       "      <td>-3.3</td>\n",
       "      <td>-0.3</td>\n",
       "      <td>-6.2</td>\n",
       "      <td>0.0</td>\n",
       "      <td>1.6</td>\n",
       "      <td>1.1</td>\n",
       "      <td>3.8</td>\n",
       "      <td>東</td>\n",
       "      <td>5.5</td>\n",
       "      <td>東北東</td>\n",
       "      <td>東北東</td>\n",
       "      <td>4.1</td>\n",
       "      <td>61</td>\n",
       "      <td>85</td>\n",
       "      <td>曇時々雪</td>\n",
       "      <td>雪時々曇</td>\n",
       "    </tr>\n",
       "    <tr>\n",
       "      <th>361</th>\n",
       "      <td>2021/12/28</td>\n",
       "      <td>-2.0</td>\n",
       "      <td>1.7</td>\n",
       "      <td>-5.3</td>\n",
       "      <td>2.0</td>\n",
       "      <td>5.9</td>\n",
       "      <td>2.3</td>\n",
       "      <td>6.0</td>\n",
       "      <td>東北東</td>\n",
       "      <td>8.2</td>\n",
       "      <td>東北東</td>\n",
       "      <td>東北東</td>\n",
       "      <td>4.4</td>\n",
       "      <td>64</td>\n",
       "      <td>84</td>\n",
       "      <td>晴時々曇一時雪</td>\n",
       "      <td>晴後一時曇</td>\n",
       "    </tr>\n",
       "    <tr>\n",
       "      <th>362</th>\n",
       "      <td>2021/12/29</td>\n",
       "      <td>-1.3</td>\n",
       "      <td>5.8</td>\n",
       "      <td>-8.0</td>\n",
       "      <td>0.0</td>\n",
       "      <td>8.2</td>\n",
       "      <td>1.3</td>\n",
       "      <td>3.5</td>\n",
       "      <td>南南西</td>\n",
       "      <td>6.0</td>\n",
       "      <td>南南西</td>\n",
       "      <td>南南西</td>\n",
       "      <td>4.2</td>\n",
       "      <td>47</td>\n",
       "      <td>76</td>\n",
       "      <td>晴一時曇</td>\n",
       "      <td>晴後曇一時雪</td>\n",
       "    </tr>\n",
       "    <tr>\n",
       "      <th>363</th>\n",
       "      <td>2021/12/30</td>\n",
       "      <td>0.0</td>\n",
       "      <td>2.0</td>\n",
       "      <td>-1.9</td>\n",
       "      <td>7.0</td>\n",
       "      <td>0.2</td>\n",
       "      <td>1.4</td>\n",
       "      <td>4.0</td>\n",
       "      <td>東</td>\n",
       "      <td>6.6</td>\n",
       "      <td>東</td>\n",
       "      <td>東</td>\n",
       "      <td>5.9</td>\n",
       "      <td>86</td>\n",
       "      <td>96</td>\n",
       "      <td>みぞれ時々曇一時雪、雷を伴う</td>\n",
       "      <td>曇時々雪一時みぞれ</td>\n",
       "    </tr>\n",
       "    <tr>\n",
       "      <th>364</th>\n",
       "      <td>2021/12/31</td>\n",
       "      <td>-3.3</td>\n",
       "      <td>-0.5</td>\n",
       "      <td>-5.3</td>\n",
       "      <td>4.5</td>\n",
       "      <td>0.0</td>\n",
       "      <td>2.5</td>\n",
       "      <td>5.1</td>\n",
       "      <td>東</td>\n",
       "      <td>7.6</td>\n",
       "      <td>北東</td>\n",
       "      <td>東北東</td>\n",
       "      <td>4.4</td>\n",
       "      <td>59</td>\n",
       "      <td>92</td>\n",
       "      <td>雪時々曇</td>\n",
       "      <td>曇時々雪</td>\n",
       "    </tr>\n",
       "  </tbody>\n",
       "</table>\n",
       "<p>365 rows × 17 columns</p>\n",
       "</div>"
      ],
      "text/plain": [
       "           date  temp_ave  temp_high  temp_low  rain_total  sun_shine  \\\n",
       "0      2021/1/1      -1.9        0.9      -3.5         5.5        1.4   \n",
       "1      2021/1/2      -2.3        1.3      -4.5         0.0        0.1   \n",
       "2      2021/1/3      -2.5        0.7      -5.5         0.0        1.6   \n",
       "3      2021/1/4      -1.4        3.5      -5.3         0.0        4.4   \n",
       "4      2021/1/5      -0.6        2.7      -3.0         0.0        1.5   \n",
       "..          ...       ...        ...       ...         ...        ...   \n",
       "360  2021/12/27      -3.3       -0.3      -6.2         0.0        1.6   \n",
       "361  2021/12/28      -2.0        1.7      -5.3         2.0        5.9   \n",
       "362  2021/12/29      -1.3        5.8      -8.0         0.0        8.2   \n",
       "363  2021/12/30       0.0        2.0      -1.9         7.0        0.2   \n",
       "364  2021/12/31      -3.3       -0.5      -5.3         4.5        0.0   \n",
       "\n",
       "     wind_ave  wind_max wind_dir  wind_peak wind_dir2 wind_dir16  humid_ave  \\\n",
       "0         1.2       4.9       北東        6.9        北東        東北東        4.9   \n",
       "1         1.7       6.8        北       10.6         北        東北東        4.6   \n",
       "2         1.3       3.6        東        4.9       東北東          東        4.6   \n",
       "3         1.1       3.2      東北東        4.3       東北東          東        4.9   \n",
       "4         1.0       2.7      西南西        4.0       西南西          東        5.3   \n",
       "..        ...       ...      ...        ...       ...        ...        ...   \n",
       "360       1.1       3.8        東        5.5       東北東        東北東        4.1   \n",
       "361       2.3       6.0      東北東        8.2       東北東        東北東        4.4   \n",
       "362       1.3       3.5      南南西        6.0       南南西        南南西        4.2   \n",
       "363       1.4       4.0        東        6.6         東          東        5.9   \n",
       "364       2.5       5.1        東        7.6        北東        東北東        4.4   \n",
       "\n",
       "     humid_max  humid_ave2    forecast_day forecast_night  \n",
       "0           77          92         雪時々曇一時晴           晴時々曇  \n",
       "1           73          89         曇時々雪一時晴        晴時々曇一時雪  \n",
       "2           79          89         曇時々雪一時晴        晴時々曇一時雪  \n",
       "3           72          89          曇一時雪後晴          晴後時々曇  \n",
       "4           76          90           曇後一時晴           曇時々晴  \n",
       "..         ...         ...             ...            ...  \n",
       "360         61          85            曇時々雪           雪時々曇  \n",
       "361         64          84         晴時々曇一時雪          晴後一時曇  \n",
       "362         47          76            晴一時曇         晴後曇一時雪  \n",
       "363         86          96  みぞれ時々曇一時雪、雷を伴う      曇時々雪一時みぞれ  \n",
       "364         59          92            雪時々曇           曇時々雪  \n",
       "\n",
       "[365 rows x 17 columns]"
      ]
     },
     "execution_count": 27,
     "metadata": {},
     "output_type": "execute_result"
    }
   ],
   "source": [
    "# 欠損値NaNを前後の値から補間するinterpolateを用いる例（欠損値1つのみ．線形補間法による．case-by-caseであるので注意せよ）\n",
    "df_inter = df.interpolate(method='linear', limit=1, limit_direction='both')\n",
    "\n",
    "# さきほどメモした欠損値を含むレコードの場所で，補完されたデータの値を確かめよ．補完値は妥当か？ 線形補間で良いのか？ 周期トレンドは考慮しなくていいのか？\n",
    "df_inter"
   ]
  },
  {
   "cell_type": "markdown",
   "metadata": {
    "id": "e_quEyVLHph8",
    "slideshow": {
     "slide_type": "slide"
    }
   },
   "source": [
    "### 4.2 「統計ベース」による外れ値検知を試す\n",
    "\n",
    "> 機械学習を取り入れたAIシステムの構築は，<br>\n",
    "> ①データセット作成（前処理）→ ②モデルの構築 → ③モデルの適用<br>\n",
    "> というプロセスで行っていき，その際「データセット作成（前処理）」の段階では、正しくモデル構築できるよう、事前にデータを整備しておくことが求められます。\n",
    "> その際に問題なることが多い「外れ値」とその対処方法について解説していきます。\n",
    "\n",
    "[参考:Qiita 外れ値検出](https://qiita.com/tk-tatsuro/items/a49ccab4441dc1dfc86c)\n"
   ]
  },
  {
   "cell_type": "code",
   "execution_count": null,
   "metadata": {
    "slideshow": {
     "slide_type": "slide"
    }
   },
   "outputs": [],
   "source": [
    "!pip install seaborn # seabornライブラリをインストール"
   ]
  },
  {
   "cell_type": "code",
   "execution_count": 29,
   "metadata": {
    "colab": {
     "base_uri": "https://localhost:8080/",
     "height": 744
    },
    "executionInfo": {
     "elapsed": 12778,
     "status": "ok",
     "timestamp": 1663930069274,
     "user": {
      "displayName": "和﨑克己",
      "userId": "01531185103078206810"
     },
     "user_tz": -540
    },
    "id": "URDXVqB4SJMn",
    "outputId": "c15f8ccb-9ecf-4653-8613-19c1e071dcfd",
    "slideshow": {
     "slide_type": "slide"
    }
   },
   "outputs": [
    {
     "data": {
      "text/plain": [
       "<seaborn.axisgrid.PairGrid at 0x1460e26b0>"
      ]
     },
     "execution_count": 29,
     "metadata": {},
     "output_type": "execute_result"
    },
    {
     "data": {
      "image/png": "[encoded data removed]",
      "text/plain": [
       "<Figure size 1000x1000 with 20 Axes>"
      ]
     },
     "metadata": {},
     "output_type": "display_data"
    }
   ],
   "source": [
    "# Python, pandas, seabornでペアプロット図（散布図行列）を作成してみる\n",
    "import pandas as pd\n",
    "import seaborn as sns\n",
    "%matplotlib inline\n",
    "\n",
    "sns.pairplot(df_inter.loc[:, ['temp_ave','rain_total','wind_max','wind_peak']])\n"
   ]
  },
  {
   "cell_type": "markdown",
   "metadata": {
    "id": "vLRKHEDuUdKX",
    "slideshow": {
     "slide_type": "slide"
    }
   },
   "source": [
    "#### wind_max vs wind_peakで， wind_peakがゼロに貼り付いている点が3箇所見つかったので，このペアで更に詳細に見てみる\n",
    "\n",
    "[参考: Seaborn で散布図・回帰モデルを可視化する](\n",
    "https://pythondatascience.plavox.info/seaborn/%E6%95%A3%E5%B8%83%E5%9B%B3%E3%83%BB%E5%9B%9E%E5%B8%B0%E3%83%A2%E3%83%87%E3%83%AB)"
   ]
  },
  {
   "cell_type": "code",
   "execution_count": 30,
   "metadata": {
    "colab": {
     "base_uri": "https://localhost:8080/",
     "height": 641
    },
    "executionInfo": {
     "elapsed": 1059,
     "status": "ok",
     "timestamp": 1663930070322,
     "user": {
      "displayName": "和﨑克己",
      "userId": "01531185103078206810"
     },
     "user_tz": -540
    },
    "id": "XrYZZbMOWR4D",
    "outputId": "3a8da5bc-ea28-4a99-8ffb-38b16724b06d",
    "slideshow": {
     "slide_type": "slide"
    }
   },
   "outputs": [
    {
     "data": {
      "image/png": "[encoded data removed]",
      "text/plain": [
       "<Figure size 800x800 with 1 Axes>"
      ]
     },
     "metadata": {},
     "output_type": "display_data"
    }
   ],
   "source": [
    "## seaborn regplotで線形回帰直線と信頼区間を描画してみる．\n",
    "import warnings\n",
    "warnings.simplefilter('ignore')\n",
    "\n",
    "import numpy as np\n",
    "import seaborn as sns\n",
    "import matplotlib.pyplot as plt\n",
    "%matplotlib inline\n",
    "\n",
    "x = df_inter.loc[:, ['wind_max']] # 「最大風速」は10分間の平均風速の最大値\n",
    "y = df_inter.loc[:, ['wind_peak']] # 「最大瞬間風速」は瞬間風速の最大値\n",
    "\n",
    "sns.set_style(\"whitegrid\")\n",
    "plt.figure(figsize=(8, 8))\n",
    "\n",
    "sns.regplot(x='wind_max', y='wind_peak', data=df_inter.loc[:, ['wind_max','wind_peak']], order=1, ci=100) # seabornを使っての線形回帰＆信頼区間の描画を行う\n",
    "plt.tight_layout()\n",
    "plt.show()"
   ]
  },
  {
   "cell_type": "code",
   "execution_count": 31,
   "metadata": {
    "colab": {
     "base_uri": "https://localhost:8080/",
     "height": 515
    },
    "executionInfo": {
     "elapsed": 2633,
     "status": "ok",
     "timestamp": 1663930072947,
     "user": {
      "displayName": "和﨑克己",
      "userId": "01531185103078206810"
     },
     "user_tz": -540
    },
    "id": "eJtnOGkPcpr_",
    "outputId": "3bb2c4bd-217e-47e5-f50a-c1ca06372527",
    "slideshow": {
     "slide_type": "slide"
    }
   },
   "outputs": [
    {
     "data": {
      "text/plain": [
       "<Figure size 1600x1600 with 0 Axes>"
      ]
     },
     "metadata": {},
     "output_type": "display_data"
    },
    {
     "data": {
      "image/png": "[encoded data removed]",
      "text/plain": [
       "<Figure size 600x600 with 3 Axes>"
      ]
     },
     "metadata": {},
     "output_type": "display_data"
    }
   ],
   "source": [
    "## joinlot, hexで見てみると，度数が大きく線形性のあるクラスターが見えてきて，かつ wind_peakのヒストグラムとしてゼロ付近で飛び地になっている箇所があることがわかる\n",
    "plt.figure(figsize=(16, 16))\n",
    "\n",
    "sns.jointplot(x='wind_max', y='wind_peak', data=df_inter.loc[:, ['wind_max','wind_peak']], kind=\"hex\") \n",
    "plt.show()"
   ]
  },
  {
   "cell_type": "code",
   "execution_count": 32,
   "metadata": {
    "colab": {
     "base_uri": "https://localhost:8080/",
     "height": 300
    },
    "executionInfo": {
     "elapsed": 13,
     "status": "ok",
     "timestamp": 1663930072947,
     "user": {
      "displayName": "和﨑克己",
      "userId": "01531185103078206810"
     },
     "user_tz": -540
    },
    "id": "BRfI7geDdtj0",
    "outputId": "bf0950b3-d942-4ea0-f4ed-4391758db77d",
    "slideshow": {
     "slide_type": "slide"
    }
   },
   "outputs": [
    {
     "data": {
      "text/html": [
       "<div>\n",
       "<style scoped>\n",
       "    .dataframe tbody tr th:only-of-type {\n",
       "        vertical-align: middle;\n",
       "    }\n",
       "\n",
       "    .dataframe tbody tr th {\n",
       "        vertical-align: top;\n",
       "    }\n",
       "\n",
       "    .dataframe thead th {\n",
       "        text-align: right;\n",
       "    }\n",
       "</style>\n",
       "<table border=\"1\" class=\"dataframe\">\n",
       "  <thead>\n",
       "    <tr style=\"text-align: right;\">\n",
       "      <th></th>\n",
       "      <th>wind_max</th>\n",
       "      <th>wind_peak</th>\n",
       "    </tr>\n",
       "  </thead>\n",
       "  <tbody>\n",
       "    <tr>\n",
       "      <th>count</th>\n",
       "      <td>365.000000</td>\n",
       "      <td>365.000000</td>\n",
       "    </tr>\n",
       "    <tr>\n",
       "      <th>mean</th>\n",
       "      <td>6.484384</td>\n",
       "      <td>10.248767</td>\n",
       "    </tr>\n",
       "    <tr>\n",
       "      <th>std</th>\n",
       "      <td>1.907404</td>\n",
       "      <td>3.196122</td>\n",
       "    </tr>\n",
       "    <tr>\n",
       "      <th>min</th>\n",
       "      <td>2.000000</td>\n",
       "      <td>0.000000</td>\n",
       "    </tr>\n",
       "    <tr>\n",
       "      <th>25%</th>\n",
       "      <td>5.300000</td>\n",
       "      <td>8.300000</td>\n",
       "    </tr>\n",
       "    <tr>\n",
       "      <th>50%</th>\n",
       "      <td>6.500000</td>\n",
       "      <td>10.500000</td>\n",
       "    </tr>\n",
       "    <tr>\n",
       "      <th>75%</th>\n",
       "      <td>7.800000</td>\n",
       "      <td>12.400000</td>\n",
       "    </tr>\n",
       "    <tr>\n",
       "      <th>max</th>\n",
       "      <td>12.500000</td>\n",
       "      <td>19.400000</td>\n",
       "    </tr>\n",
       "  </tbody>\n",
       "</table>\n",
       "</div>"
      ],
      "text/plain": [
       "         wind_max   wind_peak\n",
       "count  365.000000  365.000000\n",
       "mean     6.484384   10.248767\n",
       "std      1.907404    3.196122\n",
       "min      2.000000    0.000000\n",
       "25%      5.300000    8.300000\n",
       "50%      6.500000   10.500000\n",
       "75%      7.800000   12.400000\n",
       "max     12.500000   19.400000"
      ]
     },
     "execution_count": 32,
     "metadata": {},
     "output_type": "execute_result"
    }
   ],
   "source": [
    "## 確証を得るために，wind_max と wind_peakの記述統計量を比較する（両方とも風速なので自然ならば同じ傾向を示すはず）\n",
    "df_inter[['wind_max','wind_peak']].describe()"
   ]
  },
  {
   "cell_type": "markdown",
   "metadata": {
    "id": "dhvIIdOlZviB",
    "slideshow": {
     "slide_type": "slide"
    }
   },
   "source": [
    "ここまでで明らかになったことは，\n",
    "\n",
    "* 'temp_ave','rain_total','wind_max','wind_peak' の4つの説明変数の組み合わせのうち，'wind_max','wind_peak'は線形性の関係にある（両方とも風速であるので）\n",
    "* seaborn.regplot の図から読み取ると， wind_peak = wind_max * 1.56 ぐらいと見える（原点を通ると仮定している）\n",
    "* 'wind_max','wind_peak' の線形回帰直線からのばらつきは，ガウス分布であると仮定してよい．\n",
    "* wind_peakの記述統計量として， 最小値がゼロというのは異常と思われる（wind_maxの最小値が2.0にも関わらず，瞬間最大風速がゼロとは，どういうことなのか？？）"
   ]
  },
  {
   "cell_type": "markdown",
   "metadata": {
    "id": "PV3IV6Z_fCFe",
    "slideshow": {
     "slide_type": "slide"
    }
   },
   "source": [
    "#### 分位数を指定した，外れ値の除去を行う（df.quantile）\n",
    "\n",
    "今回は365日中で，3点異常に小さい値が見つかるということから，分位数0.8％の値を取得して，外れ値を除去していく．"
   ]
  },
  {
   "cell_type": "code",
   "execution_count": 33,
   "metadata": {
    "colab": {
     "base_uri": "https://localhost:8080/",
     "height": 260
    },
    "executionInfo": {
     "elapsed": 12,
     "status": "ok",
     "timestamp": 1663930072948,
     "user": {
      "displayName": "和﨑克己",
      "userId": "01531185103078206810"
     },
     "user_tz": -540
    },
    "id": "VVc6PxUEe80B",
    "outputId": "fb1db476-0693-4fa2-8dc0-90f639444c2b",
    "slideshow": {
     "slide_type": "slide"
    }
   },
   "outputs": [
    {
     "name": "stdout",
     "output_type": "stream",
     "text": [
      "3.0095999999999994\n"
     ]
    },
    {
     "data": {
      "text/html": [
       "<div>\n",
       "<style scoped>\n",
       "    .dataframe tbody tr th:only-of-type {\n",
       "        vertical-align: middle;\n",
       "    }\n",
       "\n",
       "    .dataframe tbody tr th {\n",
       "        vertical-align: top;\n",
       "    }\n",
       "\n",
       "    .dataframe thead th {\n",
       "        text-align: right;\n",
       "    }\n",
       "</style>\n",
       "<table border=\"1\" class=\"dataframe\">\n",
       "  <thead>\n",
       "    <tr style=\"text-align: right;\">\n",
       "      <th></th>\n",
       "      <th>date</th>\n",
       "      <th>temp_ave</th>\n",
       "      <th>temp_high</th>\n",
       "      <th>temp_low</th>\n",
       "      <th>rain_total</th>\n",
       "      <th>sun_shine</th>\n",
       "      <th>wind_ave</th>\n",
       "      <th>wind_max</th>\n",
       "      <th>wind_dir</th>\n",
       "      <th>wind_peak</th>\n",
       "      <th>wind_dir2</th>\n",
       "      <th>wind_dir16</th>\n",
       "      <th>humid_ave</th>\n",
       "      <th>humid_max</th>\n",
       "      <th>humid_ave2</th>\n",
       "      <th>forecast_day</th>\n",
       "      <th>forecast_night</th>\n",
       "    </tr>\n",
       "  </thead>\n",
       "  <tbody>\n",
       "    <tr>\n",
       "      <th>120</th>\n",
       "      <td>2021/5/1</td>\n",
       "      <td>11.8</td>\n",
       "      <td>22.5</td>\n",
       "      <td>4.9</td>\n",
       "      <td>14.5</td>\n",
       "      <td>3.6</td>\n",
       "      <td>2.4</td>\n",
       "      <td>7.2</td>\n",
       "      <td>南南西</td>\n",
       "      <td>0.0</td>\n",
       "      <td>南南西</td>\n",
       "      <td>南西</td>\n",
       "      <td>10.4</td>\n",
       "      <td>34</td>\n",
       "      <td>78</td>\n",
       "      <td>曇時々雨一時晴、雷を伴う</td>\n",
       "      <td>雨時々曇一時晴</td>\n",
       "    </tr>\n",
       "    <tr>\n",
       "      <th>121</th>\n",
       "      <td>2021/5/2</td>\n",
       "      <td>10.6</td>\n",
       "      <td>17.3</td>\n",
       "      <td>5.0</td>\n",
       "      <td>1.0</td>\n",
       "      <td>6.0</td>\n",
       "      <td>3.7</td>\n",
       "      <td>9.5</td>\n",
       "      <td>北</td>\n",
       "      <td>0.0</td>\n",
       "      <td>北</td>\n",
       "      <td>西</td>\n",
       "      <td>9.1</td>\n",
       "      <td>39</td>\n",
       "      <td>73</td>\n",
       "      <td>晴後曇時々雨</td>\n",
       "      <td>曇一時雨後晴</td>\n",
       "    </tr>\n",
       "    <tr>\n",
       "      <th>122</th>\n",
       "      <td>2021/5/3</td>\n",
       "      <td>9.8</td>\n",
       "      <td>17.7</td>\n",
       "      <td>3.2</td>\n",
       "      <td>0.0</td>\n",
       "      <td>7.8</td>\n",
       "      <td>2.1</td>\n",
       "      <td>12.5</td>\n",
       "      <td>西</td>\n",
       "      <td>0.0</td>\n",
       "      <td>西北西</td>\n",
       "      <td>西</td>\n",
       "      <td>7.2</td>\n",
       "      <td>22</td>\n",
       "      <td>63</td>\n",
       "      <td>晴時々雨一時曇</td>\n",
       "      <td>晴時々曇</td>\n",
       "    </tr>\n",
       "  </tbody>\n",
       "</table>\n",
       "</div>"
      ],
      "text/plain": [
       "         date  temp_ave  temp_high  temp_low  rain_total  sun_shine  wind_ave  \\\n",
       "120  2021/5/1      11.8       22.5       4.9        14.5        3.6       2.4   \n",
       "121  2021/5/2      10.6       17.3       5.0         1.0        6.0       3.7   \n",
       "122  2021/5/3       9.8       17.7       3.2         0.0        7.8       2.1   \n",
       "\n",
       "     wind_max wind_dir  wind_peak wind_dir2 wind_dir16  humid_ave  humid_max  \\\n",
       "120       7.2      南南西        0.0       南南西         南西       10.4         34   \n",
       "121       9.5        北        0.0         北          西        9.1         39   \n",
       "122      12.5        西        0.0       西北西          西        7.2         22   \n",
       "\n",
       "     humid_ave2  forecast_day forecast_night  \n",
       "120          78  曇時々雨一時晴、雷を伴う        雨時々曇一時晴  \n",
       "121          73        晴後曇時々雨         曇一時雨後晴  \n",
       "122          63       晴時々雨一時曇           晴時々曇  "
      ]
     },
     "execution_count": 33,
     "metadata": {},
     "output_type": "execute_result"
    }
   ],
   "source": [
    "# 分位数を指定する—df.quantile()\n",
    "q = df_inter['wind_peak'].quantile(0.008)\n",
    "print(q)\n",
    "\n",
    "df_inter_quan = df_inter.query('wind_peak < @q') # queryを使って，外れ値となっているレコードを確認する\n",
    "df_inter_quan\n",
    "## 確かに， wind_peak が 0.0 であって異常な値が入っているレコード（2021/5/1, 2, 3の3日間）が検出できた．"
   ]
  },
  {
   "cell_type": "code",
   "execution_count": 34,
   "metadata": {
    "executionInfo": {
     "elapsed": 6,
     "status": "ok",
     "timestamp": 1663930072948,
     "user": {
      "displayName": "和﨑克己",
      "userId": "01531185103078206810"
     },
     "user_tz": -540
    },
    "id": "v80mWOyllYoM",
    "slideshow": {
     "slide_type": "slide"
    }
   },
   "outputs": [],
   "source": [
    "# 外れ値となっているレコード3つを取り除いたデータセット（欠損値，異常値は無いので，各種分析に使える状態となった）\n",
    "df_cleansed = df_inter.query('wind_peak >= @q') # queryを使って，外れ値となっているレコード3つを取り除いたデータ\n",
    "#df_cleansed"
   ]
  },
  {
   "cell_type": "markdown",
   "metadata": {
    "id": "y0rN8_fEmDL9",
    "slideshow": {
     "slide_type": "slide"
    }
   },
   "source": [
    "### 4.3 scikit-learn を用いた線形回帰の実行例: 単回帰分析"
   ]
  },
  {
   "cell_type": "code",
   "execution_count": 35,
   "metadata": {
    "colab": {
     "base_uri": "https://localhost:8080/"
    },
    "executionInfo": {
     "elapsed": 525,
     "status": "ok",
     "timestamp": 1663930073467,
     "user": {
      "displayName": "和﨑克己",
      "userId": "01531185103078206810"
     },
     "user_tz": -540
    },
    "id": "MaAnBADCmi_C",
    "outputId": "361def59-543e-4d04-c0c8-c7f8e903fa8f",
    "slideshow": {
     "slide_type": "slide"
    }
   },
   "outputs": [
    {
     "name": "stdout",
     "output_type": "stream",
     "text": [
      "1.5599976694562885\n",
      "0.26008134773198677\n"
     ]
    }
   ],
   "source": [
    "# sklearn.linear_model.LinearRegression クラスを読み込み\n",
    "from sklearn import linear_model\n",
    "clf = linear_model.LinearRegression() # 線形回帰モデラー（教師無し学習）を作る\n",
    "\n",
    "X = df_cleansed.loc[:, ['wind_max']] # 説明変数に \"wind_max (最大風速)\" を利用\n",
    "Y = df_cleansed.loc[:, ['wind_peak']] # 目的変数に \"wind_peak\" を利用\n",
    "clf.fit(X, Y) # 線形予測モデルを作成\n",
    "\n",
    "coef = float(clf.coef_); print(coef) # 回帰係数の表示\n",
    "intercept = float(clf.intercept_); print(intercept) # 切片 (誤差) の表示\n",
    "##print(clf.score(X, Y)) # 決定係数の表示\n",
    "\n",
    "# 線形回帰直線による予測関数の定義\n",
    "def wind_peak_regression(wm):\n",
    "    return float(coef * wm + intercept)"
   ]
  },
  {
   "cell_type": "markdown",
   "metadata": {
    "id": "VIltgso9ojMX",
    "slideshow": {
     "slide_type": "slide"
    }
   },
   "source": [
    "これにより， 予測値[window_peak] = 1.55999767 x [window_max] + 0.26008135 である回帰式が求められた． \n",
    "\n",
    "原点を通らず +0.26だけオフセットがあるのは，風速計の原理，機材の性質の関係かもしれない．他県のデータも取り寄せて比較するのも良いかもしれない．"
   ]
  },
  {
   "cell_type": "markdown",
   "metadata": {
    "id": "ZokO2lD8k7p8",
    "slideshow": {
     "slide_type": "slide"
    }
   },
   "source": [
    "wind_peak に異常値が入っているレコード（2021/5/1, 2, 3の3日間）については，上でもとめた線形回帰式を使って，数値補完する方法が考えられる．\n",
    "\n",
    "【異常値修正の実装まとめ】 \n",
    "1. df_inter DataFrameの各レコードのwind_peak値が 分位数0.8％の値（約3.009)を下回っているならば異常値と判断する．\n",
    "2. この異常値を含むレコードを除去したクレンジング済の df_cleansed DataFrame に対して線形回帰予測を行う（説明変数 wind_max, 目的変数 wind_peak）．\n",
    "3. 求めた回帰係数 coefと切片interceptを用いて，wind_max値からその日のwind_peakの予測値を線形回帰式で使って計算し，異常値であったフィールド値を書き換える．"
   ]
  },
  {
   "cell_type": "code",
   "execution_count": 36,
   "metadata": {
    "executionInfo": {
     "elapsed": 9,
     "status": "ok",
     "timestamp": 1663930073467,
     "user": {
      "displayName": "和﨑克己",
      "userId": "01531185103078206810"
     },
     "user_tz": -540
    },
    "id": "yBUADjQXw8h8",
    "slideshow": {
     "slide_type": "slide"
    }
   },
   "outputs": [],
   "source": [
    "# pandas where関数を使って，cond論理式(第1引数)の結果がFalseのときに行う置換処理を第2引数に指定する．\n",
    "# 注意：今回は異常値を上書きする形の処理にしている（inplace=True 第3引数）\n",
    "df_inter['wind_peak'].where(df_inter['wind_peak'] >= q, coef * df_inter['wind_max'] + intercept, inplace=True)\n",
    "\n",
    "# wind_peak が異常値であったレコード（2021/5/1, 2, 3の3日間） index 120,121,122 の window_peak が予測値に書き換わっていることを確認せよ．\n",
    "##df_inter"
   ]
  },
  {
   "cell_type": "code",
   "execution_count": 37,
   "metadata": {
    "executionInfo": {
     "elapsed": 390,
     "status": "ok",
     "timestamp": 1663930514046,
     "user": {
      "displayName": "和﨑克己",
      "userId": "01531185103078206810"
     },
     "user_tz": -540
    },
    "id": "iihIUMUf-yGm",
    "slideshow": {
     "slide_type": "slide"
    }
   },
   "outputs": [],
   "source": [
    "# 修正が終わったDataFrameを CSVファイルに書き出し\n",
    "df_inter.to_csv('JMA_Nagano_2021_fixed.csv')"
   ]
  },
  {
   "cell_type": "markdown",
   "metadata": {
    "id": "Q_NplTG9RQEw",
    "slideshow": {
     "slide_type": "slide"
    }
   },
   "source": [
    "### （参考） 教師なし学習(決定木)を用いた外れ値の自動検知 IsolationForest\n",
    "\n",
    "[参考:CUBE SUGAR CONTAINER | 教師なし学習で外れ値の検知に使える IsolationForest というアルゴリズムを試してみる](https://blog.amedama.jp/entry/2019/04/20/124220)\n",
    "\n",
    "> このアルゴリズムの興味深いところは、教師データの中にある程度外れ値が含まれていても構わないという点。 つまり、アノテーションしていないデータをそのまま突っ込むことが許容されている。<br>\n",
    "> IsolationForest のアルゴリズムでは、決定木を使った分類しやすさにもとづいてデータが正常か外れ値かを判断する。 外れ値は正常なデータに比べると数が少なく、特徴が大きく異なると仮定する。 だとすると、外れ値は正常なデータに比べて分類するのに木の深さがより多く必要と考える。\n"
   ]
  },
  {
   "cell_type": "markdown",
   "metadata": {
    "id": "ccBtMM1wfckg",
    "slideshow": {
     "slide_type": "slide"
    }
   },
   "source": [
    "## (オプション) Excel Power Query によるデータ加工・分析[1]"
   ]
  },
  {
   "cell_type": "markdown",
   "metadata": {
    "id": "ssPHiPFWhPxc",
    "slideshow": {
     "slide_type": "slide"
    }
   },
   "source": [
    "<figure>\n",
    "<a href=\"http://www.mi.u-tokyo.ac.jp/pdf/2-5_data_processing.pdf#page=5\"><img src='https://raw.githubusercontent.com/MDASH-shinshu/MDASH-T-DE/main/5/UTAI-text/JPEG/2-5_data_processing_05.jpg' alt='Excel Power Query' width='640' border='1'></a>\n",
    "</figure>"
   ]
  },
  {
   "cell_type": "markdown",
   "metadata": {
    "id": "vmzIXKa0hebz",
    "slideshow": {
     "slide_type": "slide"
    }
   },
   "source": [
    "<figure>\n",
    "<a href=\"http://www.mi.u-tokyo.ac.jp/pdf/2-5_data_processing.pdf#page=6\"><img src='https://raw.githubusercontent.com/MDASH-shinshu/MDASH-T-DE/main/5/UTAI-text/JPEG/2-5_data_processing_06.jpg' alt='Excel Power Query' width='640' border='1'></a>\n",
    "</figure>"
   ]
  },
  {
   "cell_type": "markdown",
   "metadata": {
    "id": "LawbZr4AhiFO",
    "slideshow": {
     "slide_type": "slide"
    }
   },
   "source": [
    "<figure>\n",
    "<a href=\"http://www.mi.u-tokyo.ac.jp/pdf/2-5_data_processing.pdf#page=7\"><img src='https://raw.githubusercontent.com/MDASH-shinshu/MDASH-T-DE/main/5/UTAI-text/JPEG/2-5_data_processing_07.jpg' alt='Excel Power Query' width='640' border='1'></a>\n",
    "</figure>"
   ]
  },
  {
   "cell_type": "markdown",
   "metadata": {
    "id": "6cuOhy6-hlEe",
    "slideshow": {
     "slide_type": "slide"
    }
   },
   "source": [
    "<figure>\n",
    "<a href=\"http://www.mi.u-tokyo.ac.jp/pdf/2-5_data_processing.pdf#page=8\"><img src='https://raw.githubusercontent.com/MDASH-shinshu/MDASH-T-DE/main/5/UTAI-text/JPEG/2-5_data_processing_08.jpg' alt='Excel Power Query' width='640' border='1'></a>\n",
    "</figure>"
   ]
  },
  {
   "cell_type": "markdown",
   "metadata": {
    "id": "l_ka_Jt_hodH",
    "slideshow": {
     "slide_type": "slide"
    }
   },
   "source": [
    "<figure>\n",
    "<a href=\"http://www.mi.u-tokyo.ac.jp/pdf/2-5_data_processing.pdf#page=9\"><img src='https://raw.githubusercontent.com/MDASH-shinshu/MDASH-T-DE/main/5/UTAI-text/JPEG/2-5_data_processing_09.jpg' alt='Excel Power Query' width='640' border='1'></a>\n",
    "</figure>"
   ]
  },
  {
   "cell_type": "markdown",
   "metadata": {
    "id": "aEFokhnThsju",
    "slideshow": {
     "slide_type": "slide"
    }
   },
   "source": [
    "<figure>\n",
    "<a href=\"http://www.mi.u-tokyo.ac.jp/pdf/2-5_data_processing.pdf#page=10\"><img src='https://raw.githubusercontent.com/MDASH-shinshu/MDASH-T-DE/main/5/UTAI-text/JPEG/2-5_data_processing_10.jpg' alt='Excel Power Query' width='640' border='1'></a>\n",
    "</figure>"
   ]
  },
  {
   "cell_type": "markdown",
   "metadata": {
    "id": "YmYIHSbOhv1b",
    "slideshow": {
     "slide_type": "slide"
    }
   },
   "source": [
    "<figure>\n",
    "<a href=\"http://www.mi.u-tokyo.ac.jp/pdf/2-5_data_processing.pdf#page=11\"><img src='https://raw.githubusercontent.com/MDASH-shinshu/MDASH-T-DE/main/5/UTAI-text/JPEG/2-5_data_processing_11.jpg' alt='Excel Power Query' width='640' border='1'></a>\n",
    "</figure>"
   ]
  },
  {
   "cell_type": "markdown",
   "metadata": {
    "id": "3JVpr_c_h0Xf",
    "slideshow": {
     "slide_type": "slide"
    }
   },
   "source": [
    "<figure>\n",
    "<a href=\"http://www.mi.u-tokyo.ac.jp/pdf/2-5_data_processing.pdf#page=12\"><img src='https://raw.githubusercontent.com/MDASH-shinshu/MDASH-T-DE/main/5/UTAI-text/JPEG/2-5_data_processing_12.jpg' alt='Excel Power Query' width='640' border='1'></a>\n",
    "</figure>"
   ]
  },
  {
   "cell_type": "markdown",
   "metadata": {
    "id": "TvunRp5GmvUg",
    "slideshow": {
     "slide_type": "slide"
    }
   },
   "source": [
    "## (参考) ビッグデータ処理ツール"
   ]
  },
  {
   "cell_type": "markdown",
   "metadata": {
    "id": "NodTEx-7mzEt",
    "slideshow": {
     "slide_type": "slide"
    }
   },
   "source": [
    "<figure>\n",
    "<a href=\"http://www.mi.u-tokyo.ac.jp/pdf/2-5_data_processing.pdf#page=22\"><img src='https://raw.githubusercontent.com/MDASH-shinshu/MDASH-T-DE/main/5/UTAI-text/JPEG/2-5_data_processing_22.jpg' alt='データ加工とは' width='640' border='1'></a>\n",
    "</figure>\n",
    "\n",
    "* [Apache Spark](https://spark.apache.org/)\n",
    "* [Apache Hadoop](https://hadoop.apache.org/)\n",
    "* [HillView](https://github.com/vmware/hillview)\n"
   ]
  },
  {
   "cell_type": "markdown",
   "metadata": {
    "id": "DHQkZ7WJJOXd",
    "slideshow": {
     "slide_type": "slide"
    }
   },
   "source": [
    "# memo"
   ]
  }
 ],
 "metadata": {
  "celltoolbar": "Slideshow",
  "colab": {
   "collapsed_sections": [
    "ccBtMM1wfckg",
    "TvunRp5GmvUg"
   ],
   "provenance": []
  },
  "kernelspec": {
   "display_name": "Python 3 (ipykernel)",
   "language": "python",
   "name": "python3"
  },
  "language_info": {
   "codemirror_mode": {
    "name": "ipython",
    "version": 3
   },
   "file_extension": ".py",
   "mimetype": "text/x-python",
   "name": "python",
   "nbconvert_exporter": "python",
   "pygments_lexer": "ipython3",
   "version": "3.10.6"
  }
 },
 "nbformat": 4,
 "nbformat_minor": 1
}
