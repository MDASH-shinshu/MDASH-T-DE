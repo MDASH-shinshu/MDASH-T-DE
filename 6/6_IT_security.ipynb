{
 "cells": [
  {
   "cell_type": "markdown",
   "metadata": {
    "id": "u5-sJJLDXT2v",
    "slideshow": {
     "slide_type": "slide"
    }
   },
   "source": [
    "# 情報セキュリティ\n",
    "\n",
    "《学修項目》\n",
    "* ◎セキュリティの3要素（機密性、可用性、完全性）\n",
    "* ◎データの暗号化、復号化\n",
    "* データの盗聴、改ざん、なりすまし\n",
    "* 電⼦署名、公開鍵認証基盤（PKI）\n",
    "* ユーザ認証とアクセス管理\n",
    "* マルウェアによるリスク（データの消失・漏洩、サービスの停⽌など）\n",
    "\n",
    "《キーワード》\n",
    "> 情報セキュリティの3要素/7要素, 機密性, 可用性, 完全性, 機密性の高い情報, マルウェア, 情報の格付け, 秘密鍵暗号方式, 公開鍵暗号方式, 電子署名手順, PKI（公開鍵認証基盤）, セキュリティホールと脆弱性, ゼロデイ攻撃, 標的型攻撃, 2要素認証方式\n"
   ]
  },
  {
   "cell_type": "markdown",
   "metadata": {
    "id": "xngFmphdjt1j",
    "slideshow": {
     "slide_type": "slide"
    }
   },
   "source": [
    "《参考文献，参考書籍》\n",
    "*   [1] [東京大学MIセンター公開教材 「2-6 情報セキュリティ」](http://www.mi.u-tokyo.ac.jp/pdf/2-6_IT_security.pdf) [《利用条件CC BY-NC-SA》](https://creativecommons.org/licenses/by-nc-sa/4.0/deed.ja)\n",
    "*   [2] [マスタリングTCP/IP 情報セキュリティ編 (第2版)（オーム社）](https://www.ohmsha.co.jp/book/9784274228797/)\n",
    "*   [3] [データサイエンスの考え方 社会に役立つAI×データ活用のために（オーム社）](https://www.ohmsha.co.jp/book/9784274227974/)\n",
    "*   [4] [数理・データサイエンス・AI公開講座（放送大学）](https://www.ouj.ac.jp/booklet/2022/29_2022_MDS-AI.pdf)"
   ]
  },
  {
   "cell_type": "markdown",
   "metadata": {
    "id": "uEDbHMvA1vwi",
    "slideshow": {
     "slide_type": "slide"
    }
   },
   "source": [
    "## 1. 情報セキュリティとは"
   ]
  },
  {
   "cell_type": "markdown",
   "metadata": {
    "id": "64ojeM2oeV-K",
    "slideshow": {
     "slide_type": "slide"
    }
   },
   "source": [
    "あらまし\n",
    "* 情報セキュリティはなぜ必要か\n",
    "* 情報セキュリティの3要素/7要素\n",
    "* 機密性の高い情報\n",
    "* 情報セキュリティが損なわれた例\n",
    "* マルウェア（malware）によるリスク\n",
    "* 情報の格付け"
   ]
  },
  {
   "cell_type": "markdown",
   "metadata": {
    "id": "APc4tAjz11Ad",
    "slideshow": {
     "slide_type": "slide"
    }
   },
   "source": [
    "### 1.1 情報セキュリティとは，リスク管理とは"
   ]
  },
  {
   "cell_type": "markdown",
   "metadata": {
    "id": "CI_xIEenPyUg",
    "slideshow": {
     "slide_type": "slide"
    }
   },
   "source": [
    "#### 1.1.1 情報セキュリティはなぜ必要か\n",
    "\n",
    "脅威（加害者の意図）による故意\n",
    "* 金銭目的，政治目的，好奇心\n",
    "\n",
    "過失によるもの\n",
    "* 操作ミス，設定ミス，更新忘れ，故障\n",
    "\n",
    "対策（危機管理）が必要\n",
    "* 情報セキュリティ（ITセキュリティ）が必要\n"
   ]
  },
  {
   "cell_type": "markdown",
   "metadata": {
    "id": "m2-ein_i8gGf",
    "slideshow": {
     "slide_type": "slide"
    }
   },
   "source": [
    "<figure>\n",
    "<a href=\"http://www.mi.u-tokyo.ac.jp/pdf/2-6_IT_security.pdf#page=5\"><img src='https://raw.githubusercontent.com/MDASH-shinshu/MDASH-T-DE/main/6/UTAI-text/JPEG/2-6_IT_security_05.jpg' alt='セキュリティとは' width='640' border='1'></a>\n",
    "</figure>"
   ]
  },
  {
   "cell_type": "markdown",
   "metadata": {
    "id": "wvjdeUJRPZZR",
    "slideshow": {
     "slide_type": "slide"
    }
   },
   "source": [
    "<figure>\n",
    "<a href=\"http://www.mi.u-tokyo.ac.jp/pdf/2-6_IT_security.pdf#page=6\"><img src='https://raw.githubusercontent.com/MDASH-shinshu/MDASH-T-DE/main/6/UTAI-text/JPEG/2-6_IT_security_06.jpg' alt='情報とは' width='640' border='1'></a>\n",
    "</figure>"
   ]
  },
  {
   "cell_type": "markdown",
   "metadata": {
    "id": "GWSJRNHJQFNY",
    "slideshow": {
     "slide_type": "slide"
    }
   },
   "source": [
    "#### 1.1.2 セキュリティリスクとその対応"
   ]
  },
  {
   "cell_type": "markdown",
   "metadata": {
    "id": "W9oUrBIIPkjg",
    "slideshow": {
     "slide_type": "slide"
    }
   },
   "source": [
    "<figure>\n",
    "<a href=\"http://www.mi.u-tokyo.ac.jp/pdf/2-6_IT_security.pdf#page=16\"><img src='https://raw.githubusercontent.com/MDASH-shinshu/MDASH-T-DE/main/6/UTAI-text/JPEG/2-6_IT_security_16.jpg' alt='情報セキュリティリスク' width='640' border='1'></a>\n",
    "</figure>"
   ]
  },
  {
   "cell_type": "markdown",
   "metadata": {
    "id": "xHJJa-gUPraJ",
    "slideshow": {
     "slide_type": "slide"
    }
   },
   "source": [
    "<figure>\n",
    "<a href=\"http://www.mi.u-tokyo.ac.jp/pdf/2-6_IT_security.pdf#page=17\"><img src='https://raw.githubusercontent.com/MDASH-shinshu/MDASH-T-DE/main/6/UTAI-text/JPEG/2-6_IT_security_17.jpg' alt='情報セキュリティリスク' width='640' border='1'></a>\n",
    "</figure>"
   ]
  },
  {
   "cell_type": "markdown",
   "metadata": {
    "id": "jMD94DnJPuTh",
    "slideshow": {
     "slide_type": "slide"
    }
   },
   "source": [
    "### 1.2 情報セキュリティの3要素/7要素"
   ]
  },
  {
   "cell_type": "markdown",
   "metadata": {
    "id": "1YLdN0xQQWwo",
    "slideshow": {
     "slide_type": "slide"
    }
   },
   "source": [
    "情報セキュリティの3要素\n",
    "\n",
    "1. 機密性：権限が無い他者に見られないこと\n",
    "2. 完全性：情報が破壊されていないこと\n",
    "3. 可用性：必要なときに情報を利用できること\n",
    "\n",
    "情報セキュリティの7要素\n",
    "\n",
    "3要素（機密性，完全性，可用性）に加えられた4つの新たな概念\n",
    "\n",
    "4. 真正性：アクセスする人や団体が許可を得ている（機密性の一部が独立している）\n",
    "5. 責任追跡性：アクセスする人や団体の操作を追跡できる\n",
    "6. 否認防止：あとから覆されない\n",
    "7. 信頼性：システムが正しく動作する\n"
   ]
  },
  {
   "cell_type": "markdown",
   "metadata": {
    "id": "H0HVjflSRkgq",
    "slideshow": {
     "slide_type": "slide"
    }
   },
   "source": [
    "#### 1.2.1 機密性"
   ]
  },
  {
   "cell_type": "markdown",
   "metadata": {
    "id": "tQb89TIhQ2ym",
    "slideshow": {
     "slide_type": "slide"
    }
   },
   "source": [
    "<figure>\n",
    "<a href=\"http://www.mi.u-tokyo.ac.jp/pdf/2-6_IT_security.pdf#page=8\"><img src='https://raw.githubusercontent.com/MDASH-shinshu/MDASH-T-DE/main/6/UTAI-text/JPEG/2-6_IT_security_08.jpg' alt='機密性' width='640' border='1'></a>\n",
    "</figure>"
   ]
  },
  {
   "cell_type": "markdown",
   "metadata": {
    "id": "trHNDhGSQ-hs",
    "slideshow": {
     "slide_type": "slide"
    }
   },
   "source": [
    "情報セキュリティの3要素【機密性】\n",
    "\n",
    "機密性：権限が無い他者に見られないこと\n",
    "\n",
    "* 権限とは ⇒ 認証のところで説明する\n",
    "* 機密性が必要な情報の例\n",
    "    * 個人情報\n",
    "    * 住所，メールアドレス\n",
    "    * パスワード\n",
    "    * クレジットカード番号\n",
    "    * 成績情報\n",
    "    * 検診結果（健康）\n",
    "* 機密性が高い情報の例（個人情報 JIS Q15001に規定されている）\n",
    "\n",
    "[参考:JQA 一般財団法人日本品質保証機構 | JIS Q 15001（個人情報保護）](https://www.jqa.jp/service_list/management/service/jisq15001/)\n"
   ]
  },
  {
   "cell_type": "markdown",
   "metadata": {
    "id": "bRdWWrWBRXQ1",
    "slideshow": {
     "slide_type": "slide"
    }
   },
   "source": [
    "機密性の高い情報\n",
    "* 適切にアクセス権を設定し確認する\n",
    "* やりとりには暗号化を行う\n",
    "* 暗号鍵の扱いは厳密にする\n",
    "* 通信相手やメディアの正当性を確認する（電子署名（後述）などを利用する）"
   ]
  },
  {
   "cell_type": "markdown",
   "metadata": {
    "id": "Tef7SUptRg2V",
    "slideshow": {
     "slide_type": "slide"
    }
   },
   "source": [
    "#### 1.2.2 完全性"
   ]
  },
  {
   "cell_type": "markdown",
   "metadata": {
    "id": "NfLeBDSwR1Jt",
    "slideshow": {
     "slide_type": "slide"
    }
   },
   "source": [
    "<figure>\n",
    "<a href=\"http://www.mi.u-tokyo.ac.jp/pdf/2-6_IT_security.pdf#page=9\"><img src='https://raw.githubusercontent.com/MDASH-shinshu/MDASH-T-DE/main/6/UTAI-text/JPEG/2-6_IT_security_09.jpg' alt='完全性' width='640' border='1'></a>\n",
    "</figure>"
   ]
  },
  {
   "cell_type": "markdown",
   "metadata": {
    "id": "At9Jv9iaSA-3",
    "slideshow": {
     "slide_type": "slide"
    }
   },
   "source": [
    "情報セキュリティの3要素【完全性】\n",
    "\n",
    "完全性：情報が破壊されていないこと（データが壊れないようにする）\n",
    "\n",
    "* 機密性だけを重要視するなら，データは全て破壊しておけば良い\n",
    "* 実際にはそのような状況にはならない\n",
    "* ランサムウェア（後述）対策の重要性"
   ]
  },
  {
   "cell_type": "markdown",
   "metadata": {
    "id": "ez5ot7FkSCGT",
    "slideshow": {
     "slide_type": "slide"
    }
   },
   "source": [
    "#### 1.2.3 可用性"
   ]
  },
  {
   "cell_type": "markdown",
   "metadata": {
    "id": "NnUSmEPxSIIA",
    "slideshow": {
     "slide_type": "slide"
    }
   },
   "source": [
    "<figure>\n",
    "<a href=\"http://www.mi.u-tokyo.ac.jp/pdf/2-6_IT_security.pdf#page=10\"><img src='https://raw.githubusercontent.com/MDASH-shinshu/MDASH-T-DE/main/6/UTAI-text/JPEG/2-6_IT_security_10.jpg' alt='可用性' width='640' border='1'></a>\n",
    "</figure>"
   ]
  },
  {
   "cell_type": "markdown",
   "metadata": {
    "id": "9MyWDu3sYxmA",
    "slideshow": {
     "slide_type": "slide"
    }
   },
   "source": [
    "<figure>\n",
    "<a href=\"http://www.mi.u-tokyo.ac.jp/pdf/2-6_IT_security.pdf#page=31\"><img src='https://raw.githubusercontent.com/MDASH-shinshu/MDASH-T-DE/main/6/UTAI-text/JPEG/2-6_IT_security_31.jpg' alt='バックアップと冗長化' width='640' border='1'></a>\n",
    "</figure>"
   ]
  },
  {
   "cell_type": "markdown",
   "metadata": {
    "id": "ZNcV36RSSNVs",
    "slideshow": {
     "slide_type": "slide"
    }
   },
   "source": [
    "情報セキュリティの3要素【可用性】\n",
    "\n",
    "可用性：必要なときに情報を利用できること\n",
    "\n",
    "* システムが正しく動いている\n",
    "* バックアップがあって 取り出せる状態にある\n",
    "* 遅滞なく利用できる"
   ]
  },
  {
   "cell_type": "markdown",
   "metadata": {
    "id": "ngrnSGAiSQ64",
    "slideshow": {
     "slide_type": "slide"
    }
   },
   "source": [
    "#### 1.2.4 真正性"
   ]
  },
  {
   "cell_type": "markdown",
   "metadata": {
    "id": "eUxQ7XY0SYd5",
    "slideshow": {
     "slide_type": "slide"
    }
   },
   "source": [
    "<figure>\n",
    "<a href=\"http://www.mi.u-tokyo.ac.jp/pdf/2-6_IT_security.pdf#page=11\"><img src='https://raw.githubusercontent.com/MDASH-shinshu/MDASH-T-DE/main/6/UTAI-text/JPEG/2-6_IT_security_11.jpg' alt='真正性' width='640' border='1'></a>\n",
    "</figure>"
   ]
  },
  {
   "cell_type": "markdown",
   "metadata": {
    "id": "EKmltiXGSfBo",
    "slideshow": {
     "slide_type": "slide"
    }
   },
   "source": [
    "マルウェア（malware）によるリスク\n",
    "\n",
    "malware (malicious software)\n",
    "* コンピュータウィルス\n",
    "* ワーム\n",
    "* スパイウェア，キーロガー\n",
    "* アドウェア\n",
    "* ランサムウェア\n",
    "\n",
    "情報セキュリティの3要素を全て破壊していく脅威である\n"
   ]
  },
  {
   "cell_type": "markdown",
   "metadata": {
    "id": "2X6xmGmMSjEQ",
    "slideshow": {
     "slide_type": "slide"
    }
   },
   "source": [
    "例：ランサムウェア\n",
    "\n",
    "ランサム=人質 という意味\n",
    "\n",
    "* 利用者のPCなどのデータを勝手に暗号化し，復号鍵と引き換えに身代金を（ビットコインなどで）要求する ⇒ 完全性・可用性への攻撃\n",
    "* 最近，身代金を払わないと，データをインターネット上へ公開してしまう攻撃も増えてきている ⇒ 機密性への攻撃\n",
    "* 金銭目的の脅威は増大している"
   ]
  },
  {
   "cell_type": "markdown",
   "metadata": {
    "id": "7PKRbmuoSmUJ",
    "slideshow": {
     "slide_type": "slide"
    }
   },
   "source": [
    "#### 1.2.5 責任追跡性"
   ]
  },
  {
   "cell_type": "markdown",
   "metadata": {
    "id": "oNll6TNsSrZM",
    "slideshow": {
     "slide_type": "slide"
    }
   },
   "source": [
    "<figure>\n",
    "<a href=\"http://www.mi.u-tokyo.ac.jp/pdf/2-6_IT_security.pdf#page=12\"><img src='https://raw.githubusercontent.com/MDASH-shinshu/MDASH-T-DE/main/6/UTAI-text/JPEG/2-6_IT_security_12.jpg' alt='責任追跡性' width='640' border='1'></a>\n",
    "</figure>"
   ]
  },
  {
   "cell_type": "markdown",
   "metadata": {
    "id": "1Suq-9dES0AJ",
    "slideshow": {
     "slide_type": "slide"
    }
   },
   "source": [
    "#### 1.2.6 否認防止"
   ]
  },
  {
   "cell_type": "markdown",
   "metadata": {
    "id": "up0t0T1wS2bB",
    "slideshow": {
     "slide_type": "slide"
    }
   },
   "source": [
    "<figure>\n",
    "<a href=\"http://www.mi.u-tokyo.ac.jp/pdf/2-6_IT_security.pdf#page=13\"><img src='https://raw.githubusercontent.com/MDASH-shinshu/MDASH-T-DE/main/6/UTAI-text/JPEG/2-6_IT_security_13.jpg' alt='真正性' width='640' border='1'></a>\n",
    "</figure>"
   ]
  },
  {
   "cell_type": "markdown",
   "metadata": {
    "id": "GpIyKVO2S43h",
    "slideshow": {
     "slide_type": "slide"
    }
   },
   "source": [
    "#### 1.2.7 信頼性"
   ]
  },
  {
   "cell_type": "markdown",
   "metadata": {
    "id": "mZixGrkZS7Z7",
    "slideshow": {
     "slide_type": "slide"
    }
   },
   "source": [
    "<figure>\n",
    "<a href=\"http://www.mi.u-tokyo.ac.jp/pdf/2-6_IT_security.pdf#page=14\"><img src='https://raw.githubusercontent.com/MDASH-shinshu/MDASH-T-DE/main/6/UTAI-text/JPEG/2-6_IT_security_14.jpg' alt='真正性' width='640' border='1'></a>\n",
    "</figure>"
   ]
  },
  {
   "cell_type": "markdown",
   "metadata": {
    "id": "Xp4o-cM9TR6F",
    "slideshow": {
     "slide_type": "slide"
    }
   },
   "source": [
    "### 1.3 機密性の高い情報，情報の格付け"
   ]
  },
  {
   "cell_type": "markdown",
   "metadata": {
    "id": "-ae2YhFITlTt",
    "slideshow": {
     "slide_type": "slide"
    }
   },
   "source": [
    "機密性の高い情報\n",
    "* 適切にアクセス権を設定し確認する\n",
    "* やりとりには暗号化を行う\n",
    "* 暗号鍵の扱いは厳密にする\n",
    "* 通信相手やメディアの正当性を確認する（電子署名（後述）などを利用する）"
   ]
  },
  {
   "cell_type": "markdown",
   "metadata": {
    "id": "oJz1lt40T5Nj",
    "slideshow": {
     "slide_type": "slide"
    }
   },
   "source": [
    "<figure>\n",
    "<a href=\"http://www.mi.u-tokyo.ac.jp/pdf/2-6_IT_security.pdf#page=15\"><img src='https://raw.githubusercontent.com/MDASH-shinshu/MDASH-T-DE/main/6/UTAI-text/JPEG/2-6_IT_security_15.jpg' alt='情報の分類' width='640' border='1'></a>\n",
    "</figure>"
   ]
  },
  {
   "cell_type": "markdown",
   "metadata": {
    "id": "jdjL0e6gTt2Q",
    "slideshow": {
     "slide_type": "slide"
    }
   },
   "source": [
    "情報の格付け\n",
    "\n",
    "機密性\n",
    "* 機密性3情報：秘密文書\n",
    "* 機密性2情報：やや秘密文書\n",
    "* 機密性1情報：公開可能\n",
    "\n",
    "完全性\n",
    "* 完全性2情報：破損すると業務継続性が困難になる\n",
    "* 完全性1情報：上記以外の情報\n",
    "\n",
    "可用性\n",
    "* 可用性2情報：紛失すると業務に重大な障害をもたらす\n",
    "* 可用性1情報：上記以外の情報"
   ]
  },
  {
   "cell_type": "markdown",
   "metadata": {
    "id": "HCPhHlP-UOWl",
    "slideshow": {
     "slide_type": "slide"
    }
   },
   "source": [
    "## 2. 暗号方式（公開鍵暗号，電子署名，PKI）"
   ]
  },
  {
   "cell_type": "markdown",
   "metadata": {
    "id": "VFI8ABT-UXiu",
    "slideshow": {
     "slide_type": "slide"
    }
   },
   "source": [
    "### 2.1 暗号に関連するターム"
   ]
  },
  {
   "cell_type": "markdown",
   "metadata": {
    "id": "zkVNahdkUeZf",
    "slideshow": {
     "slide_type": "slide"
    }
   },
   "source": [
    "<figure>\n",
    "<a href=\"http://www.mi.u-tokyo.ac.jp/pdf/2-6_IT_security.pdf#page=20\"><img src='https://raw.githubusercontent.com/MDASH-shinshu/MDASH-T-DE/main/6/UTAI-text/JPEG/2-6_IT_security_20.jpg' alt='暗号で使われるターム' width='640' border='1'></a>\n",
    "</figure>"
   ]
  },
  {
   "cell_type": "markdown",
   "metadata": {
    "id": "FivlC_iLUajE",
    "slideshow": {
     "slide_type": "slide"
    }
   },
   "source": [
    "平文：誰でも内容（意味）を解釈できるデータ\n",
    "暗号文：権限がない人・団体・装置に内容を読み取られないように加工されたデータ\n",
    "暗号化：平文を暗号にする\n",
    "復号化：暗号文を平文にする\n",
    "\n",
    "暗号鍵：暗号化するときの鍵（情報）\n",
    "復号鍵：復号化するときの鍵（情報）※対にしないでバラバラになっていることもある\n",
    "\n",
    "送信者：平文を暗号化して送信する者（ノード）\n",
    "受信者：暗号文を受信する者（ノード）\n",
    "攻撃者：送受信者間の通信を傍受して，暗号文を平文に戻すことを試みる者（ノード）"
   ]
  },
  {
   "cell_type": "markdown",
   "metadata": {
    "id": "VbptjuRpUbxX",
    "slideshow": {
     "slide_type": "slide"
    }
   },
   "source": [
    "### 2.2 共通鍵暗号方式（古典暗号）"
   ]
  },
  {
   "cell_type": "markdown",
   "metadata": {
    "id": "P0A10AG9UuFz",
    "slideshow": {
     "slide_type": "slide"
    }
   },
   "source": [
    "<figure>\n",
    "<a href=\"http://www.mi.u-tokyo.ac.jp/pdf/2-6_IT_security.pdf#page=22\"><img src='https://raw.githubusercontent.com/MDASH-shinshu/MDASH-T-DE/main/6/UTAI-text/JPEG/2-6_IT_security_22.jpg' alt='共通鍵暗号方式' width='640' border='1'></a>\n",
    "</figure>"
   ]
  },
  {
   "cell_type": "markdown",
   "metadata": {
    "id": "0K241pJpUzXs",
    "slideshow": {
     "slide_type": "slide"
    }
   },
   "source": [
    "共通鍵暗号方式（古典暗号）\n",
    "\n",
    "* 送信者と受信者が共通の鍵を取り交わし，それを秘密鍵とする\n",
    "* 送信者が平文を秘密鍵で暗号化して送信し，受信者は受信した暗号文を秘密鍵で復号化する\n",
    "* 秘密鍵のセキュアな共有の手段が困難となる"
   ]
  },
  {
   "cell_type": "markdown",
   "metadata": {
    "id": "wLijzOPEZ0jl",
    "slideshow": {
     "slide_type": "slide"
    }
   },
   "source": [
    "#### Python PyCryptodomeライブラリを用いたAES暗号化・復号化処理の例"
   ]
  },
  {
   "cell_type": "code",
   "execution_count": null,
   "metadata": {
    "id": "PaMojgVSaLGo",
    "slideshow": {
     "slide_type": "slide"
    }
   },
   "outputs": [],
   "source": [
    "# PyCryptodomeライブラリをインストールする\n",
    "!pip install pycryptodome"
   ]
  },
  {
   "cell_type": "code",
   "execution_count": 2,
   "metadata": {
    "colab": {
     "base_uri": "https://localhost:8080/"
    },
    "executionInfo": {
     "elapsed": 319,
     "status": "ok",
     "timestamp": 1664007347671,
     "user": {
      "displayName": "和﨑克己",
      "userId": "01531185103078206810"
     },
     "user_tz": -540
    },
    "id": "ijgq2_ibaCkL",
    "outputId": "741d6bfc-8fb5-4f11-99eb-426de3713d54",
    "slideshow": {
     "slide_type": "slide"
    }
   },
   "outputs": [
    {
     "name": "stdout",
     "output_type": "stream",
     "text": [
      "b'\\xabO\\x04`y\\xdf\\r\\xadl\\xb5\\x1c\\xa5l\\x066L'\n"
     ]
    }
   ],
   "source": [
    "# AESと乱数生成用のパッケージをインポート\n",
    "from Crypto.Cipher import AES\n",
    "from Crypto.Random import get_random_bytes\n",
    "\n",
    "key = get_random_bytes(16) # 鍵生成(128bit)\n",
    "print(key) #共通鍵を表示してみる\n",
    "\n",
    "cipher = AES.new(key, AES.MODE_EAX) # 暗号器を生成する\n",
    "cipher_dec = AES.new(key, AES.MODE_EAX, cipher.nonce) # 復号器を生成する（nonceを渡している）"
   ]
  },
  {
   "cell_type": "code",
   "execution_count": 3,
   "metadata": {
    "colab": {
     "base_uri": "https://localhost:8080/"
    },
    "executionInfo": {
     "elapsed": 5,
     "status": "ok",
     "timestamp": 1664007348857,
     "user": {
      "displayName": "和﨑克己",
      "userId": "01531185103078206810"
     },
     "user_tz": -540
    },
    "id": "YF-1BgsHa90p",
    "outputId": "4d6ec334-fd01-420b-9d8d-92c17e9c77da",
    "slideshow": {
     "slide_type": "slide"
    }
   },
   "outputs": [
    {
     "name": "stdout",
     "output_type": "stream",
     "text": [
      "b'\\x8e\\x9b\\x9f\\xe9[\\x8b\\x92U\\x12H$\\xd2?J8\\x13c'\n",
      "b'Hello, AES World!'\n"
     ]
    }
   ],
   "source": [
    "data = b\"Hello, AES World!\" # 平文 暗号化する文字列\n",
    "ciphertext, tag = cipher.encrypt_and_digest(data) # 暗号化処理\n",
    "\n",
    "# 暗号文 ciphertext を確認する\n",
    "print(ciphertext)\n",
    "##print(tag)\n",
    "##print(cipher.nonce)\n",
    "\n",
    "dec_data = cipher_dec.decrypt_and_verify(ciphertext, tag) # 復号処理\n",
    "print(dec_data) # 復号処理後の平文を確認"
   ]
  },
  {
   "cell_type": "markdown",
   "metadata": {
    "id": "7q1fUGixU2uH",
    "slideshow": {
     "slide_type": "slide"
    }
   },
   "source": [
    "### 2.3 公開鍵暗号方式（現代暗号）"
   ]
  },
  {
   "cell_type": "markdown",
   "metadata": {
    "id": "OdUzGnbBU_CS",
    "slideshow": {
     "slide_type": "slide"
    }
   },
   "source": [
    "<figure>\n",
    "<a href=\"http://www.mi.u-tokyo.ac.jp/pdf/2-6_IT_security.pdf#page=23\"><img src='https://raw.githubusercontent.com/MDASH-shinshu/MDASH-T-DE/main/6/UTAI-text/JPEG/2-6_IT_security_23.jpg' alt='公開鍵暗号方式' width='640' border='1'></a>\n",
    "</figure>"
   ]
  },
  {
   "cell_type": "markdown",
   "metadata": {
    "id": "ZFG_abA7VDsP",
    "slideshow": {
     "slide_type": "slide"
    }
   },
   "source": [
    "公開鍵暗号方式（現代暗号）\n",
    "\n",
    "* 受信者が，暗号鍵を予め公開しておく\n",
    "* 鍵の管理が容易となるが，暗号鍵から復号鍵が容易に推定できないようにする\n",
    "* 受信者の復号鍵は秘密にしておく"
   ]
  },
  {
   "cell_type": "markdown",
   "metadata": {
    "id": "IWzSZttIVFJU",
    "slideshow": {
     "slide_type": "slide"
    }
   },
   "source": [
    "#### 2.3.1 RSA公開鍵暗号方式\n",
    "\n",
    "* Rivest, Shamir, Adlemanが発明したので頭文字を取ってRSAと呼ばれている．\n",
    "* 暗号鍵から復号鍵が容易に推定できないようにするため，(巨大な)素数の素因数分解の推定困難性を利用している（計算量的安全性）\n",
    "* 理論基盤としては，フェルマーの小定理，中国風剰余定理が用いられている\n",
    "\n",
    "受信者の鍵生成の手順\n",
    "1. 受信者が2つの素数 p, q を選ぶ\n",
    "2. n = p x q とする\n",
    "3. (p-1)(q-1) と互いに素な数のうち，1つを e とおく\n",
    "4. e x d = (p-1)(q-1) x k * 1 を満たすような整数 d, k のペアを求めておく"
   ]
  },
  {
   "cell_type": "markdown",
   "metadata": {
    "id": "TucN-DsaVGlm",
    "slideshow": {
     "slide_type": "slide"
    }
   },
   "source": [
    "#### 2.3.2 RSA公開鍵暗号方式による暗号・復号手順\n",
    "\n",
    "受信者の公開鍵の情報\n",
    "* ここまでで揃っている情報は 素数p,q と 整数 n, e, d, k の6つとなるが，公開するのは <n, e> の対のみとする．\n",
    "* nだけの情報では因数p,qを求めるのが困難で，かつ eだけの情報では最後のステップ4.で計算した <n, d> の対の推定が困難である．\n",
    "\n",
    "送信者の暗号文生成手順\n",
    "1. xを平文とする\n",
    "2. y = x^e mod n を求める（公開鍵情報<n, e>に基づいた暗号化）\n",
    "3. yを送信する\n",
    "\n",
    "受信者の復号手順\n",
    "1. yを受信する\n",
    "2. x = y^d mod n を求める（秘密鍵情報<n, d>に基づいた復号化>）\n",
    "3. xが平文として得られた"
   ]
  },
  {
   "cell_type": "markdown",
   "metadata": {
    "id": "1BFjo1eYVSSi",
    "slideshow": {
     "slide_type": "slide"
    }
   },
   "source": [
    "#### 2.3.3 計算例\n",
    "\n",
    "鍵生成\n",
    "1. p=3, q=11 の場合，p x q = 33. (p-1)(q-1) = 20 と互いに素な数として e=7 を取る．\n",
    "2. 7 x d = (p-1)(q-1) x k * 1 を満たす d=3, k=1 を取る．\n",
    "3. n=33, e=7 を公開する\n",
    "\n",
    "暗号化\n",
    "4. 平文 x=6 とすると，y = x^e mod n = 6^7 mod 33 = 279936 mod 33 = 30（これが暗号文）\n",
    "\n",
    "復号化\n",
    "5. 暗号文 y=33を受信し，x = y^d mod n = 30^3 mod 33 = 27000 mod 33 = 6（平文が得られた）"
   ]
  },
  {
   "cell_type": "markdown",
   "metadata": {
    "id": "b8oXxBMyVVxi",
    "slideshow": {
     "slide_type": "slide"
    }
   },
   "source": [
    "量子コンピュータの出現と計算量的安全性の関係について\n",
    "\n",
    "* 量子コンピュータを使うと，巨大な素数の因数分解が高速にできる可能性があるので，RSA暗号化方式が危殆化してしまう．\n",
    "* 量子耐性を持つような暗号化方式（楕円曲線暗号など）が研究されている"
   ]
  },
  {
   "cell_type": "markdown",
   "metadata": {
    "id": "j6rWN-vXVX22",
    "slideshow": {
     "slide_type": "slide"
    }
   },
   "source": [
    "### 2.4 ハッシュ（一方向性関数）"
   ]
  },
  {
   "cell_type": "markdown",
   "metadata": {
    "id": "1zArbzMtVdT2",
    "slideshow": {
     "slide_type": "slide"
    }
   },
   "source": [
    "<figure>\n",
    "<a href=\"http://www.mi.u-tokyo.ac.jp/pdf/2-6_IT_security.pdf#page=24\"><img src='https://raw.githubusercontent.com/MDASH-shinshu/MDASH-T-DE/main/6/UTAI-text/JPEG/2-6_IT_security_24.jpg' alt='ハッシュ' width='640' border='1'></a>\n",
    "</figure>"
   ]
  },
  {
   "cell_type": "markdown",
   "metadata": {
    "id": "Si1PA9MMVi8j",
    "slideshow": {
     "slide_type": "slide"
    }
   },
   "source": [
    "### 2.5 電子署名（デジタル署名）"
   ]
  },
  {
   "cell_type": "markdown",
   "metadata": {
    "id": "nZRuNqMkVnmv",
    "slideshow": {
     "slide_type": "slide"
    }
   },
   "source": [
    "<figure>\n",
    "<a href=\"http://www.mi.u-tokyo.ac.jp/pdf/2-6_IT_security.pdf#page=25\"><img src='https://raw.githubusercontent.com/MDASH-shinshu/MDASH-T-DE/main/6/UTAI-text/JPEG/2-6_IT_security_25.jpg' alt='ハッシュ' width='640' border='1'></a>\n",
    "</figure>"
   ]
  },
  {
   "cell_type": "markdown",
   "metadata": {
    "id": "AKHWfKZPVrMD",
    "slideshow": {
     "slide_type": "slide"
    }
   },
   "source": [
    "RSAによる電子署名手順\n",
    "\n",
    "* RSA暗号化方式の場合には平文を公開鍵で暗号化していた\n",
    "* 電子証明を行う場合は，暗号鍵と復号鍵の役割を逆にして用いる．つまり，暗号鍵<n, d>の方を公開する\n",
    "\n",
    "発信者の電子署名手順\n",
    "1. xを平文とする\n",
    "2. y = x^e mod n を求める（秘密鍵情報<n, e>に基づいた暗号化）\n",
    "3. x, y の対を送信する（xが書類, yが書類xに対して公開暗号鍵を用いた署名）\n",
    "\n",
    "受信者の署名の検証手順\n",
    "1. x, y の対を受信する\n",
    "2. y^d mod n を求めて（公開鍵情報<n, d>に基づいた復号化>）これがxと一致するか検証する\n",
    "3. 一致していれば署名が正しい（送信者が正しい）ことがわかる"
   ]
  },
  {
   "cell_type": "markdown",
   "metadata": {
    "id": "DQy0AdOTVx1y",
    "slideshow": {
     "slide_type": "slide"
    }
   },
   "source": [
    "### 2.6 公開鍵基盤(Public Key Infrastructure:PKI)"
   ]
  },
  {
   "cell_type": "markdown",
   "metadata": {
    "id": "1DEmjmu5VzOz",
    "slideshow": {
     "slide_type": "slide"
    }
   },
   "source": [
    "<figure>\n",
    "<a href=\"http://www.mi.u-tokyo.ac.jp/pdf/2-6_IT_security.pdf#page=26\"><img src='https://raw.githubusercontent.com/MDASH-shinshu/MDASH-T-DE/main/6/UTAI-text/JPEG/2-6_IT_security_26.jpg' alt='PKI' width='640' border='1'></a>\n",
    "</figure>"
   ]
  },
  {
   "cell_type": "markdown",
   "metadata": {
    "id": "c_TK1Z6uV6n_",
    "slideshow": {
     "slide_type": "slide"
    }
   },
   "source": [
    "PKI : 電子署名の公開鍵に対する認証局（Authority）の存在\n",
    "\n",
    "発信者のなりすましを防ぐために，発信者の実在性を担保した公開鍵の認証を行う\n",
    "「認証局」と，発信者・受信者とのプロトコルが必要になる．\n",
    "これはPKI（公開鍵認証基盤）としてインターネットに整備されている．\n",
    "\n",
    "発信者の公開鍵登録\n",
    "1. 認証局へ，自分の公開鍵（復号鍵）と，ID情報（通常はドメイン）を登録する\n",
    "\n",
    "認証局の承認\n",
    "2. 発信者の登録情報，実在性をチェックした上で，申請を認める\n",
    "\n",
    "受信者の署名の確認\n",
    "3. 認証局の正しさは，WebブラウザやOSなどの基盤ソフトウェアに予め書き込まれている．\n",
    "4. 受信した署名の正しさの検証を行う際，公開鍵の正しさを認証局へ問い合わせる．"
   ]
  },
  {
   "cell_type": "markdown",
   "metadata": {
    "id": "B3WAI73xWGPW",
    "slideshow": {
     "slide_type": "slide"
    }
   },
   "source": [
    "<figure>\n",
    "<a href=\"http://www.mi.u-tokyo.ac.jp/pdf/2-6_IT_security.pdf#page=27\"><img src='https://raw.githubusercontent.com/MDASH-shinshu/MDASH-T-DE/main/6/UTAI-text/JPEG/2-6_IT_security_27.jpg' alt='PKI' width='640' border='1'></a>\n",
    "</figure>"
   ]
  },
  {
   "cell_type": "markdown",
   "metadata": {
    "id": "avnUalr-dVck",
    "slideshow": {
     "slide_type": "slide"
    }
   },
   "source": [
    "#### Python PyCryptodomeライブラリを用いたRSA暗号化・復号化処理の例"
   ]
  },
  {
   "cell_type": "markdown",
   "metadata": {
    "id": "DRI8d1o0WJO_",
    "slideshow": {
     "slide_type": "slide"
    }
   },
   "source": [
    "PKCS #7 による暗号化・署名処理\n",
    "\n",
    "[参考：6 章 セキュリティプロトコル - 電子情報通信学会知識ベース](https://www.ieice-hbkb.org/files/03/03gun_07hen_06.pdf)\n",
    "\n",
    "SSL/TLSインターネットコネクションの暗号トンネル方式\n",
    "\n",
    "[参考：GMO | SSLのバージョンについて](https://www.epsilon.jp/ssl/ssl_version.html)"
   ]
  },
  {
   "cell_type": "code",
   "execution_count": 7,
   "metadata": {
    "id": "sQbj5bDbddxI",
    "slideshow": {
     "slide_type": "slide"
    }
   },
   "outputs": [
    {
     "name": "stdout",
     "output_type": "stream",
     "text": [
      "-----BEGIN PUBLIC KEY-----\r\n",
      "MIIBIjANBgkqhkiG9w0BAQEFAAOCAQ8AMIIBCgKCAQEAqEtd0sSu8mIjMIA8YX/Y\r\n",
      "ABbWpV9yTNE13FizRFdq7yUxsnK/4pbk0eviyDqXbW22ZMaXSuoPF9NqSjMOOFMO\r\n",
      "50462i9LnC0jZjPI/LazvjIqvjFKqBjEMs17yAbkLJQ7WP6SDkZNrspDR2FOl8oI\r\n",
      "eU5Xtm6FNoFmbAv0qEclIRic15Jo2m1HVlI7bciOkCCfZBbpcrdQKUfBGlm2prFd\r\n",
      "gXb0biK7cqQFJGu/AFyiQUX5OldheMYHQ7LPeAf4FicZUNH3ynUBoBAfBBzyXUht\r\n",
      "GJ7Iy06vP45IlJvOfy7fVdoiL7FQzMzTdctFEjBewDXh8ZTfVoxBXo4/4ke2Ix0L\r\n",
      "6wIDAQAB\r\n",
      "-----END PUBLIC KEY-----"
     ]
    }
   ],
   "source": [
    "## (step 1) 秘密鍵・公開鍵の作成 【本来は受信側の準備プロセス】\n",
    "\n",
    "# RSAパッケージをインポート\n",
    "from Crypto.PublicKey import RSA\n",
    "\n",
    "# 秘密鍵の生成とファイルへのエクスポート\n",
    "key = RSA.generate(2048) # 鍵長 n が 2048bit\n",
    "private_key = key.export_key()\n",
    "file_out = open(\"private.pem\", \"wb\")\n",
    "file_out.write(private_key)\n",
    "file_out.close()\n",
    " \n",
    "# 公開鍵の生成とファイルへのエクスポート\n",
    "public_key = key.publickey().export_key()\n",
    "file_out = open(\"public.pem\", \"wb\")\n",
    "file_out.write(public_key)\n",
    "file_out.close()\n",
    "\n",
    "# 作業用フォルダに，確かに private/public.pem ファイルが保存されているか確認する(中身も見てみると良い)\n",
    "# 実際のサーバSSL環境では，public.pemを認証局へ登録する作業が伴う\n",
    "##!ls -al\n",
    "##!cat private.pem\n",
    "!cat public.pem"
   ]
  },
  {
   "cell_type": "code",
   "execution_count": 5,
   "metadata": {
    "executionInfo": {
     "elapsed": 433,
     "status": "ok",
     "timestamp": 1664007366867,
     "user": {
      "displayName": "和﨑克己",
      "userId": "01531185103078206810"
     },
     "user_tz": -540
    },
    "id": "4m0tUNsSfRjZ",
    "slideshow": {
     "slide_type": "slide"
    }
   },
   "outputs": [],
   "source": [
    "## (step 2) 公開鍵を使ったデータの暗号化 【本来は送信側のプロセス】\n",
    "\n",
    "# RSAと乱数生成，RSAのパディング PKCS/OAEP, データ暗号化のためのAESパッケージをインポート\n",
    "# 参考：https://qiita.com/kj1/items/aebbb73a034f36d73e40\n",
    "from Crypto.PublicKey import RSA\n",
    "from Crypto.Random import get_random_bytes\n",
    "from Crypto.Cipher import AES, PKCS1_OAEP\n",
    "\n",
    "data = b\"Hello, RSA World!\" # 平文 暗号化する文字列\n",
    "file_out = open(\"encrypted_data.txt\", \"wb\") # 暗号化文を格納するファイル（本来は送信メッセージ）\n",
    "\n",
    "recipient_key = RSA.import_key(open(\"public.pem\").read()) # 公開鍵の設定（実際は送信先ドメイン情報等からPKIプロトコルで真正性確認を行う）\n",
    "session_key = get_random_bytes(16) # セッション鍵を生成\n",
    " \n",
    "# セッションキーをRSA公開鍵で暗号化する\n",
    "cipher_rsa = PKCS1_OAEP.new(recipient_key)\n",
    "enc_session_key = cipher_rsa.encrypt(session_key)\n",
    " \n",
    "# データをAESセッションキーで暗号化\n",
    "cipher_aes = AES.new(session_key, AES.MODE_EAX)\n",
    "ciphertext, tag = cipher_aes.encrypt_and_digest(data)\n",
    "\n",
    "# RSA公開鍵暗号済セッションキー， AES共通鍵暗号のnonce/タグ値, および AESセッションキーで暗号化した暗号文を並べてファイルへ書き出す\n",
    "[file_out.write(x) for x in (enc_session_key, cipher_aes.nonce, tag, ciphertext)]\n",
    "file_out.close()\n"
   ]
  },
  {
   "cell_type": "code",
   "execution_count": null,
   "metadata": {
    "colab": {
     "base_uri": "https://localhost:8080/"
    },
    "executionInfo": {
     "elapsed": 386,
     "status": "ok",
     "timestamp": 1664007550129,
     "user": {
      "displayName": "和﨑克己",
      "userId": "01531185103078206810"
     },
     "user_tz": -540
    },
    "id": "VfxLZMz0jLMu",
    "outputId": "f87d7a81-17bd-441a-e1b2-a3203f8810a2",
    "slideshow": {
     "slide_type": "slide"
    }
   },
   "outputs": [],
   "source": [
    "## (step 3) 秘密鍵を使ったデータの復号化 【本来は受信側のプロセス】\n",
    "\n",
    "# RSA, RSAのパディング PKCS/OAEP, データ復号化のためのAESパッケージをインポート\n",
    "# 参考：https://qiita.com/kj1/items/aebbb73a034f36d73e40\n",
    "from Crypto.PublicKey import RSA\n",
    "from Crypto.Cipher import AES, PKCS1_OAEP\n",
    " \n",
    "private_key = RSA.import_key(open(\"private.pem\").read()) # 秘密鍵の設定（本来はヒミツの場所に置いてある）\n",
    "\n",
    "file_in = open(\"encrypted_data.txt\", \"rb\") # 暗号化文を読み出すファイル（本来は受信メッセージ）\n",
    "# RSA公開鍵暗号済セッションキー， AES共通鍵暗号のnonce/タグ値, および AESセッションキーで暗号化した暗号文の順番でファイルから読み出す\n",
    "enc_session_key, nonce, tag, ciphertext = \\\n",
    "    [file_in.read(x) for x in (private_key.size_in_bytes(), 16, 16, -1)]\n",
    "\n",
    "# セッションキーをRSA秘密鍵で復号する\n",
    "cipher_rsa = PKCS1_OAEP.new(private_key)\n",
    "session_key = cipher_rsa.decrypt(enc_session_key)\n",
    " \n",
    "# データをAESセッションキーで復号する\n",
    "cipher_aes = AES.new(session_key, AES.MODE_EAX, nonce)\n",
    "data = cipher_aes.decrypt_and_verify(ciphertext, tag)\n",
    "\n",
    "print(data)\n",
    "## 暗号文 encrypted_data.txt を適当に変更（メッセージ改竄）すると，正常に復号できなくなることを確かめよ．\n",
    "## また，同じ公開鍵・秘密鍵であっても，別のセッションキーでAES暗号化したメッセージは，元のセッションキーでは読めなくなる．"
   ]
  },
  {
   "cell_type": "markdown",
   "metadata": {
    "id": "1AaYTwYIWNkU",
    "slideshow": {
     "slide_type": "slide"
    }
   },
   "source": [
    "## 3. ユーザ認証とアクセス管理"
   ]
  },
  {
   "cell_type": "markdown",
   "metadata": {
    "id": "PGfjFJrbW_zQ",
    "slideshow": {
     "slide_type": "slide"
    }
   },
   "source": [
    "### 3.1 アクセス制御"
   ]
  },
  {
   "cell_type": "markdown",
   "metadata": {
    "id": "OJ0OkrqvXCwO",
    "slideshow": {
     "slide_type": "slide"
    }
   },
   "source": [
    "<figure>\n",
    "<a href=\"http://www.mi.u-tokyo.ac.jp/pdf/2-6_IT_security.pdf#page=28\"><img src='https://raw.githubusercontent.com/MDASH-shinshu/MDASH-T-DE/main/6/UTAI-text/JPEG/2-6_IT_security_28.jpg' alt='PKI' width='640' border='1'></a>\n",
    "</figure>"
   ]
  },
  {
   "cell_type": "markdown",
   "metadata": {
    "id": "kIA1JQKcXLe-",
    "slideshow": {
     "slide_type": "slide"
    }
   },
   "source": [
    "情報セキュリティの7要素\n",
    "\n",
    "3要素（機密性，完全性，可用性）に加えられた4つの新たな概念\n",
    "\n",
    "* 信頼性：システムが正しく動作する\n",
    "* 真正性：アクセスする人や団体が許可を得ている（機密性の一部が独立している）\n",
    "* 責任追跡性：アクセスする人や団体の操作を追跡できる\n",
    "* 否認防止：あとから覆されない"
   ]
  },
  {
   "cell_type": "markdown",
   "metadata": {
    "id": "YQ9JxAxxXNyZ",
    "slideshow": {
     "slide_type": "slide"
    }
   },
   "source": [
    "### 3.2 ユーザ認証"
   ]
  },
  {
   "cell_type": "markdown",
   "metadata": {
    "id": "OsC591UBXk6e",
    "slideshow": {
     "slide_type": "slide"
    }
   },
   "source": [
    "ユーザ認証\n",
    "\n",
    "主体が正しく権限を持っているかを確認する\n",
    "* 主体（エンティティ）：人，組織，機械\n",
    "\n",
    "機密性の一部である「真正性」の確保を目的としている\n",
    "\n",
    "ユーザ認証の3つの方法\n",
    "* 知識認証（ID/パスワード，秘密の合言葉など）\n",
    "* 物理認証（Felicaカードなど）\n",
    "* 生体認証（指紋認証，静脈認証など）\n"
   ]
  },
  {
   "cell_type": "markdown",
   "metadata": {
    "id": "-u8NDTsBXZq7",
    "slideshow": {
     "slide_type": "slide"
    }
   },
   "source": [
    "<figure>\n",
    "<a href=\"http://www.mi.u-tokyo.ac.jp/pdf/2-6_IT_security.pdf#page=29\"><img src='https://raw.githubusercontent.com/MDASH-shinshu/MDASH-T-DE/main/6/UTAI-text/JPEG/2-6_IT_security_29.jpg' alt='ユーザ認証' width='640' border='1'></a>\n",
    "</figure>"
   ]
  },
  {
   "cell_type": "markdown",
   "metadata": {
    "id": "23I1tm0WXdq1",
    "slideshow": {
     "slide_type": "slide"
    }
   },
   "source": [
    "<figure>\n",
    "<a href=\"http://www.mi.u-tokyo.ac.jp/pdf/2-6_IT_security.pdf#page=30\"><img src='https://raw.githubusercontent.com/MDASH-shinshu/MDASH-T-DE/main/6/UTAI-text/JPEG/2-6_IT_security_30.jpg' alt='ユーザ認証' width='640' border='1'></a>\n",
    "</figure>"
   ]
  },
  {
   "cell_type": "markdown",
   "metadata": {
    "id": "8fRzgXIYXrhs",
    "slideshow": {
     "slide_type": "slide"
    }
   },
   "source": [
    "知識認証（いわゆるID/パスワード方式）\n",
    "\n",
    "システム内部にはパスワードの設定値が保存されない\n",
    "* 設定値は，一方向性関数でハッシュ化されて保存されることが多い\n",
    "* 一方向性が考慮されていないシステムは，パスワード情報をハッシュ化しないでデータベースに保存している\n",
    "⇒非常に危険で，大規模なパスワード漏洩事故を起こすと甚大な被害が発生する\n",
    "\n",
    "利用者認証の手順\n",
    "1. 利用者が入力したパスワード文字列を，ハッシュ化する\n",
    "2. システム側で保存してある設定値と同じであるなら，パスワードが正しいものとして認証する"
   ]
  },
  {
   "cell_type": "markdown",
   "metadata": {
    "id": "qZ-VeT_1Xteu",
    "slideshow": {
     "slide_type": "slide"
    }
   },
   "source": [
    "2段階認証方式 (2FA)\n",
    "\n",
    "2段階1要素認証方式\n",
    "* 第1段階：知識認証（ID/パスワード）\n",
    "* 第2段階：知識認証（秘密の合言葉など）※重要な操作，定期的に実施する\n",
    "\n",
    "2段階2要素認証方式\n",
    "* 第1段階：知識認証（ID/パスワード）\n",
    "* 第2段階：物理認証（当人が持っているデバイス（スマホなど）のSMS/メールに認証コードを送って入力させる）\n",
    "\n",
    "2要素認証を組み合わることによって，なりすましのリスクは下げることができる．\n",
    "* 物理認証 x 知識認証（ICカードをかざして，次にパスワード・パスコード入力）※クレカなどでよくある方式\n",
    "* 生体認証 x 知識認証（静脈認証を通過した後，次にパスワード・パスコード入力）※銀行ATMでよくある方式\n",
    "* 物理認証 x 生体認証（ICカードをかざして，その後に指紋リーダを通過）※機密性の高いビルの入退出管理でよくある方式"
   ]
  },
  {
   "cell_type": "markdown",
   "metadata": {
    "id": "3EUXtwQIX04P",
    "slideshow": {
     "slide_type": "slide"
    }
   },
   "source": [
    "## 4. セキュリティホールと脆弱性への対応"
   ]
  },
  {
   "cell_type": "markdown",
   "metadata": {
    "id": "YVXvfdObX4Vl",
    "slideshow": {
     "slide_type": "slide"
    }
   },
   "source": [
    "### 4.1 セキュリティホールと脆弱性"
   ]
  },
  {
   "cell_type": "markdown",
   "metadata": {
    "id": "jeB6YxtTX6da",
    "slideshow": {
     "slide_type": "slide"
    }
   },
   "source": [
    "セキュリティホール\n",
    "* コンピュータの動作上，情報セキュリティを損なう可能性がある(OSなど基盤ソフトウェア上の)動作\n",
    "\n",
    "脆弱性は，より広い概念となる\n",
    "* セキュリティホール\n",
    "* 人（組織）の問題\n",
    "* ソフトウェアバグ"
   ]
  },
  {
   "cell_type": "markdown",
   "metadata": {
    "id": "QFWMiqIgX9BT",
    "slideshow": {
     "slide_type": "slide"
    }
   },
   "source": [
    "### 4.2 セキュリティホールと脆弱性への対応"
   ]
  },
  {
   "cell_type": "markdown",
   "metadata": {
    "id": "UmbZLRZKYBNO",
    "slideshow": {
     "slide_type": "slide"
    }
   },
   "source": [
    "ソフトウェアのアップデート\n",
    "* ソフトウェアは人間が作成したもので，完全ではない\n",
    "* 不完全なところ，セキュリティホールは発見され次第，逐次更新される（セキュリティ・アップデート）\n",
    "* 大規模な更新が行われる場合，古いバージョンのソフトウェアは更新されなくなる（メジャー・アップデート）\n",
    "\n",
    "セキュリティホールと脆弱性への対応\n",
    "\n",
    "* Windows 8, 8.1 は，2023.1.10にセキュリティ延長サポートが終了する\n",
    "* Windows 10 は 2025.10.14にセキュリティ延長サポートが終了する\n",
    "\n",
    "セキュリティ・アップデートを行わなかった場合\n",
    "\n",
    "* 発見されたセキュリティホールを攻撃される\n",
    "* 通常はセキュリティホールが発見されても，広く知られることがない\n",
    "* OSやアプリの製作者がアップデートを公開するまで，セキュリティホールが知られないことが多い（ゼロデイ攻撃）\n"
   ]
  },
  {
   "cell_type": "markdown",
   "metadata": {
    "id": "TNpgevMiYG50",
    "slideshow": {
     "slide_type": "slide"
    }
   },
   "source": [
    "### 4.3 ゼロデイ攻撃，標的型攻撃"
   ]
  },
  {
   "cell_type": "markdown",
   "metadata": {
    "id": "TrplPQMLYJlc",
    "slideshow": {
     "slide_type": "slide"
    }
   },
   "source": [
    "#### ゼロデイ攻撃とは\n",
    "\n",
    "ソフトウェアなどのセキュリティホールが発見されてから，その情報公開や対策が講じられる前に，そのセキュリティホールを狙う攻撃のこと．脆弱性発見から日にちを空けない攻撃が名前の由来である．\n",
    "\n",
    "[参考:IPA情報セキュリティ10大脅威にみるセキュリティリスク―内在する脆弱性を悪用したゼロデイ攻撃とは―](https://www.sqat.jp/kawaraban/18706/)"
   ]
  },
  {
   "cell_type": "markdown",
   "metadata": {
    "id": "1Kjr4bszYmiC",
    "slideshow": {
     "slide_type": "slide"
    }
   },
   "source": [
    "#### 標的型攻撃とは\n",
    "\n",
    "> 特定の組織や人を狙って行われる標的型サイバー攻撃は、近年大きな脅威となっています。ソーシャルエンジニアリング手法を駆使した標的型攻撃メールや、セキュリティソフト等による検知を回避し侵入の痕跡を巧妙に隠蔽しながら活動するマルウェアなど、手口や技術も年々高度化しています。\n",
    "　>　IPAでは、標的型サイバー攻撃による被害拡大防止のため、標的型サイバー攻撃に関する情報やガイド、企業・組織向けの相談窓口や対応支援、情報共有の仕組みの提供など、様々な取組みを行っています。\n",
    "\n",
    "[参考:IPA情報処理推進機構 | 標的型サイバー攻撃対策](https://www.ipa.go.jp/security/ta/index.html)"
   ]
  },
  {
   "cell_type": "markdown",
   "metadata": {
    "id": "DHQkZ7WJJOXd",
    "slideshow": {
     "slide_type": "slide"
    }
   },
   "source": [
    "# memo"
   ]
  }
 ],
 "metadata": {
  "celltoolbar": "Slideshow",
  "colab": {
   "collapsed_sections": [
    "DHQkZ7WJJOXd"
   ],
   "provenance": []
  },
  "kernelspec": {
   "display_name": "Python 3 (ipykernel)",
   "language": "python",
   "name": "python3"
  },
  "language_info": {
   "codemirror_mode": {
    "name": "ipython",
    "version": 3
   },
   "file_extension": ".py",
   "mimetype": "text/x-python",
   "name": "python",
   "nbconvert_exporter": "python",
   "pygments_lexer": "ipython3",
   "version": "3.10.6"
  }
 },
 "nbformat": 4,
 "nbformat_minor": 1
}
